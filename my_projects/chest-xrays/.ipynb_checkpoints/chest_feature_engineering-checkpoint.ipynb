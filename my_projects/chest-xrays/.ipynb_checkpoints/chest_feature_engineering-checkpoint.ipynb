{
 "cells": [
  {
   "cell_type": "code",
   "execution_count": 1,
   "metadata": {},
   "outputs": [],
   "source": [
    "%reload_ext autoreload\n",
    "%autoreload 2\n",
    "%matplotlib inline"
   ]
  },
  {
   "cell_type": "markdown",
   "metadata": {},
   "source": [
    "# Predict a chest disease"
   ]
  },
  {
   "cell_type": "code",
   "execution_count": 1,
   "metadata": {},
   "outputs": [],
   "source": [
    "import sys\n",
    "sys.path.append(\"../../fastai/\")"
   ]
  },
  {
   "cell_type": "code",
   "execution_count": 2,
   "metadata": {},
   "outputs": [],
   "source": [
    "from fastai.imports import *\n",
    "from fastai.plots import *"
   ]
  },
  {
   "cell_type": "code",
   "execution_count": 7,
   "metadata": {},
   "outputs": [],
   "source": [
    "PATH = \"/home/sathiesh/Deep_Learning_Kaliy/my_projects/chest-xrays/data/\"  #MMIV\n",
    "#PATH = \"/Users/Sathiesh/MachineLearning/Deep_Learning_Kaliy/my_projects/chest-xrays/data/\" #Home"
   ]
  },
  {
   "cell_type": "code",
   "execution_count": 8,
   "metadata": {},
   "outputs": [],
   "source": [
    "label_csv = f'{PATH}Data_Entry_2017.csv' "
   ]
  },
  {
   "cell_type": "code",
   "execution_count": 9,
   "metadata": {},
   "outputs": [],
   "source": [
    "df = pd.read_csv(label_csv).drop(['Follow-up #','Patient ID', 'Patient Age', 'Patient Gender', 'View Position',\n",
    "              'OriginalImageWidth', 'OriginalHeight', 'OriginalImagePixelSpacingx', 'OriginalImagePixelSpacingy', 'Unnamed: 11'],axis=1)"
   ]
  },
  {
   "cell_type": "code",
   "execution_count": null,
   "metadata": {},
   "outputs": [],
   "source": [
    "df_sorted_diseases = df.pivot_table(index='Finding Labels', aggfunc=len).sort_values('Image Index', ascending=False) "
   ]
  },
  {
   "cell_type": "code",
   "execution_count": null,
   "metadata": {},
   "outputs": [],
   "source": [
    "def chestX_info(): \n",
    "    df_sorted_diseases[0:10].plot(kind='bar',figsize=(13,8))"
   ]
  },
  {
   "cell_type": "code",
   "execution_count": 14,
   "metadata": {},
   "outputs": [
    {
     "name": "stdout",
     "output_type": "stream",
     "text": [
      "Effusion: 3955\n",
      "Total apperance: 13317\n",
      "Number of rows that must be deleted: 9362\n"
     ]
    }
   ],
   "source": [
    "def disease_finding(disease_name):\n",
    "    df_disease = df_sorted_diseases[df_sorted_diseases.index.str.contains(disease_name)]\n",
    "    disease_row = df_sorted_diseases.loc[disease_name]['Image Index']\n",
    "    total_apperance = sum(df_disease['Image Index'])\n",
    "    print(disease_name +': ' + str(disease_row) + '\\n'+ 'Total apperance: ' + str(total_apperance)+ '\\n'\n",
    "      +'Number of rows that must be deleted: ' + (str)(total_apperance - disease_row))"
   ]
  },
  {
   "cell_type": "code",
   "execution_count": null,
   "metadata": {},
   "outputs": [],
   "source": [
    "def remove_comined_rows(disease_name):\n",
    "    temp_df = df\n",
    "    temp_df['searching_disease'] = temp_df['Finding Labels'].str.contains(disease_name)\n",
    "    temp_df = temp_df[temp_df['searching_disease']]; #all rows with disease_name \n",
    "\n",
    "    temp_df['Finding Labels'] = temp_df['Finding Labels'].str.replace('|','REMOVE')\n",
    "    temp_df['searching_disease'] = temp_df['Finding Labels'].str.contains('REMOVE')\n",
    "    arr = np.array(temp_df[temp_df['searching_disease']].index) #labeled as disease_name + another disease\n",
    "    return arr;"
   ]
  },
  {
   "cell_type": "markdown",
   "metadata": {},
   "source": [
    "Remove all indexes that have <b> disease_name</b> + another disease from the dataframe. "
   ]
  },
  {
   "cell_type": "code",
   "execution_count": null,
   "metadata": {},
   "outputs": [],
   "source": [
    "def clean_label(disease_name):\n",
    "    disease_df = df\n",
    "    \n",
    "    disease_df = disease_df.drop(remove_comined_rows(disease_name))\n",
    "    disease_df = disease_df.reset_index(drop=True)\n",
    "    \n",
    "    df_sorted = disease_df.pivot_table(index='searching_disease', aggfunc=len).sort_values('Image Index') \n",
    "    df_sorted.index = [disease_name,'Other']\n",
    "    \n",
    "    disease_count = df_sorted['Image Index'][0]\n",
    "    other_disease_count = df_sorted['Image Index'][1]\n",
    "    ratio = (other_disease_count// disease_count)-1\n",
    "    disease_df = disease_df.append([disease_df[disease_df.searching_disease]]*ratio, ignore_index=True)\n",
    "    \n",
    "    df_sorted = disease_df.pivot_table(index='searching_disease', aggfunc=len).sort_values('Image Index') \n",
    "    df_sorted.index = [disease_name,'Other']\n",
    "    df_sorted['Image Index'].plot(kind='bar', title=\"Other diseases vs \"+disease_name)\n",
    "    \n",
    "    disease_df = disease_df.drop(['Finding Labels'], axis=1)\n",
    "    \n",
    "    cleaned_label_path = f'{PATH}/cleaned_labels/{disease_name}.csv'\n",
    "    disease_df.to_csv(cleaned_label_path, index=False)\n",
    "    return disease_df; "
   ]
  }
 ],
 "metadata": {
  "kernelspec": {
   "display_name": "fastai",
   "language": "python",
   "name": "fastai"
  },
  "language_info": {
   "codemirror_mode": {
    "name": "ipython",
    "version": 3
   },
   "file_extension": ".py",
   "mimetype": "text/x-python",
   "name": "python",
   "nbconvert_exporter": "python",
   "pygments_lexer": "ipython3",
   "version": "3.6.5"
  }
 },
 "nbformat": 4,
 "nbformat_minor": 2
}
