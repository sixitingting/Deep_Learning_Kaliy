{
 "cells": [
  {
   "cell_type": "code",
   "execution_count": 2,
   "metadata": {},
   "outputs": [],
   "source": [
    "%reload_ext autoreload\n",
    "%autoreload 2\n",
    "%matplotlib inline"
   ]
  },
  {
   "cell_type": "code",
   "execution_count": 3,
   "metadata": {},
   "outputs": [],
   "source": [
    "import sys\n",
    "sys.path.append(\"../../fastai/\")"
   ]
  },
  {
   "cell_type": "code",
   "execution_count": 4,
   "metadata": {},
   "outputs": [],
   "source": [
    "from fastai.imports import *\n",
    "from fastai.transforms import *\n",
    "from fastai.conv_learner import *\n",
    "from fastai.model import *\n",
    "from fastai.dataset import *\n",
    "from fastai.sgdr import *\n",
    "from fastai.plots import *\n",
    "from sklearn.metrics import confusion_matrix"
   ]
  },
  {
   "cell_type": "code",
   "execution_count": 5,
   "metadata": {},
   "outputs": [],
   "source": [
    "PATH = \"/home/sathiesh/Deep_Learning_Kaliy/my_projects/chest-xrays/data/\"  #MMIV\n",
    "#PATH = \"/Users/Sathiesh/MachineLearning/Deep_Learning_Kaliy/my_projects/chest-xrays/data/\" #Home"
   ]
  },
  {
   "cell_type": "code",
   "execution_count": 6,
   "metadata": {},
   "outputs": [],
   "source": [
    "label_csv = f'{PATH}Data_Entry_2017.csv' "
   ]
  },
  {
   "cell_type": "code",
   "execution_count": null,
   "metadata": {},
   "outputs": [],
   "source": [
    "def clean_label(disease_name):\n",
    "    df = pd.read_csv(label_csv)\n",
    "    \n",
    "    df = df.drop(['Follow-up #','Patient ID', 'Patient Age', 'Patient Gender', 'View Position',\n",
    "              'OriginalImageWidth', 'OriginalHeight', 'OriginalImagePixelSpacingx', 'OriginalImagePixelSpacingy', 'Unnamed: 11'],axis=1)\n",
    "    \n",
    "    df_sorted = df.pivot_table(index='Finding Labels', aggfunc=len).sort_values('Image Index', ascending=False) \n",
    "    \n",
    "    df_disease = df_sorted[df_sorted.index.str.contains(disease_name)]\n",
    "    disease_row = df_sorted.loc[disease_name]['Image Index']\n",
    "    total_apperance = sum(df_disease['Image Index'])\n",
    "    print(disease_name +': ' + str(disease_row) + '\\n'+ 'Total apperance: ' + str(total_apperance)+ '\\n'\n",
    "      +'Number of rows that must be deleted: ' + (str)(total_apperance - disease_row))\n",
    "    \n",
    "    temp_df = df\n",
    "    temp_df['searching_disease'] = temp_df['Finding Labels'].str.contains(disease_name)\n",
    "    temp_df = temp_df[temp_df['searching_disease']]; #all rows with disease_name \n",
    "\n",
    "    #TODO find another way to do this\n",
    "    temp_df['Finding Labels'] = temp_df['Finding Labels'].str.replace('|','REMOVE')\n",
    "    temp_df['searching_disease'] = temp_df['Finding Labels'].str.contains('REMOVE')\n",
    "    arr = np.array(temp_df[temp_df['searching_disease']].index) #labeled as disease_name + another disease\n",
    "    arr.size \n",
    "    \n",
    "    df = df.drop(arr)\n",
    "    df = df.reset_index(drop=True)\n",
    "    \n",
    "    df_sorted = df.pivot_table(index='searching_disease', aggfunc=len).sort_values('Image Index') \n",
    "    df_sorted.index = [disease_name,'Other']\n",
    "    df_sorted['Image Index'].plot(kind='bar', title=\"Other diseases vs \"+disease_name)\n",
    "    \n",
    "    disease_count = df_sorted['Image Index'][0]\n",
    "    other_disease_count = df_sorted['Image Index'][1]\n",
    "    ratio = (other_disease_count// disease_count)-1\n",
    "    df = df.append([df[df.searching_disease]]*ratio, ignore_index=True) #df.searching_disease: array m true, false \n",
    "    \n",
    "    df_sorted = df.pivot_table(index='searching_disease', aggfunc=len).sort_values('Image Index') \n",
    "    df_sorted.index = [disease_name,'Other']\n",
    "    \n",
    "    df = df.drop(['Finding Labels'], axis=1)\n",
    "    cleaned_label_path = f'{PATH}/cleaned_labels/{disease_name}.csv'\n",
    "    df.to_csv(cleaned_label_path, index=False)\n",
    "    \n",
    "    return df"
   ]
  }
 ],
 "metadata": {
  "kernelspec": {
   "display_name": "fastai",
   "language": "python",
   "name": "fastai"
  },
  "language_info": {
   "codemirror_mode": {
    "name": "ipython",
    "version": 3
   },
   "file_extension": ".py",
   "mimetype": "text/x-python",
   "name": "python",
   "nbconvert_exporter": "python",
   "pygments_lexer": "ipython3",
   "version": "3.6.5"
  }
 },
 "nbformat": 4,
 "nbformat_minor": 2
}
