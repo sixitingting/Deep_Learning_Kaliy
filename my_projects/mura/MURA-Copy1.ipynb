{
 "cells": [
  {
   "cell_type": "code",
   "execution_count": 1,
   "metadata": {},
   "outputs": [],
   "source": [
    "%reload_ext autoreload\n",
    "%autoreload 2\n",
    "%matplotlib inline"
   ]
  },
  {
   "cell_type": "code",
   "execution_count": 69,
   "metadata": {},
   "outputs": [
    {
     "data": {
      "text/plain": [
       "1"
      ]
     },
     "execution_count": 69,
     "metadata": {},
     "output_type": "execute_result"
    }
   ],
   "source": [
    "# See how many devices are around\n",
    "torch.cuda.device_count()\n",
    "# Set it to a particular device\n",
    "torch.cuda.set_device(1)\n",
    "# Check which device you are on\n",
    "torch.cuda.current_device()"
   ]
  },
  {
   "cell_type": "markdown",
   "metadata": {},
   "source": [
    "# MURA"
   ]
  },
  {
   "cell_type": "code",
   "execution_count": 2,
   "metadata": {},
   "outputs": [],
   "source": [
    "import sys\n",
    "sys.path.append(\"../../fastai/\")"
   ]
  },
  {
   "cell_type": "code",
   "execution_count": 3,
   "metadata": {},
   "outputs": [],
   "source": [
    "from fastai.imports import *\n",
    "from fastai.transforms import *\n",
    "from fastai.conv_learner import *\n",
    "from fastai.model import *\n",
    "from fastai.dataset import *\n",
    "from fastai.sgdr import *\n",
    "from fastai.plots import *\n",
    "from sklearn.metrics import confusion_matrix"
   ]
  },
  {
   "cell_type": "code",
   "execution_count": 4,
   "metadata": {},
   "outputs": [],
   "source": [
    "PATH = \"/home/sathiesh/Deep_Learning_Kaliy/my_projects/mura/data/\"  #MMIV\n",
    "#PATH = \"/Users/Sathiesh/MachineLearning/Deep_Learning_Kaliy/my_projects/mura/data/\" #Home"
   ]
  },
  {
   "cell_type": "code",
   "execution_count": 5,
   "metadata": {},
   "outputs": [
    {
     "data": {
      "text/plain": [
       "['test_submission_example.csv',\n",
       " 'models',\n",
       " 'tmp',\n",
       " 'MURA-v1.0',\n",
       " 'valid.csv',\n",
       " 'test',\n",
       " 'cleaned_label.csv',\n",
       " 'train.csv']"
      ]
     },
     "execution_count": 5,
     "metadata": {},
     "output_type": "execute_result"
    }
   ],
   "source": [
    "os.listdir(PATH)"
   ]
  },
  {
   "cell_type": "code",
   "execution_count": 6,
   "metadata": {},
   "outputs": [],
   "source": [
    "df_train = pd.read_csv(f'{PATH}train.csv')\n",
    "df_valid = pd.read_csv(f'{PATH}valid.csv')"
   ]
  },
  {
   "cell_type": "code",
   "execution_count": 7,
   "metadata": {},
   "outputs": [
    {
     "data": {
      "text/html": [
       "<div>\n",
       "<style scoped>\n",
       "    .dataframe tbody tr th:only-of-type {\n",
       "        vertical-align: middle;\n",
       "    }\n",
       "\n",
       "    .dataframe tbody tr th {\n",
       "        vertical-align: top;\n",
       "    }\n",
       "\n",
       "    .dataframe thead th {\n",
       "        text-align: right;\n",
       "    }\n",
       "</style>\n",
       "<table border=\"1\" class=\"dataframe\">\n",
       "  <thead>\n",
       "    <tr style=\"text-align: right;\">\n",
       "      <th></th>\n",
       "      <th>MURA-v1.0/train/XR_SHOULDER/patient00001/study1_positive/image1.png</th>\n",
       "      <th>1</th>\n",
       "    </tr>\n",
       "  </thead>\n",
       "  <tbody>\n",
       "    <tr>\n",
       "      <th>0</th>\n",
       "      <td>MURA-v1.0/train/XR_SHOULDER/patient00001/study...</td>\n",
       "      <td>1</td>\n",
       "    </tr>\n",
       "    <tr>\n",
       "      <th>1</th>\n",
       "      <td>MURA-v1.0/train/XR_SHOULDER/patient00001/study...</td>\n",
       "      <td>1</td>\n",
       "    </tr>\n",
       "    <tr>\n",
       "      <th>2</th>\n",
       "      <td>MURA-v1.0/train/XR_SHOULDER/patient00002/study...</td>\n",
       "      <td>1</td>\n",
       "    </tr>\n",
       "    <tr>\n",
       "      <th>3</th>\n",
       "      <td>MURA-v1.0/train/XR_SHOULDER/patient00002/study...</td>\n",
       "      <td>1</td>\n",
       "    </tr>\n",
       "    <tr>\n",
       "      <th>4</th>\n",
       "      <td>MURA-v1.0/train/XR_SHOULDER/patient00002/study...</td>\n",
       "      <td>1</td>\n",
       "    </tr>\n",
       "  </tbody>\n",
       "</table>\n",
       "</div>"
      ],
      "text/plain": [
       "  MURA-v1.0/train/XR_SHOULDER/patient00001/study1_positive/image1.png  1\n",
       "0  MURA-v1.0/train/XR_SHOULDER/patient00001/study...                   1\n",
       "1  MURA-v1.0/train/XR_SHOULDER/patient00001/study...                   1\n",
       "2  MURA-v1.0/train/XR_SHOULDER/patient00002/study...                   1\n",
       "3  MURA-v1.0/train/XR_SHOULDER/patient00002/study...                   1\n",
       "4  MURA-v1.0/train/XR_SHOULDER/patient00002/study...                   1"
      ]
     },
     "execution_count": 7,
     "metadata": {},
     "output_type": "execute_result"
    }
   ],
   "source": [
    "df_train.head()"
   ]
  },
  {
   "cell_type": "code",
   "execution_count": 8,
   "metadata": {},
   "outputs": [],
   "source": [
    "df_train.columns = ['Image Index', 'Abnormality']"
   ]
  },
  {
   "cell_type": "code",
   "execution_count": 9,
   "metadata": {},
   "outputs": [],
   "source": [
    "df_valid.columns = ['Image Index', 'Abnormality']"
   ]
  },
  {
   "cell_type": "code",
   "execution_count": 10,
   "metadata": {},
   "outputs": [
    {
     "data": {
      "text/plain": [
       "((37110, 2), (3224, 2))"
      ]
     },
     "execution_count": 10,
     "metadata": {},
     "output_type": "execute_result"
    }
   ],
   "source": [
    "df_train.shape, df_valid.shape"
   ]
  },
  {
   "cell_type": "code",
   "execution_count": 11,
   "metadata": {},
   "outputs": [
    {
     "data": {
      "text/html": [
       "<div>\n",
       "<style scoped>\n",
       "    .dataframe tbody tr th:only-of-type {\n",
       "        vertical-align: middle;\n",
       "    }\n",
       "\n",
       "    .dataframe tbody tr th {\n",
       "        vertical-align: top;\n",
       "    }\n",
       "\n",
       "    .dataframe thead th {\n",
       "        text-align: right;\n",
       "    }\n",
       "</style>\n",
       "<table border=\"1\" class=\"dataframe\">\n",
       "  <thead>\n",
       "    <tr style=\"text-align: right;\">\n",
       "      <th></th>\n",
       "      <th>Image Index</th>\n",
       "      <th>Abnormality</th>\n",
       "    </tr>\n",
       "  </thead>\n",
       "  <tbody>\n",
       "    <tr>\n",
       "      <th>0</th>\n",
       "      <td>MURA-v1.0/train/XR_SHOULDER/patient00001/study...</td>\n",
       "      <td>1</td>\n",
       "    </tr>\n",
       "    <tr>\n",
       "      <th>1</th>\n",
       "      <td>MURA-v1.0/train/XR_SHOULDER/patient00001/study...</td>\n",
       "      <td>1</td>\n",
       "    </tr>\n",
       "    <tr>\n",
       "      <th>2</th>\n",
       "      <td>MURA-v1.0/train/XR_SHOULDER/patient00002/study...</td>\n",
       "      <td>1</td>\n",
       "    </tr>\n",
       "    <tr>\n",
       "      <th>3</th>\n",
       "      <td>MURA-v1.0/train/XR_SHOULDER/patient00002/study...</td>\n",
       "      <td>1</td>\n",
       "    </tr>\n",
       "    <tr>\n",
       "      <th>4</th>\n",
       "      <td>MURA-v1.0/train/XR_SHOULDER/patient00002/study...</td>\n",
       "      <td>1</td>\n",
       "    </tr>\n",
       "  </tbody>\n",
       "</table>\n",
       "</div>"
      ],
      "text/plain": [
       "                                         Image Index  Abnormality\n",
       "0  MURA-v1.0/train/XR_SHOULDER/patient00001/study...            1\n",
       "1  MURA-v1.0/train/XR_SHOULDER/patient00001/study...            1\n",
       "2  MURA-v1.0/train/XR_SHOULDER/patient00002/study...            1\n",
       "3  MURA-v1.0/train/XR_SHOULDER/patient00002/study...            1\n",
       "4  MURA-v1.0/train/XR_SHOULDER/patient00002/study...            1"
      ]
     },
     "execution_count": 11,
     "metadata": {},
     "output_type": "execute_result"
    }
   ],
   "source": [
    "df = pd.concat([df_train, df_valid], ignore_index=True)\n",
    "df.head()"
   ]
  },
  {
   "cell_type": "code",
   "execution_count": 12,
   "metadata": {},
   "outputs": [
    {
     "data": {
      "text/plain": [
       "(40334, 2)"
      ]
     },
     "execution_count": 12,
     "metadata": {},
     "output_type": "execute_result"
    }
   ],
   "source": [
    "df.shape"
   ]
  },
  {
   "cell_type": "code",
   "execution_count": 13,
   "metadata": {},
   "outputs": [],
   "source": [
    "df['Abnormality'] = df['Abnormality'].astype('bool')"
   ]
  },
  {
   "cell_type": "code",
   "execution_count": 14,
   "metadata": {},
   "outputs": [],
   "source": [
    "#val_idxs = np.array(range(len(df_train), len(df))) #denne hjelper vel ikke lenger"
   ]
  },
  {
   "cell_type": "code",
   "execution_count": 15,
   "metadata": {},
   "outputs": [
    {
     "data": {
      "text/plain": [
       "<matplotlib.axes._subplots.AxesSubplot at 0x7fa7699f85f8>"
      ]
     },
     "execution_count": 15,
     "metadata": {},
     "output_type": "execute_result"
    },
    {
     "data": {
      "image/png": "[encoded data removed]",
      "text/plain": [
       "<Figure size 432x288 with 1 Axes>"
      ]
     },
     "metadata": {},
     "output_type": "display_data"
    }
   ],
   "source": [
    "df_sorted = df.pivot_table(index='Abnormality', aggfunc=len).sort_values('Image Index') \n",
    "#df_sorted.index = [disease_name,'Other']\n",
    "df_sorted['Image Index'].plot(kind='bar', title=\"Normal vs abnormal\")"
   ]
  },
  {
   "cell_type": "code",
   "execution_count": 16,
   "metadata": {},
   "outputs": [
    {
     "data": {
      "text/html": [
       "<div>\n",
       "<style scoped>\n",
       "    .dataframe tbody tr th:only-of-type {\n",
       "        vertical-align: middle;\n",
       "    }\n",
       "\n",
       "    .dataframe tbody tr th {\n",
       "        vertical-align: top;\n",
       "    }\n",
       "\n",
       "    .dataframe thead th {\n",
       "        text-align: right;\n",
       "    }\n",
       "</style>\n",
       "<table border=\"1\" class=\"dataframe\">\n",
       "  <thead>\n",
       "    <tr style=\"text-align: right;\">\n",
       "      <th></th>\n",
       "      <th>Image Index</th>\n",
       "    </tr>\n",
       "    <tr>\n",
       "      <th>Abnormality</th>\n",
       "      <th></th>\n",
       "    </tr>\n",
       "  </thead>\n",
       "  <tbody>\n",
       "    <tr>\n",
       "      <th>True</th>\n",
       "      <td>16663</td>\n",
       "    </tr>\n",
       "    <tr>\n",
       "      <th>False</th>\n",
       "      <td>23671</td>\n",
       "    </tr>\n",
       "  </tbody>\n",
       "</table>\n",
       "</div>"
      ],
      "text/plain": [
       "             Image Index\n",
       "Abnormality             \n",
       "True               16663\n",
       "False              23671"
      ]
     },
     "execution_count": 16,
     "metadata": {},
     "output_type": "execute_result"
    }
   ],
   "source": [
    "df_sorted"
   ]
  },
  {
   "cell_type": "code",
   "execution_count": 17,
   "metadata": {},
   "outputs": [],
   "source": [
    "normal_count = df_sorted['Image Index'][0]\n",
    "abnormality_count = df_sorted['Image Index'][1]\n",
    "\n",
    "df = df.append([df]*1, ignore_index=True) "
   ]
  },
  {
   "cell_type": "code",
   "execution_count": 18,
   "metadata": {},
   "outputs": [
    {
     "data": {
      "text/plain": [
       "<matplotlib.axes._subplots.AxesSubplot at 0x7fa769924cf8>"
      ]
     },
     "execution_count": 18,
     "metadata": {},
     "output_type": "execute_result"
    },
    {
     "data": {
      "image/png": "[encoded data removed]",
      "text/plain": [
       "<Figure size 432x288 with 1 Axes>"
      ]
     },
     "metadata": {},
     "output_type": "display_data"
    }
   ],
   "source": [
    "df_sorted = df.pivot_table(index='Abnormality', aggfunc=len).sort_values('Image Index') \n",
    "df_sorted['Image Index'].plot(kind='bar', title=\"Normal vs abnormal\")"
   ]
  },
  {
   "cell_type": "code",
   "execution_count": 19,
   "metadata": {},
   "outputs": [],
   "source": [
    "cleaned_label_path = f'{PATH}cleaned_label.csv'\n",
    "df.to_csv(cleaned_label_path, index=False)"
   ]
  },
  {
   "cell_type": "markdown",
   "metadata": {},
   "source": [
    "# View data"
   ]
  },
  {
   "cell_type": "code",
   "execution_count": 20,
   "metadata": {},
   "outputs": [],
   "source": [
    "sz = 64\n",
    "arch = dn121\n",
    "bs = 16"
   ]
  },
  {
   "cell_type": "code",
   "execution_count": 21,
   "metadata": {},
   "outputs": [],
   "source": [
    "def get_data(sz): \n",
    "    tfms = tfms_from_model(arch, sz, aug_tfms=RandomFlip())  #transforms_side_on\n",
    "    return ImageClassifierData.from_csv(PATH ,'', cleaned_label_path , test_name='test', tfms=tfms, bs=bs);"
   ]
  },
  {
   "cell_type": "code",
   "execution_count": 22,
   "metadata": {},
   "outputs": [],
   "source": [
    "data = get_data(sz)"
   ]
  },
  {
   "cell_type": "code",
   "execution_count": 23,
   "metadata": {},
   "outputs": [
    {
     "data": {
      "text/plain": [
       "'/home/sathiesh/Deep_Learning_Kaliy/my_projects/mura/data/MURA-v1.0/train/XR_ELBOW/patient00017/study1_positive/image3.png'"
      ]
     },
     "execution_count": 23,
     "metadata": {},
     "output_type": "execute_result"
    }
   ],
   "source": [
    "fn = PATH+data.trn_ds.fnames[10]\n",
    "fn "
   ]
  },
  {
   "cell_type": "code",
   "execution_count": 24,
   "metadata": {},
   "outputs": [
    {
     "data": {
      "image/png": "[encoded data removed]",
      "text/plain": [
       "<PIL.PngImagePlugin.PngImageFile image mode=L size=359x512 at 0x7FA769901048>"
      ]
     },
     "execution_count": 24,
     "metadata": {},
     "output_type": "execute_result"
    }
   ],
   "source": [
    "img = PIL.Image.open(fn);\n",
    "img"
   ]
  },
  {
   "cell_type": "code",
   "execution_count": 25,
   "metadata": {},
   "outputs": [
    {
     "data": {
      "text/plain": [
       "((64535,), (16133,))"
      ]
     },
     "execution_count": 25,
     "metadata": {},
     "output_type": "execute_result"
    }
   ],
   "source": [
    "data.trn_ds.fnames.shape ,data.val_ds.fnames.shape"
   ]
  },
  {
   "cell_type": "markdown",
   "metadata": {},
   "source": [
    "# Training"
   ]
  },
  {
   "cell_type": "code",
   "execution_count": 121,
   "metadata": {},
   "outputs": [],
   "source": [
    "learn = ConvLearner.pretrained(arch, data, ps = 0.5, opt_fn=optim.Adam) "
   ]
  },
  {
   "cell_type": "code",
   "execution_count": 122,
   "metadata": {},
   "outputs": [
    {
     "data": {
      "application/vnd.jupyter.widget-view+json": {
       "model_id": "9ae1126fd9f846b69aba85590a632212",
       "version_major": 2,
       "version_minor": 0
      },
      "text/plain": [
       "HBox(children=(IntProgress(value=0, description='Epoch', max=1), HTML(value='')))"
      ]
     },
     "metadata": {},
     "output_type": "display_data"
    },
    {
     "name": "stdout",
     "output_type": "stream",
     "text": [
      " 65%|██████▍   | 2619/4034 [02:10<01:10, 20.09it/s, loss=2.62] "
     ]
    },
    {
     "data": {
      "image/png": "[encoded data removed]",
      "text/plain": [
       "<Figure size 432x288 with 1 Axes>"
      ]
     },
     "metadata": {},
     "output_type": "display_data"
    },
    {
     "name": "stdout",
     "output_type": "stream",
     "text": [
      "\r",
      " 65%|██████▍   | 2619/4034 [02:30<01:21, 17.46it/s, loss=2.62]"
     ]
    }
   ],
   "source": [
    "learn.lr_find()\n",
    "learn.sched.plot()"
   ]
  },
  {
   "cell_type": "code",
   "execution_count": 123,
   "metadata": {},
   "outputs": [],
   "source": [
    "lr = 0.0001"
   ]
  },
  {
   "cell_type": "code",
   "execution_count": 124,
   "metadata": {},
   "outputs": [
    {
     "data": {
      "application/vnd.jupyter.widget-view+json": {
       "model_id": "9c60f1480f014442a76dc9b9272bbef5",
       "version_major": 2,
       "version_minor": 0
      },
      "text/plain": [
       "HBox(children=(IntProgress(value=0, description='Epoch', max=7), HTML(value='')))"
      ]
     },
     "metadata": {},
     "output_type": "display_data"
    },
    {
     "name": "stdout",
     "output_type": "stream",
     "text": [
      "  1%|          | 48/4034 [00:02<03:51, 17.25it/s, loss=1.06]  \n",
      "  1%|▏         | 53/4034 [00:02<03:44, 17.72it/s, loss=1.09]"
     ]
    },
    {
     "name": "stderr",
     "output_type": "stream",
     "text": [
      "Exception in thread Thread-4:\n",
      "Traceback (most recent call last):\n",
      "  File \"/home/sathiesh/anaconda3/envs/fastai/lib/python3.6/threading.py\", line 916, in _bootstrap_inner\n",
      "    self.run()\n",
      "  File \"/home/sathiesh/anaconda3/envs/fastai/lib/python3.6/site-packages/tqdm/_monitor.py\", line 62, in run\n",
      "    for instance in self.tqdm_cls._instances:\n",
      "  File \"/home/sathiesh/anaconda3/envs/fastai/lib/python3.6/_weakrefset.py\", line 60, in __iter__\n",
      "    for itemref in self.data:\n",
      "RuntimeError: Set changed size during iteration\n",
      "\n"
     ]
    },
    {
     "name": "stdout",
     "output_type": "stream",
     "text": [
      "epoch      trn_loss   val_loss   accuracy                      \n",
      "    0      0.679917   0.579408   0.706564  \n",
      "    1      0.613376   0.555884   0.720201                      \n",
      "    2      0.59738    0.552395   0.724788                      \n",
      "    3      0.593618   0.549271   0.728507                      \n",
      "    4      0.553177   0.542188   0.734085                      \n",
      "    5      0.568999   0.539604   0.735821                      \n",
      "    6      0.576624   0.538706   0.736441                      \n",
      "\n"
     ]
    },
    {
     "data": {
      "text/plain": [
       "[array([0.53871]), 0.7364408355581482]"
      ]
     },
     "execution_count": 124,
     "metadata": {},
     "output_type": "execute_result"
    }
   ],
   "source": [
    "learn.fit(lr,3, cycle_len=1, cycle_mult =2) "
   ]
  },
  {
   "cell_type": "code",
   "execution_count": 26,
   "metadata": {},
   "outputs": [
    {
     "data": {
      "application/vnd.jupyter.widget-view+json": {
       "model_id": "470f4c60ce254e579fa25be3db93be7c",
       "version_major": 2,
       "version_minor": 0
      },
      "text/plain": [
       "HBox(children=(IntProgress(value=0, description='Epoch', max=1), HTML(value='')))"
      ]
     },
     "metadata": {},
     "output_type": "display_data"
    },
    {
     "name": "stdout",
     "output_type": "stream",
     "text": [
      " 65%|██████▌   | 1516/2320 [00:49<00:26, 30.90it/s, loss=2.44] "
     ]
    },
    {
     "data": {
      "image/png": "[encoded data removed]",
      "text/plain": [
       "<Figure size 432x288 with 1 Axes>"
      ]
     },
     "metadata": {},
     "output_type": "display_data"
    }
   ],
   "source": [
    "#learn.lr_find()\n",
    "#learn.sched.plot()"
   ]
  },
  {
   "cell_type": "code",
   "execution_count": 125,
   "metadata": {},
   "outputs": [],
   "source": [
    "lrs = [lr/9, lr/3, lr] #TODO uten TL bør jeg dele på 9 og 3\n",
    "learn.unfreeze()"
   ]
  },
  {
   "cell_type": "code",
   "execution_count": 126,
   "metadata": {},
   "outputs": [
    {
     "data": {
      "application/vnd.jupyter.widget-view+json": {
       "model_id": "ccca95d8c1c6443386f7a06103905e99",
       "version_major": 2,
       "version_minor": 0
      },
      "text/plain": [
       "HBox(children=(IntProgress(value=0, description='Epoch', max=7), HTML(value='')))"
      ]
     },
     "metadata": {},
     "output_type": "display_data"
    },
    {
     "name": "stdout",
     "output_type": "stream",
     "text": [
      "epoch      trn_loss   val_loss   accuracy                      \n",
      "    0      0.57678    0.514648   0.752309  \n",
      "    1      0.521952   0.472658   0.782929                      \n",
      "    2      0.507793   0.458895   0.789314                      \n",
      "    3      0.522544   0.445037   0.80326                       \n",
      "    4      0.469708   0.4303     0.806856                      \n",
      "    5      0.438662   0.402608   0.823653                      \n",
      "    6      0.395666   0.399566   0.823839                      \n",
      "\n"
     ]
    },
    {
     "data": {
      "text/plain": [
       "[array([0.39957]), 0.8238393355234612]"
      ]
     },
     "execution_count": 126,
     "metadata": {},
     "output_type": "execute_result"
    }
   ],
   "source": [
    "learn.fit(lrs, 3, cycle_len=1, cycle_mult=2)"
   ]
  },
  {
   "cell_type": "code",
   "execution_count": 127,
   "metadata": {},
   "outputs": [],
   "source": [
    "learn.save(f'{sz}')"
   ]
  },
  {
   "cell_type": "code",
   "execution_count": 128,
   "metadata": {},
   "outputs": [],
   "source": [
    "sz = 128"
   ]
  },
  {
   "cell_type": "code",
   "execution_count": 129,
   "metadata": {},
   "outputs": [],
   "source": [
    "learn.set_data(get_data(sz))\n",
    "learn.freeze()"
   ]
  },
  {
   "cell_type": "code",
   "execution_count": 130,
   "metadata": {},
   "outputs": [
    {
     "data": {
      "application/vnd.jupyter.widget-view+json": {
       "model_id": "00619bc7347c4c84a861e01dc4273f65",
       "version_major": 2,
       "version_minor": 0
      },
      "text/plain": [
       "HBox(children=(IntProgress(value=0, description='Epoch', max=7), HTML(value='')))"
      ]
     },
     "metadata": {},
     "output_type": "display_data"
    },
    {
     "name": "stdout",
     "output_type": "stream",
     "text": [
      "epoch      trn_loss   val_loss   accuracy                      \n",
      "    0      0.517342   0.482773   0.77859   \n",
      "    1      0.498225   0.471663   0.78702                       \n",
      "    2      0.493211   0.469986   0.787826                      \n",
      "    3      0.487229   0.466392   0.789872                      \n",
      "    4      0.504309   0.462229   0.791979                      \n",
      "    5      0.478658   0.461225   0.793591                      \n",
      "    6      0.473289   0.462605   0.791235                      \n",
      "\n"
     ]
    },
    {
     "data": {
      "text/plain": [
       "[array([0.46261]), 0.7912353561060934]"
      ]
     },
     "execution_count": 130,
     "metadata": {},
     "output_type": "execute_result"
    }
   ],
   "source": [
    "learn.fit(lr, 3, cycle_len=1, cycle_mult=2)"
   ]
  },
  {
   "cell_type": "code",
   "execution_count": 131,
   "metadata": {},
   "outputs": [
    {
     "data": {
      "application/vnd.jupyter.widget-view+json": {
       "model_id": "ec8381c98a3a4c09846e5af60852aeb9",
       "version_major": 2,
       "version_minor": 0
      },
      "text/plain": [
       "HBox(children=(IntProgress(value=0, description='Epoch', max=7), HTML(value='')))"
      ]
     },
     "metadata": {},
     "output_type": "display_data"
    },
    {
     "name": "stdout",
     "output_type": "stream",
     "text": [
      "epoch      trn_loss   val_loss   accuracy                      \n",
      "    0      0.449284   0.41842    0.821732  \n",
      "    1      0.43695    0.401774   0.830596                      \n",
      "    2      0.397345   0.37901    0.842435                      \n",
      "    3      0.379824   0.37129    0.842249                      \n",
      "    4      0.348887   0.340369   0.858737                      \n",
      "    5      0.321248   0.321154   0.866299                      \n",
      "    6      0.275406   0.312067   0.872869                      \n",
      "\n"
     ]
    },
    {
     "data": {
      "text/plain": [
       "[array([0.31207]), 0.872869274158557]"
      ]
     },
     "execution_count": 131,
     "metadata": {},
     "output_type": "execute_result"
    }
   ],
   "source": [
    "learn.unfreeze();\n",
    "learn.fit(lrs, 3, cycle_len=1, cycle_mult=2)"
   ]
  },
  {
   "cell_type": "code",
   "execution_count": 132,
   "metadata": {},
   "outputs": [],
   "source": [
    "learn.save(f'{sz}dn121')"
   ]
  },
  {
   "cell_type": "code",
   "execution_count": 26,
   "metadata": {},
   "outputs": [],
   "source": [
    "sz = 256"
   ]
  },
  {
   "cell_type": "code",
   "execution_count": 134,
   "metadata": {},
   "outputs": [],
   "source": [
    "learn.set_data(get_data(sz))\n",
    "learn.freeze() "
   ]
  },
  {
   "cell_type": "code",
   "execution_count": 135,
   "metadata": {},
   "outputs": [
    {
     "data": {
      "application/vnd.jupyter.widget-view+json": {
       "model_id": "85146db91125466aabbc3dca48bb1335",
       "version_major": 2,
       "version_minor": 0
      },
      "text/plain": [
       "HBox(children=(IntProgress(value=0, description='Epoch', max=7), HTML(value='')))"
      ]
     },
     "metadata": {},
     "output_type": "display_data"
    },
    {
     "name": "stdout",
     "output_type": "stream",
     "text": [
      "epoch      trn_loss   val_loss   accuracy                      \n",
      "    0      0.475264   0.443393   0.804748  \n",
      "    1      0.470252   0.435578   0.806174                      \n",
      "    2      0.487192   0.434967   0.807165                      \n",
      "    3      0.474988   0.426176   0.813364                      \n",
      "    4      0.455726   0.425409   0.812868                      \n",
      "    5      0.453145   0.42223    0.818447                      \n",
      "    6      0.430717   0.422495   0.816029                      \n",
      "\n"
     ]
    },
    {
     "data": {
      "text/plain": [
       "[array([0.42249]), 0.816029256806521]"
      ]
     },
     "execution_count": 135,
     "metadata": {},
     "output_type": "execute_result"
    }
   ],
   "source": [
    "learn.fit(lr, 3, cycle_len=1, cycle_mult=2)"
   ]
  },
  {
   "cell_type": "code",
   "execution_count": 136,
   "metadata": {},
   "outputs": [
    {
     "data": {
      "application/vnd.jupyter.widget-view+json": {
       "model_id": "0c61cfb834d44a52ae58098cf79a82b2",
       "version_major": 2,
       "version_minor": 0
      },
      "text/plain": [
       "HBox(children=(IntProgress(value=0, description='Epoch', max=7), HTML(value='')))"
      ]
     },
     "metadata": {},
     "output_type": "display_data"
    },
    {
     "name": "stdout",
     "output_type": "stream",
     "text": [
      "epoch      trn_loss   val_loss   accuracy                      \n",
      "    0      0.430728   0.383155   0.841691  \n",
      "    1      0.405377   0.364308   0.847765                      \n",
      "    2      0.338662   0.336348   0.861836                      \n",
      "    3      0.374105   0.341966   0.859914                      \n",
      "    4      0.301388   0.307463   0.874171                      \n",
      "    5      0.279845   0.266887   0.896238                      \n",
      "    6      0.231477   0.26225    0.894998                      \n",
      "\n"
     ]
    }
   ],
   "source": [
    "learn.unfreeze()\n",
    "learn.fit(lrs, 3, cycle_len=1, cycle_mult=2)\n",
    "#Hvis ikke overfitting her: \n",
    "learn.save(f'{sz}dn121')"
   ]
  },
  {
   "cell_type": "code",
   "execution_count": 137,
   "metadata": {},
   "outputs": [
    {
     "data": {
      "image/png": "[encoded data removed]",
      "text/plain": [
       "<Figure size 432x288 with 1 Axes>"
      ]
     },
     "metadata": {},
     "output_type": "display_data"
    }
   ],
   "source": [
    "learn.sched.plot_loss()"
   ]
  },
  {
   "cell_type": "code",
   "execution_count": 43,
   "metadata": {},
   "outputs": [],
   "source": [
    "#TODO slett denne senere \n",
    "sz = 256\n",
    "data = get_data(sz)"
   ]
  },
  {
   "cell_type": "code",
   "execution_count": 44,
   "metadata": {},
   "outputs": [],
   "source": [
    "learn = ConvLearner.pretrained(arch, data, opt_fn=optim.Adam, ps = 0.5) "
   ]
  },
  {
   "cell_type": "code",
   "execution_count": 45,
   "metadata": {},
   "outputs": [],
   "source": [
    "learn.load(f'{sz}dn121')"
   ]
  },
  {
   "cell_type": "code",
   "execution_count": 46,
   "metadata": {},
   "outputs": [
    {
     "name": "stdout",
     "output_type": "stream",
     "text": [
      "                                             \r"
     ]
    }
   ],
   "source": [
    "log_preds,y = learn.TTA()\n",
    "probs = np.mean(np.exp(log_preds),0)\n",
    "accuracy = accuracy_np(probs, y)"
   ]
  },
  {
   "cell_type": "code",
   "execution_count": 47,
   "metadata": {},
   "outputs": [
    {
     "name": "stdout",
     "output_type": "stream",
     "text": [
      "0.9072088266286493\n"
     ]
    }
   ],
   "source": [
    "print(accuracy)\n",
    "#HIT"
   ]
  },
  {
   "cell_type": "markdown",
   "metadata": {},
   "source": [
    "# Transfer learning "
   ]
  },
  {
   "cell_type": "code",
   "execution_count": 79,
   "metadata": {},
   "outputs": [],
   "source": [
    "sz = 64\n",
    "data = get_data(sz)"
   ]
  },
  {
   "cell_type": "code",
   "execution_count": 80,
   "metadata": {},
   "outputs": [],
   "source": [
    "learnTL = ConvLearner.pretrained(arch, data, opt_fn=optim.Adam, ps = 0.5) "
   ]
  },
  {
   "cell_type": "code",
   "execution_count": 81,
   "metadata": {},
   "outputs": [],
   "source": [
    "learnTL.load('64121Pneumothorax') #denne er for dn121 #pretrained weights on chestX 14 dataset "
   ]
  },
  {
   "cell_type": "code",
   "execution_count": null,
   "metadata": {},
   "outputs": [
    {
     "data": {
      "application/vnd.jupyter.widget-view+json": {
       "model_id": "d727b2bee5154c378c23978df62f78cc",
       "version_major": 2,
       "version_minor": 0
      },
      "text/plain": [
       "HBox(children=(IntProgress(value=0, description='Epoch', max=1), HTML(value='')))"
      ]
     },
     "metadata": {},
     "output_type": "display_data"
    },
    {
     "name": "stdout",
     "output_type": "stream",
     "text": [
      " 31%|███▏      | 1268/4034 [00:50<01:50, 25.09it/s, loss=0.656]"
     ]
    }
   ],
   "source": [
    "learnTL.lr_find()\n",
    "learnTL.sched.plot()"
   ]
  },
  {
   "cell_type": "code",
   "execution_count": null,
   "metadata": {},
   "outputs": [],
   "source": [
    "lr = 0.00005"
   ]
  },
  {
   "cell_type": "code",
   "execution_count": null,
   "metadata": {},
   "outputs": [],
   "source": [
    "learnTL.fit(lr,3, cycle_len=1, cycle_mult =2) "
   ]
  },
  {
   "cell_type": "code",
   "execution_count": null,
   "metadata": {},
   "outputs": [],
   "source": [
    "learnTL.lr_find()\n",
    "learnTL.sched.plot()"
   ]
  },
  {
   "cell_type": "code",
   "execution_count": null,
   "metadata": {},
   "outputs": [],
   "source": [
    "lrs = [1r/9,lr/3,lr]\n",
    "learnTL.unfreeze()"
   ]
  },
  {
   "cell_type": "code",
   "execution_count": null,
   "metadata": {},
   "outputs": [],
   "source": [
    "learnTL.fit(lrs, 3, cycle_len=1, cycle_mult=2)"
   ]
  },
  {
   "cell_type": "code",
   "execution_count": null,
   "metadata": {},
   "outputs": [],
   "source": [
    "learnTL.save(f'{sz}TL121')"
   ]
  },
  {
   "cell_type": "code",
   "execution_count": null,
   "metadata": {},
   "outputs": [],
   "source": [
    "sz = 128"
   ]
  },
  {
   "cell_type": "code",
   "execution_count": null,
   "metadata": {},
   "outputs": [],
   "source": [
    "learnTL.set_data(get_data(sz))\n",
    "learnTL.freeze()"
   ]
  },
  {
   "cell_type": "code",
   "execution_count": null,
   "metadata": {},
   "outputs": [],
   "source": [
    "learnTL.fit(lr, 3, cycle_len=1, cycle_mult=2)"
   ]
  },
  {
   "cell_type": "code",
   "execution_count": null,
   "metadata": {},
   "outputs": [],
   "source": [
    "learnTL.unfreeze()\n",
    "learnTL.fit(lrs, 3, cycle_len=1, cycle_mult=2)"
   ]
  },
  {
   "cell_type": "code",
   "execution_count": null,
   "metadata": {},
   "outputs": [],
   "source": [
    "learnTL.save(f'{sz}TL121')"
   ]
  },
  {
   "cell_type": "code",
   "execution_count": null,
   "metadata": {},
   "outputs": [],
   "source": [
    "sz = 256"
   ]
  },
  {
   "cell_type": "code",
   "execution_count": null,
   "metadata": {},
   "outputs": [],
   "source": [
    "learnTL.set_data(get_data(sz))\n",
    "learnTL.freeze()"
   ]
  },
  {
   "cell_type": "code",
   "execution_count": null,
   "metadata": {},
   "outputs": [],
   "source": [
    "learnTL.fit(lr, 3, cycle_len=1, cycle_mult=2)"
   ]
  },
  {
   "cell_type": "code",
   "execution_count": null,
   "metadata": {},
   "outputs": [],
   "source": [
    "learnTL.save(f'{sz}TL121')"
   ]
  },
  {
   "cell_type": "code",
   "execution_count": null,
   "metadata": {},
   "outputs": [],
   "source": [
    "learnTL.unfreeze()\n",
    "learnTL.fit(lrs,3, cycle_len=1, cycle_mult=2)\n",
    "#learnTL.save(f'{sz}TL') hvis den ikke overfitter"
   ]
  },
  {
   "cell_type": "code",
   "execution_count": null,
   "metadata": {},
   "outputs": [],
   "source": [
    "learnTL.sched.plot_loss()"
   ]
  },
  {
   "cell_type": "markdown",
   "metadata": {},
   "source": [
    "# Prediction on test set"
   ]
  },
  {
   "cell_type": "code",
   "execution_count": 48,
   "metadata": {},
   "outputs": [],
   "source": [
    "df_test = pd.read_csv(f'{PATH}test_submission_example.csv', header=None)"
   ]
  },
  {
   "cell_type": "code",
   "execution_count": 49,
   "metadata": {},
   "outputs": [
    {
     "data": {
      "text/plain": [
       "(209, 2)"
      ]
     },
     "execution_count": 49,
     "metadata": {},
     "output_type": "execute_result"
    }
   ],
   "source": [
    "df_test.shape"
   ]
  },
  {
   "cell_type": "code",
   "execution_count": 50,
   "metadata": {},
   "outputs": [],
   "source": [
    "df_test.columns = ['Study','Abnormality']"
   ]
  },
  {
   "cell_type": "code",
   "execution_count": 51,
   "metadata": {},
   "outputs": [],
   "source": [
    "df_test['Study'] = df_test['Study'].str.replace(\"/\", \"_\")\n",
    "df_test['Study'] = df_test['Study'].str.replace(\"test_\",\"test/\")"
   ]
  },
  {
   "cell_type": "code",
   "execution_count": 52,
   "metadata": {},
   "outputs": [
    {
     "data": {
      "text/plain": [
       "array([[0.],\n",
       "       [0.],\n",
       "       [0.],\n",
       "       [0.],\n",
       "       [0.]])"
      ]
     },
     "execution_count": 52,
     "metadata": {},
     "output_type": "execute_result"
    }
   ],
   "source": [
    "# maa lable y \n",
    "data.test_ds.y[:5] #alle er 0 "
   ]
  },
  {
   "cell_type": "code",
   "execution_count": 53,
   "metadata": {},
   "outputs": [],
   "source": [
    "pos = 0; \n",
    "df_pos_img_indxs = {}\n",
    "for stud in df_test['Study']: #eksempel: stud:  test/XR_FOREARM_patient12044_study1_\n",
    "    indices = [i for i, s in enumerate(data.test_ds.fnames) if stud in s] #posisjonen til alle som \n",
    "    for j in indices:\n",
    "        data.test_ds.y[j] = df_test['Abnormality'][pos]\n",
    "    \n",
    "    df_pos_img_indxs[pos] = indices\n",
    "    pos= pos+1; "
   ]
  },
  {
   "cell_type": "code",
   "execution_count": 54,
   "metadata": {},
   "outputs": [
    {
     "data": {
      "text/plain": [
       "array([[1.],\n",
       "       [1.],\n",
       "       [0.],\n",
       "       [0.],\n",
       "       [0.]])"
      ]
     },
     "execution_count": 54,
     "metadata": {},
     "output_type": "execute_result"
    }
   ],
   "source": [
    "data.test_ds.y[:5]"
   ]
  },
  {
   "cell_type": "code",
   "execution_count": 55,
   "metadata": {},
   "outputs": [
    {
     "data": {
      "text/plain": [
       "209"
      ]
     },
     "execution_count": 55,
     "metadata": {},
     "output_type": "execute_result"
    }
   ],
   "source": [
    "len(df_pos_img_indxs)"
   ]
  },
  {
   "cell_type": "code",
   "execution_count": 56,
   "metadata": {},
   "outputs": [
    {
     "data": {
      "text/plain": [
       "[56, 186, 253]"
      ]
     },
     "execution_count": 56,
     "metadata": {},
     "output_type": "execute_result"
    }
   ],
   "source": [
    "df_pos_img_indxs[0]"
   ]
  },
  {
   "cell_type": "code",
   "execution_count": 57,
   "metadata": {},
   "outputs": [
    {
     "data": {
      "text/plain": [
       "(array([1.]), array([1.]), array([1.]))"
      ]
     },
     "execution_count": 57,
     "metadata": {},
     "output_type": "execute_result"
    }
   ],
   "source": [
    "data.test_ds.y[56], data.test_ds.y[186], data.test_ds.y[253]"
   ]
  },
  {
   "cell_type": "code",
   "execution_count": 58,
   "metadata": {},
   "outputs": [
    {
     "name": "stdout",
     "output_type": "stream",
     "text": [
      "                                             \r"
     ]
    }
   ],
   "source": [
    "log_preds,y = learn.TTA(is_test=True)\n",
    "probs = np.mean(np.exp(log_preds),0)\n",
    "accuracy = accuracy_np(probs, y)"
   ]
  },
  {
   "cell_type": "code",
   "execution_count": 59,
   "metadata": {},
   "outputs": [
    {
     "data": {
      "text/plain": [
       "0.4943212547322877"
      ]
     },
     "execution_count": 59,
     "metadata": {},
     "output_type": "execute_result"
    }
   ],
   "source": [
    "accuracy"
   ]
  },
  {
   "cell_type": "markdown",
   "metadata": {},
   "source": [
    "### Predict studies "
   ]
  },
  {
   "cell_type": "code",
   "execution_count": 173,
   "metadata": {},
   "outputs": [
    {
     "data": {
      "text/plain": [
       "559"
      ]
     },
     "execution_count": 173,
     "metadata": {},
     "output_type": "execute_result"
    }
   ],
   "source": [
    "test_list = data.test_ds.fnames\n",
    "len(test_list)"
   ]
  },
  {
   "cell_type": "code",
   "execution_count": 174,
   "metadata": {},
   "outputs": [],
   "source": [
    "#fjerne imagex.png fra stringen, så man kan finne alle bildene for et studie\n",
    "def searching_string(pasient_image_path):\n",
    "    string_size = len(pasient_image_path) - len('image1.png')\n",
    "    return pasient_image_path[:string_size] "
   ]
  },
  {
   "cell_type": "code",
   "execution_count": 175,
   "metadata": {},
   "outputs": [],
   "source": [
    "#finne indeksene til bildene som er med i studiet\n",
    "def find_img_indxs(pasient_study): \n",
    "    return [test_list.index(i) for i in test_list if pasient_study in i]"
   ]
  },
  {
   "cell_type": "code",
   "execution_count": 176,
   "metadata": {},
   "outputs": [],
   "source": [
    "trn_tfms, val_tfms = tfms_from_model(arch, sz) # get transformations\n",
    "def predict_abnormality(fn): \n",
    "    im = open_image(fn)\n",
    "    im_val = val_tfms(im)\n",
    "    preds = learnTL.predict_array(im_val[None])\n",
    "    return np.argmax(preds)"
   ]
  },
  {
   "cell_type": "markdown",
   "metadata": {},
   "source": [
    "you should use the 2nd return val from tfms_from_model. The first one includes data augmentation, e.g. for the training set. For predictions you don’t want that, so use the 2nd one.\n",
    "Jeremy"
   ]
  },
  {
   "cell_type": "code",
   "execution_count": 177,
   "metadata": {},
   "outputs": [],
   "source": [
    "#fjerne indeksene til bildene fra test_list når man er ferdig med å predikere et studie. \n",
    "def del_indxs(study_img_indxs):\n",
    "    #for i in study_img_indxs: \n",
    "       # del test_list[i] \n",
    "    return np.delete(test_list, study_img_indxs).tolist()"
   ]
  },
  {
   "cell_type": "code",
   "execution_count": 178,
   "metadata": {},
   "outputs": [],
   "source": [
    "predictions_dict = {}\n",
    "\n",
    "while(len(test_list)>0): \n",
    "    string_study = searching_string(test_list[0])\n",
    "    study_img_indxs = find_img_indxs(string_study)\n",
    "    \n",
    "    prediction_list = [] #skal inneholde alle predikasjonene for et studie\n",
    "\n",
    "    #Her skal det predikeres på hvert av bildene i studiet\n",
    "    for i in study_img_indxs: \n",
    "        prediction = predict_abnormality(PATH+test_list[i])\n",
    "        prediction_list.append(prediction)\n",
    "        \n",
    "    predictions_dict[string_study] = max(prediction_list) # nøkkel : navnet til studiet + value: predikasjonen (hvis en av de er True, så er studiet True)\n",
    "    \n",
    "    #ferdig med predikasjon for et studie\n",
    "    test_list = del_indxs(study_img_indxs)\n",
    "    #print(find_img_indxs(string_study)) #bare for å teste at alle listene som retuneres er tomme "
   ]
  },
  {
   "cell_type": "code",
   "execution_count": 179,
   "metadata": {},
   "outputs": [
    {
     "data": {
      "text/plain": [
       "209"
      ]
     },
     "execution_count": 179,
     "metadata": {},
     "output_type": "execute_result"
    }
   ],
   "source": [
    "len(predictions_dict)"
   ]
  },
  {
   "cell_type": "code",
   "execution_count": 180,
   "metadata": {},
   "outputs": [],
   "source": [
    "y = []\n",
    "preds = []"
   ]
  },
  {
   "cell_type": "code",
   "execution_count": 181,
   "metadata": {},
   "outputs": [],
   "source": [
    "def add_values(y_value, preds_value): \n",
    "    y.append(y_value)\n",
    "    preds.append(preds_value)"
   ]
  },
  {
   "cell_type": "code",
   "execution_count": 182,
   "metadata": {},
   "outputs": [],
   "source": [
    "def test_accuracy(pred_dict, df_test): \n",
    "    num_correct = 0; \n",
    "    for key, value in pred_dict.items(): \n",
    "        searching_string = key\n",
    "        row = df_test.loc[df_test['Study'] == searching_string]\n",
    "        print(\"Dictionary key: \" + str(key) + \" value: \" + str(value))\n",
    "        print(row.values[0][0],row.values[0][1])\n",
    "        if(row.values[0][1] == value): \n",
    "            num_correct+=1\n",
    "        \n",
    "        add_values(row.values[0][1], value)\n",
    "        print()\n",
    "    return num_correct/len(pred_dict)"
   ]
  },
  {
   "cell_type": "code",
   "execution_count": 183,
   "metadata": {},
   "outputs": [
    {
     "name": "stdout",
     "output_type": "stream",
     "text": [
      "Dictionary key: test/XR_SHOULDER_patient12168_study1_ value: 1\n",
      "test/XR_SHOULDER_patient12168_study1_ 1\n",
      "\n",
      "Dictionary key: test/XR_FINGER_patient12241_study1_ value: 1\n",
      "test/XR_FINGER_patient12241_study1_ 1\n",
      "\n",
      "Dictionary key: test/XR_ELBOW_patient12117_study1_ value: 1\n",
      "test/XR_ELBOW_patient12117_study1_ 0\n",
      "\n",
      "Dictionary key: test/XR_FOREARM_patient12056_study1_ value: 1\n",
      "test/XR_FOREARM_patient12056_study1_ 0\n",
      "\n",
      "Dictionary key: test/XR_SHOULDER_patient12183_study1_ value: 0\n",
      "test/XR_SHOULDER_patient12183_study1_ 0\n",
      "\n",
      "Dictionary key: test/XR_HAND_patient12092_study1_ value: 1\n",
      "test/XR_HAND_patient12092_study1_ 1\n",
      "\n",
      "Dictionary key: test/XR_FOREARM_patient12067_study1_ value: 0\n",
      "test/XR_FOREARM_patient12067_study1_ 0\n",
      "\n",
      "Dictionary key: test/XR_ELBOW_patient12124_study1_ value: 1\n",
      "test/XR_ELBOW_patient12124_study1_ 1\n",
      "\n",
      "Dictionary key: test/XR_HAND_patient12076_study1_ value: 0\n",
      "test/XR_HAND_patient12076_study1_ 1\n",
      "\n",
      "Dictionary key: test/XR_ELBOW_patient12128_study1_ value: 0\n",
      "test/XR_ELBOW_patient12128_study1_ 0\n",
      "\n",
      "Dictionary key: test/XR_ELBOW_patient12111_study1_ value: 1\n",
      "test/XR_ELBOW_patient12111_study1_ 0\n",
      "\n",
      "Dictionary key: test/XR_WRIST_patient12211_study1_ value: 0\n",
      "test/XR_WRIST_patient12211_study1_ 0\n",
      "\n",
      "Dictionary key: test/XR_ELBOW_patient12132_study1_ value: 1\n",
      "test/XR_ELBOW_patient12132_study1_ 0\n",
      "\n",
      "Dictionary key: test/XR_FOREARM_patient12069_study1_ value: 0\n",
      "test/XR_FOREARM_patient12069_study1_ 0\n",
      "\n",
      "Dictionary key: test/XR_FINGER_patient12235_study1_ value: 1\n",
      "test/XR_FINGER_patient12235_study1_ 1\n",
      "\n",
      "Dictionary key: test/XR_SHOULDER_patient12184_study1_ value: 0\n",
      "test/XR_SHOULDER_patient12184_study1_ 0\n",
      "\n",
      "Dictionary key: test/XR_HUMERUS_patient12143_study1_ value: 1\n",
      "test/XR_HUMERUS_patient12143_study1_ 0\n",
      "\n",
      "Dictionary key: test/XR_HAND_patient12095_study1_ value: 0\n",
      "test/XR_HAND_patient12095_study1_ 1\n",
      "\n",
      "Dictionary key: test/XR_ELBOW_patient12126_study1_ value: 0\n",
      "test/XR_ELBOW_patient12126_study1_ 0\n",
      "\n",
      "Dictionary key: test/XR_HUMERUS_patient12160_study1_ value: 0\n",
      "test/XR_HUMERUS_patient12160_study1_ 1\n",
      "\n",
      "Dictionary key: test/XR_FINGER_patient12246_study1_ value: 0\n",
      "test/XR_FINGER_patient12246_study1_ 1\n",
      "\n",
      "Dictionary key: test/XR_WRIST_patient12209_study1_ value: 0\n",
      "test/XR_WRIST_patient12209_study1_ 0\n",
      "\n",
      "Dictionary key: test/XR_HAND_patient12096_study1_ value: 0\n",
      "test/XR_HAND_patient12096_study1_ 0\n",
      "\n",
      "Dictionary key: test/XR_WRIST_patient12203_study1_ value: 0\n",
      "test/XR_WRIST_patient12203_study1_ 1\n",
      "\n",
      "Dictionary key: test/XR_WRIST_patient12199_study1_ value: 1\n",
      "test/XR_WRIST_patient12199_study1_ 0\n",
      "\n",
      "Dictionary key: test/XR_ELBOW_patient12122_study1_ value: 0\n",
      "test/XR_ELBOW_patient12122_study1_ 1\n",
      "\n",
      "Dictionary key: test/XR_HAND_patient12085_study1_ value: 1\n",
      "test/XR_HAND_patient12085_study1_ 1\n",
      "\n",
      "Dictionary key: test/XR_HAND_patient12091_study1_ value: 0\n",
      "test/XR_HAND_patient12091_study1_ 0\n",
      "\n",
      "Dictionary key: test/XR_HAND_patient12079_study1_ value: 1\n",
      "test/XR_HAND_patient12079_study1_ 1\n",
      "\n",
      "Dictionary key: test/XR_FINGER_patient12225_study1_ value: 1\n",
      "test/XR_FINGER_patient12225_study1_ 1\n",
      "\n",
      "Dictionary key: test/XR_WRIST_patient12219_study1_ value: 1\n",
      "test/XR_WRIST_patient12219_study1_ 1\n",
      "\n",
      "Dictionary key: test/XR_FOREARM_patient12054_study1_ value: 1\n",
      "test/XR_FOREARM_patient12054_study1_ 0\n",
      "\n",
      "Dictionary key: test/XR_ELBOW_patient12119_study1_ value: 0\n",
      "test/XR_ELBOW_patient12119_study1_ 1\n",
      "\n",
      "Dictionary key: test/XR_SHOULDER_patient12192_study1_ value: 0\n",
      "test/XR_SHOULDER_patient12192_study1_ 0\n",
      "\n",
      "Dictionary key: test/XR_SHOULDER_patient12188_study1_ value: 0\n",
      "test/XR_SHOULDER_patient12188_study1_ 1\n",
      "\n",
      "Dictionary key: test/XR_WRIST_patient12207_study1_ value: 1\n",
      "test/XR_WRIST_patient12207_study1_ 1\n",
      "\n",
      "Dictionary key: test/XR_ELBOW_patient12130_study1_ value: 0\n",
      "test/XR_ELBOW_patient12130_study1_ 1\n",
      "\n",
      "Dictionary key: test/XR_ELBOW_patient12108_study1_ value: 1\n",
      "test/XR_ELBOW_patient12108_study1_ 0\n",
      "\n",
      "Dictionary key: test/XR_SHOULDER_patient12185_study1_ value: 0\n",
      "test/XR_SHOULDER_patient12185_study1_ 1\n",
      "\n",
      "Dictionary key: test/XR_HAND_patient12093_study1_ value: 1\n",
      "test/XR_HAND_patient12093_study1_ 1\n",
      "\n",
      "Dictionary key: test/XR_SHOULDER_patient12173_study1_ value: 1\n",
      "test/XR_SHOULDER_patient12173_study1_ 0\n",
      "\n",
      "Dictionary key: test/XR_HAND_patient12102_study1_ value: 0\n",
      "test/XR_HAND_patient12102_study1_ 1\n",
      "\n",
      "Dictionary key: test/XR_FINGER_patient12234_study1_ value: 1\n",
      "test/XR_FINGER_patient12234_study1_ 1\n",
      "\n",
      "Dictionary key: test/XR_FINGER_patient12242_study1_ value: 1\n",
      "test/XR_FINGER_patient12242_study1_ 1\n",
      "\n",
      "Dictionary key: test/XR_FINGER_patient12236_study1_ value: 1\n",
      "test/XR_FINGER_patient12236_study1_ 1\n",
      "\n",
      "Dictionary key: test/XR_ELBOW_patient12118_study1_ value: 1\n",
      "test/XR_ELBOW_patient12118_study1_ 0\n",
      "\n",
      "Dictionary key: test/XR_SHOULDER_patient12175_study1_ value: 1\n",
      "test/XR_SHOULDER_patient12175_study1_ 1\n",
      "\n",
      "Dictionary key: test/XR_HAND_patient12081_study1_ value: 0\n",
      "test/XR_HAND_patient12081_study1_ 1\n",
      "\n",
      "Dictionary key: test/XR_HUMERUS_patient12145_study1_ value: 0\n",
      "test/XR_HUMERUS_patient12145_study1_ 0\n",
      "\n",
      "Dictionary key: test/XR_FOREARM_patient12052_study1_ value: 1\n",
      "test/XR_FOREARM_patient12052_study1_ 0\n",
      "\n",
      "Dictionary key: test/XR_SHOULDER_patient12190_study1_ value: 0\n",
      "test/XR_SHOULDER_patient12190_study1_ 0\n",
      "\n",
      "Dictionary key: test/XR_FOREARM_patient12044_study1_ value: 1\n",
      "test/XR_FOREARM_patient12044_study1_ 1\n",
      "\n",
      "Dictionary key: test/XR_FINGER_patient12249_study1_ value: 1\n",
      "test/XR_FINGER_patient12249_study1_ 1\n",
      "\n",
      "Dictionary key: test/XR_SHOULDER_patient12189_study1_ value: 0\n",
      "test/XR_SHOULDER_patient12189_study1_ 1\n",
      "\n",
      "Dictionary key: test/XR_HAND_patient12094_study1_ value: 0\n",
      "test/XR_HAND_patient12094_study1_ 1\n",
      "\n",
      "Dictionary key: test/XR_HAND_patient12080_study1_ value: 1\n",
      "test/XR_HAND_patient12080_study1_ 1\n",
      "\n",
      "Dictionary key: test/XR_SHOULDER_patient12179_study1_ value: 0\n",
      "test/XR_SHOULDER_patient12179_study1_ 0\n",
      "\n",
      "Dictionary key: test/XR_SHOULDER_patient12167_study1_ value: 1\n",
      "test/XR_SHOULDER_patient12167_study1_ 0\n",
      "\n",
      "Dictionary key: test/XR_SHOULDER_patient12193_study1_ value: 0\n",
      "test/XR_SHOULDER_patient12193_study1_ 1\n",
      "\n",
      "Dictionary key: test/XR_HAND_patient12099_study1_ value: 0\n",
      "test/XR_HAND_patient12099_study1_ 1\n",
      "\n",
      "Dictionary key: test/XR_FINGER_patient12229_study1_ value: 0\n",
      "test/XR_FINGER_patient12229_study1_ 0\n",
      "\n",
      "Dictionary key: test/XR_WRIST_patient12216_study1_ value: 0\n",
      "test/XR_WRIST_patient12216_study1_ 0\n",
      "\n",
      "Dictionary key: test/XR_ELBOW_patient12105_study1_ value: 1\n",
      "test/XR_ELBOW_patient12105_study1_ 1\n",
      "\n",
      "Dictionary key: test/XR_ELBOW_patient12107_study1_ value: 1\n",
      "test/XR_ELBOW_patient12107_study1_ 1\n",
      "\n",
      "Dictionary key: test/XR_HAND_patient12101_study1_ value: 1\n",
      "test/XR_HAND_patient12101_study1_ 1\n",
      "\n",
      "Dictionary key: test/XR_SHOULDER_patient12165_study1_ value: 1\n",
      "test/XR_SHOULDER_patient12165_study1_ 1\n",
      "\n",
      "Dictionary key: test/XR_WRIST_patient12215_study1_ value: 0\n",
      "test/XR_WRIST_patient12215_study1_ 1\n",
      "\n",
      "Dictionary key: test/XR_WRIST_patient12202_study1_ value: 1\n",
      "test/XR_WRIST_patient12202_study1_ 1\n",
      "\n",
      "Dictionary key: test/XR_HAND_patient12084_study1_ value: 1\n",
      "test/XR_HAND_patient12084_study1_ 1\n",
      "\n",
      "Dictionary key: test/XR_SHOULDER_patient12170_study1_ value: 1\n",
      "test/XR_SHOULDER_patient12170_study1_ 1\n",
      "\n",
      "Dictionary key: test/XR_SHOULDER_patient12178_study1_ value: 1\n",
      "test/XR_SHOULDER_patient12178_study1_ 0\n",
      "\n",
      "Dictionary key: test/XR_HUMERUS_patient12154_study1_ value: 0\n",
      "test/XR_HUMERUS_patient12154_study1_ 1\n",
      "\n",
      "Dictionary key: test/XR_WRIST_patient12217_study1_ value: 0\n",
      "test/XR_WRIST_patient12217_study1_ 0\n",
      "\n",
      "Dictionary key: test/XR_ELBOW_patient12104_study1_ value: 1\n",
      "test/XR_ELBOW_patient12104_study1_ 1\n",
      "\n",
      "Dictionary key: test/XR_HAND_patient12090_study1_ value: 0\n",
      "test/XR_HAND_patient12090_study1_ 1\n",
      "\n",
      "Dictionary key: test/XR_FINGER_patient12226_study1_ value: 1\n",
      "test/XR_FINGER_patient12226_study1_ 0\n",
      "\n",
      "Dictionary key: test/XR_FOREARM_patient12064_study1_ value: 0\n",
      "test/XR_FOREARM_patient12064_study1_ 1\n",
      "\n",
      "Dictionary key: test/XR_FINGER_patient12250_study1_ value: 1\n",
      "test/XR_FINGER_patient12250_study1_ 0\n",
      "\n",
      "Dictionary key: test/XR_FOREARM_patient12060_study1_ value: 0\n",
      "test/XR_FOREARM_patient12060_study1_ 0\n",
      "\n",
      "Dictionary key: test/XR_ELBOW_patient12127_study1_ value: 0\n",
      "test/XR_ELBOW_patient12127_study1_ 1\n",
      "\n",
      "Dictionary key: test/XR_FOREARM_patient12072_study1_ value: 0\n",
      "test/XR_FOREARM_patient12072_study1_ 0\n",
      "\n",
      "Dictionary key: test/XR_HAND_patient12097_study1_ value: 0\n",
      "test/XR_HAND_patient12097_study1_ 0\n",
      "\n",
      "Dictionary key: test/XR_SHOULDER_patient12174_study1_ value: 1\n",
      "test/XR_SHOULDER_patient12174_study1_ 1\n",
      "\n",
      "Dictionary key: test/XR_WRIST_patient12195_study1_ value: 1\n",
      "test/XR_WRIST_patient12195_study1_ 1\n",
      "\n",
      "Dictionary key: test/XR_WRIST_patient12212_study1_ value: 1\n",
      "test/XR_WRIST_patient12212_study1_ 1\n",
      "\n",
      "Dictionary key: test/XR_WRIST_patient12198_study1_ value: 0\n",
      "test/XR_WRIST_patient12198_study1_ 1\n",
      "\n",
      "Dictionary key: test/XR_HAND_patient12074_study1_ value: 0\n",
      "test/XR_HAND_patient12074_study1_ 0\n",
      "\n",
      "Dictionary key: test/XR_HAND_patient12100_study1_ value: 0\n",
      "test/XR_HAND_patient12100_study1_ 0\n",
      "\n",
      "Dictionary key: test/XR_FINGER_patient12238_study1_ value: 0\n",
      "test/XR_FINGER_patient12238_study1_ 1\n",
      "\n",
      "Dictionary key: test/XR_WRIST_patient12205_study1_ value: 1\n",
      "test/XR_WRIST_patient12205_study1_ 1\n",
      "\n",
      "Dictionary key: test/XR_SHOULDER_patient12171_study1_ value: 1\n",
      "test/XR_SHOULDER_patient12171_study1_ 0\n",
      "\n",
      "Dictionary key: test/XR_HUMERUS_patient12141_study1_ value: 1\n",
      "test/XR_HUMERUS_patient12141_study1_ 1\n",
      "\n",
      "Dictionary key: test/XR_FOREARM_patient12071_study1_ value: 0\n",
      "test/XR_FOREARM_patient12071_study1_ 1\n",
      "\n",
      "Dictionary key: test/XR_FINGER_patient12223_study1_ value: 1\n",
      "test/XR_FINGER_patient12223_study1_ 0\n",
      "\n",
      "Dictionary key: test/XR_HUMERUS_patient12150_study1_ value: 0\n",
      "test/XR_HUMERUS_patient12150_study1_ 0\n",
      "\n",
      "Dictionary key: test/XR_SHOULDER_patient12191_study1_ value: 0\n",
      "test/XR_SHOULDER_patient12191_study1_ 1\n",
      "\n",
      "Dictionary key: test/XR_FOREARM_patient12045_study1_ value: 0\n",
      "test/XR_FOREARM_patient12045_study1_ 0\n",
      "\n",
      "Dictionary key: test/XR_WRIST_patient12197_study1_ value: 1\n",
      "test/XR_WRIST_patient12197_study1_ 0\n",
      "\n",
      "Dictionary key: test/XR_FINGER_patient12228_study1_ value: 1\n",
      "test/XR_FINGER_patient12228_study1_ 0\n",
      "\n",
      "Dictionary key: test/XR_FINGER_patient12251_study1_ value: 0\n",
      "test/XR_FINGER_patient12251_study1_ 0\n",
      "\n",
      "Dictionary key: test/XR_HUMERUS_patient12158_study1_ value: 0\n",
      "test/XR_HUMERUS_patient12158_study1_ 1\n",
      "\n",
      "Dictionary key: test/XR_FOREARM_patient12055_study1_ value: 1\n",
      "test/XR_FOREARM_patient12055_study1_ 1\n",
      "\n",
      "Dictionary key: test/XR_FOREARM_patient12048_study1_ value: 1\n",
      "test/XR_FOREARM_patient12048_study1_ 1\n",
      "\n",
      "Dictionary key: test/XR_WRIST_patient12201_study1_ value: 1\n",
      "test/XR_WRIST_patient12201_study1_ 0\n",
      "\n",
      "Dictionary key: test/XR_FOREARM_patient12062_study1_ value: 1\n",
      "test/XR_FOREARM_patient12062_study1_ 1\n",
      "\n",
      "Dictionary key: test/XR_WRIST_patient12208_study1_ value: 1\n",
      "test/XR_WRIST_patient12208_study1_ 1\n",
      "\n",
      "Dictionary key: test/XR_SHOULDER_patient12180_study1_ value: 1\n",
      "test/XR_SHOULDER_patient12180_study1_ 0\n",
      "\n",
      "Dictionary key: test/XR_WRIST_patient12196_study1_ value: 1\n",
      "test/XR_WRIST_patient12196_study1_ 1\n",
      "\n",
      "Dictionary key: test/XR_FINGER_patient12232_study1_ value: 1\n",
      "test/XR_FINGER_patient12232_study1_ 0\n",
      "\n",
      "Dictionary key: test/XR_WRIST_patient12214_study1_ value: 0\n",
      "test/XR_WRIST_patient12214_study1_ 0\n",
      "\n",
      "Dictionary key: test/XR_HAND_patient12103_study1_ value: 0\n",
      "test/XR_HAND_patient12103_study1_ 1\n",
      "\n",
      "Dictionary key: test/XR_HAND_patient12075_study1_ value: 0\n",
      "test/XR_HAND_patient12075_study1_ 1\n",
      "\n",
      "Dictionary key: test/XR_FINGER_patient12244_study1_ value: 0\n",
      "test/XR_FINGER_patient12244_study1_ 1\n",
      "\n",
      "Dictionary key: test/XR_ELBOW_patient12125_study1_ value: 0\n",
      "test/XR_ELBOW_patient12125_study1_ 0\n",
      "\n",
      "Dictionary key: test/XR_HUMERUS_patient12136_study1_ value: 1\n",
      "test/XR_HUMERUS_patient12136_study1_ 0\n",
      "\n",
      "Dictionary key: test/XR_HUMERUS_patient12163_study1_ value: 0\n",
      "test/XR_HUMERUS_patient12163_study1_ 1\n",
      "\n",
      "Dictionary key: test/XR_HUMERUS_patient12151_study1_ value: 0\n",
      "test/XR_HUMERUS_patient12151_study1_ 0\n",
      "\n",
      "Dictionary key: test/XR_FINGER_patient12156_study1_ value: 0\n",
      "test/XR_FINGER_patient12156_study1_ 1\n",
      "\n",
      "Dictionary key: test/XR_FOREARM_patient12059_study1_ value: 0\n",
      "test/XR_FOREARM_patient12059_study1_ 0\n",
      "\n",
      "Dictionary key: test/XR_HUMERUS_patient12144_study1_ value: 1\n",
      "test/XR_HUMERUS_patient12144_study1_ 0\n",
      "\n",
      "Dictionary key: test/XR_HUMERUS_patient12139_study1_ value: 1\n",
      "test/XR_HUMERUS_patient12139_study1_ 1\n",
      "\n",
      "Dictionary key: test/XR_WRIST_patient12222_study1_ value: 0\n",
      "test/XR_WRIST_patient12222_study1_ 0\n",
      "\n",
      "Dictionary key: test/XR_FINGER_patient12233_study1_ value: 1\n",
      "test/XR_FINGER_patient12233_study1_ 0\n",
      "\n",
      "Dictionary key: test/XR_FOREARM_patient12063_study1_ value: 0\n",
      "test/XR_FOREARM_patient12063_study1_ 1\n",
      "\n",
      "Dictionary key: test/XR_SHOULDER_patient12187_study1_ value: 0\n",
      "test/XR_SHOULDER_patient12187_study1_ 0\n",
      "\n",
      "Dictionary key: test/XR_SHOULDER_patient12164_study1_ value: 1\n",
      "test/XR_SHOULDER_patient12164_study1_ 1\n",
      "\n",
      "Dictionary key: test/XR_HUMERUS_patient12157_study1_ value: 0\n",
      "test/XR_HUMERUS_patient12157_study1_ 0\n",
      "\n",
      "Dictionary key: test/XR_FOREARM_patient12065_study1_ value: 0\n",
      "test/XR_FOREARM_patient12065_study1_ 1\n",
      "\n",
      "Dictionary key: test/XR_ELBOW_patient12129_study1_ value: 0\n",
      "test/XR_ELBOW_patient12129_study1_ 1\n",
      "\n",
      "Dictionary key: test/XR_FOREARM_patient12068_study1_ value: 1\n",
      "test/XR_FOREARM_patient12068_study1_ 0\n",
      "\n",
      "Dictionary key: test/XR_SHOULDER_patient12169_study1_ value: 0\n",
      "test/XR_SHOULDER_patient12169_study1_ 1\n",
      "\n",
      "Dictionary key: test/XR_WRIST_patient12204_study1_ value: 1\n",
      "test/XR_WRIST_patient12204_study1_ 1\n",
      "\n",
      "Dictionary key: test/XR_HUMERUS_patient12135_study1_ value: 0\n",
      "test/XR_HUMERUS_patient12135_study1_ 1\n",
      "\n",
      "Dictionary key: test/XR_ELBOW_patient12121_study1_ value: 0\n",
      "test/XR_ELBOW_patient12121_study1_ 1\n",
      "\n",
      "Dictionary key: test/XR_ELBOW_patient12133_study1_ value: 1\n",
      "test/XR_ELBOW_patient12133_study1_ 1\n",
      "\n",
      "Dictionary key: test/XR_ELBOW_patient12106_study1_ value: 1\n",
      "test/XR_ELBOW_patient12106_study1_ 1\n",
      "\n",
      "Dictionary key: test/XR_FOREARM_patient12050_study1_ value: 1\n",
      "test/XR_FOREARM_patient12050_study1_ 1\n",
      "\n",
      "Dictionary key: test/XR_SHOULDER_patient12166_study1_ value: 0\n",
      "test/XR_SHOULDER_patient12166_study1_ 1\n",
      "\n",
      "Dictionary key: test/XR_HUMERUS_patient12142_study1_ value: 1\n",
      "test/XR_HUMERUS_patient12142_study1_ 1\n",
      "\n",
      "Dictionary key: test/XR_FOREARM_patient12058_study1_ value: 1\n",
      "test/XR_FOREARM_patient12058_study1_ 1\n",
      "\n",
      "Dictionary key: test/XR_SHOULDER_patient12172_study1_ value: 1\n",
      "test/XR_SHOULDER_patient12172_study1_ 0\n",
      "\n",
      "Dictionary key: test/XR_HAND_patient12077_study1_ value: 1\n",
      "test/XR_HAND_patient12077_study1_ 1\n",
      "\n",
      "Dictionary key: test/XR_ELBOW_patient12112_study1_ value: 1\n",
      "test/XR_ELBOW_patient12112_study1_ 0\n",
      "\n",
      "Dictionary key: test/XR_WRIST_patient12206_study1_ value: 1\n",
      "test/XR_WRIST_patient12206_study1_ 1\n",
      "\n",
      "Dictionary key: test/XR_FINGER_patient12247_study1_ value: 0\n",
      "test/XR_FINGER_patient12247_study1_ 1\n",
      "\n",
      "Dictionary key: test/XR_ELBOW_patient12110_study1_ value: 0\n",
      "test/XR_ELBOW_patient12110_study1_ 1\n",
      "\n",
      "Dictionary key: test/XR_HAND_patient12078_study1_ value: 1\n",
      "test/XR_HAND_patient12078_study1_ 1\n",
      "\n",
      "Dictionary key: test/XR_HAND_patient12089_study1_ value: 1\n",
      "test/XR_HAND_patient12089_study1_ 1\n",
      "\n",
      "Dictionary key: test/XR_ELBOW_patient12116_study1_ value: 1\n",
      "test/XR_ELBOW_patient12116_study1_ 1\n",
      "\n",
      "Dictionary key: test/XR_HUMERUS_patient12149_study1_ value: 0\n",
      "test/XR_HUMERUS_patient12149_study1_ 1\n",
      "\n",
      "Dictionary key: test/XR_WRIST_patient12200_study1_ value: 0\n",
      "test/XR_WRIST_patient12200_study1_ 0\n",
      "\n",
      "Dictionary key: test/XR_FOREARM_patient12057_study1_ value: 1\n",
      "test/XR_FOREARM_patient12057_study1_ 0\n",
      "\n",
      "Dictionary key: test/XR_HUMERUS_patient12153_study1_ value: 1\n",
      "test/XR_HUMERUS_patient12153_study1_ 0\n",
      "\n",
      "Dictionary key: test/XR_FINGER_patient12224_study1_ value: 0\n",
      "test/XR_FINGER_patient12224_study1_ 0\n",
      "\n",
      "Dictionary key: test/XR_FINGER_patient12227_study1_ value: 1\n",
      "test/XR_FINGER_patient12227_study1_ 1\n",
      "\n",
      "Dictionary key: test/XR_FINGER_patient12237_study1_ value: 0\n",
      "test/XR_FINGER_patient12237_study1_ 0\n",
      "\n",
      "Dictionary key: test/XR_SHOULDER_patient12176_study1_ value: 1\n",
      "test/XR_SHOULDER_patient12176_study1_ 0\n",
      "\n",
      "Dictionary key: test/XR_WRIST_patient12213_study1_ value: 0\n",
      "test/XR_WRIST_patient12213_study1_ 0\n",
      "\n",
      "Dictionary key: test/XR_HUMERUS_patient12161_study1_ value: 0\n",
      "test/XR_HUMERUS_patient12161_study1_ 1\n",
      "\n",
      "Dictionary key: test/XR_FOREARM_patient12073_study1_ value: 0\n",
      "test/XR_FOREARM_patient12073_study1_ 0\n",
      "\n",
      "Dictionary key: test/XR_HUMERUS_patient12140_study1_ value: 1\n",
      "test/XR_HUMERUS_patient12140_study1_ 0\n",
      "\n",
      "Dictionary key: test/XR_FINGER_patient12239_study1_ value: 0\n",
      "test/XR_FINGER_patient12239_study1_ 0\n",
      "\n",
      "Dictionary key: test/XR_FOREARM_patient12070_study1_ value: 0\n",
      "test/XR_FOREARM_patient12070_study1_ 0\n",
      "\n",
      "Dictionary key: test/XR_HAND_patient12083_study1_ value: 0\n",
      "test/XR_HAND_patient12083_study1_ 0\n",
      "\n",
      "Dictionary key: test/XR_HUMERUS_patient12148_study1_ value: 1\n",
      "test/XR_HUMERUS_patient12148_study1_ 1\n",
      "\n",
      "Dictionary key: test/XR_FINGER_patient12231_study1_ value: 1\n",
      "test/XR_FINGER_patient12231_study1_ 1\n",
      "\n",
      "Dictionary key: test/XR_HAND_patient12098_study1_ value: 0\n",
      "test/XR_HAND_patient12098_study1_ 1\n",
      "\n",
      "Dictionary key: test/XR_HAND_patient12082_study1_ value: 1\n",
      "test/XR_HAND_patient12082_study1_ 1\n",
      "\n",
      "Dictionary key: test/XR_ELBOW_patient12109_study1_ value: 1\n",
      "test/XR_ELBOW_patient12109_study1_ 0\n",
      "\n",
      "Dictionary key: test/XR_FINGER_patient12230_study1_ value: 1\n",
      "test/XR_FINGER_patient12230_study1_ 1\n",
      "\n",
      "Dictionary key: test/XR_WRIST_patient12220_study1_ value: 0\n",
      "test/XR_WRIST_patient12220_study1_ 1\n",
      "\n",
      "Dictionary key: test/XR_HAND_patient12086_study1_ value: 0\n",
      "test/XR_HAND_patient12086_study1_ 1\n",
      "\n",
      "Dictionary key: test/XR_HUMERUS_patient12134_study1_ value: 1\n",
      "test/XR_HUMERUS_patient12134_study1_ 1\n",
      "\n",
      "Dictionary key: test/XR_FOREARM_patient12051_study1_ value: 1\n",
      "test/XR_FOREARM_patient12051_study1_ 0\n",
      "\n",
      "Dictionary key: test/XR_HUMERUS_patient12152_study1_ value: 0\n",
      "test/XR_HUMERUS_patient12152_study1_ 0\n",
      "\n",
      "Dictionary key: test/XR_HUMERUS_patient12146_study1_ value: 0\n",
      "test/XR_HUMERUS_patient12146_study1_ 0\n",
      "\n",
      "Dictionary key: test/XR_WRIST_patient12221_study1_ value: 0\n",
      "test/XR_WRIST_patient12221_study1_ 1\n",
      "\n",
      "Dictionary key: test/XR_FOREARM_patient12049_study1_ value: 0\n",
      "test/XR_FOREARM_patient12049_study1_ 1\n",
      "\n",
      "Dictionary key: test/XR_ELBOW_patient12123_study1_ value: 0\n",
      "test/XR_ELBOW_patient12123_study1_ 1\n",
      "\n",
      "Dictionary key: test/XR_HUMERUS_patient12162_study1_ value: 0\n",
      "test/XR_HUMERUS_patient12162_study1_ 1\n",
      "\n",
      "Dictionary key: test/XR_HUMERUS_patient12159_study1_ value: 0\n",
      "test/XR_HUMERUS_patient12159_study1_ 1\n",
      "\n",
      "Dictionary key: test/XR_WRIST_patient12218_study1_ value: 0\n",
      "test/XR_WRIST_patient12218_study1_ 0\n",
      "\n",
      "Dictionary key: test/XR_WRIST_patient12210_study1_ value: 0\n",
      "test/XR_WRIST_patient12210_study1_ 1\n",
      "\n",
      "Dictionary key: test/XR_FOREARM_patient12053_study1_ value: 1\n",
      "test/XR_FOREARM_patient12053_study1_ 1\n",
      "\n",
      "Dictionary key: test/XR_FINGER_patient12245_study1_ value: 0\n",
      "test/XR_FINGER_patient12245_study1_ 0\n",
      "\n",
      "Dictionary key: test/XR_HUMERUS_patient12156_study1_ value: 0\n",
      "test/XR_HUMERUS_patient12156_study1_ 0\n",
      "\n",
      "Dictionary key: test/XR_HAND_patient12088_study1_ value: 0\n",
      "test/XR_HAND_patient12088_study1_ 1\n",
      "\n",
      "Dictionary key: test/XR_SHOULDER_patient12182_study1_ value: 1\n",
      "test/XR_SHOULDER_patient12182_study1_ 0\n",
      "\n",
      "Dictionary key: test/XR_ELBOW_patient12131_study1_ value: 0\n",
      "test/XR_ELBOW_patient12131_study1_ 0\n",
      "\n",
      "Dictionary key: test/XR_ELBOW_patient12113_study1_ value: 1\n",
      "test/XR_ELBOW_patient12113_study1_ 0\n",
      "\n",
      "Dictionary key: test/XR_FINGER_patient12248_study1_ value: 1\n"
     ]
    },
    {
     "name": "stdout",
     "output_type": "stream",
     "text": [
      "test/XR_FINGER_patient12248_study1_ 1\n",
      "\n",
      "Dictionary key: test/XR_HUMERUS_patient12137_study1_ value: 1\n",
      "test/XR_HUMERUS_patient12137_study1_ 1\n",
      "\n",
      "Dictionary key: test/XR_HAND_patient12087_study1_ value: 1\n",
      "test/XR_HAND_patient12087_study1_ 1\n",
      "\n",
      "Dictionary key: test/XR_WRIST_patient12194_study1_ value: 1\n",
      "test/XR_WRIST_patient12194_study1_ 0\n",
      "\n",
      "Dictionary key: test/XR_SHOULDER_patient12186_study1_ value: 1\n",
      "test/XR_SHOULDER_patient12186_study1_ 1\n",
      "\n",
      "Dictionary key: test/XR_ELBOW_patient12115_study1_ value: 0\n",
      "test/XR_ELBOW_patient12115_study1_ 0\n",
      "\n",
      "Dictionary key: test/XR_FOREARM_patient12061_study1_ value: 0\n",
      "test/XR_FOREARM_patient12061_study1_ 1\n",
      "\n",
      "Dictionary key: test/XR_ELBOW_patient12120_study1_ value: 0\n",
      "test/XR_ELBOW_patient12120_study1_ 1\n",
      "\n",
      "Dictionary key: test/XR_HUMERUS_patient12147_study1_ value: 1\n",
      "test/XR_HUMERUS_patient12147_study1_ 1\n",
      "\n",
      "Dictionary key: test/XR_SHOULDER_patient12181_study1_ value: 0\n",
      "test/XR_SHOULDER_patient12181_study1_ 0\n",
      "\n",
      "Dictionary key: test/XR_FOREARM_patient12046_study1_ value: 1\n",
      "test/XR_FOREARM_patient12046_study1_ 1\n",
      "\n",
      "Dictionary key: test/XR_HUMERUS_patient12138_study1_ value: 0\n",
      "test/XR_HUMERUS_patient12138_study1_ 1\n",
      "\n",
      "Dictionary key: test/XR_FINGER_patient12243_study1_ value: 0\n",
      "test/XR_FINGER_patient12243_study1_ 1\n",
      "\n",
      "Dictionary key: test/XR_FINGER_patient12240_study1_ value: 0\n",
      "test/XR_FINGER_patient12240_study1_ 0\n",
      "\n",
      "Dictionary key: test/XR_SHOULDER_patient12177_study1_ value: 0\n",
      "test/XR_SHOULDER_patient12177_study1_ 0\n",
      "\n",
      "Dictionary key: test/XR_FOREARM_patient12066_study1_ value: 0\n",
      "test/XR_FOREARM_patient12066_study1_ 0\n",
      "\n",
      "Dictionary key: test/XR_FOREARM_patient12047_study1_ value: 1\n",
      "test/XR_FOREARM_patient12047_study1_ 0\n",
      "\n",
      "Dictionary key: test/XR_ELBOW_patient12114_study1_ value: 1\n",
      "test/XR_ELBOW_patient12114_study1_ 1\n",
      "\n",
      "Dictionary key: test/XR_HUMERUS_patient12155_study1_ value: 0\n",
      "test/XR_HUMERUS_patient12155_study1_ 1\n",
      "\n"
     ]
    },
    {
     "data": {
      "text/plain": [
       "0.5454545454545454"
      ]
     },
     "execution_count": 183,
     "metadata": {},
     "output_type": "execute_result"
    }
   ],
   "source": [
    "test_accuracy(predictions_dict, df_test)"
   ]
  },
  {
   "cell_type": "code",
   "execution_count": 184,
   "metadata": {},
   "outputs": [],
   "source": [
    "cm = confusion_matrix(y,preds);"
   ]
  },
  {
   "cell_type": "code",
   "execution_count": 185,
   "metadata": {},
   "outputs": [
    {
     "name": "stdout",
     "output_type": "stream",
     "text": [
      "[[51 38]\n",
      " [57 63]]\n"
     ]
    },
    {
     "data": {
      "image/png": "[encoded data removed]",
      "text/plain": [
       "<Figure size 432x288 with 2 Axes>"
      ]
     },
     "metadata": {},
     "output_type": "display_data"
    }
   ],
   "source": [
    "plot_confusion_matrix(cm, data.classes)"
   ]
  }
 ],
 "metadata": {
  "kernelspec": {
   "display_name": "fastai",
   "language": "python",
   "name": "fastai"
  },
  "language_info": {
   "codemirror_mode": {
    "name": "ipython",
    "version": 3
   },
   "file_extension": ".py",
   "mimetype": "text/x-python",
   "name": "python",
   "nbconvert_exporter": "python",
   "pygments_lexer": "ipython3",
   "version": "3.6.5"
  }
 },
 "nbformat": 4,
 "nbformat_minor": 2
}
