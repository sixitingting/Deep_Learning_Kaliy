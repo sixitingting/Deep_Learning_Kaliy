{
 "cells": [
  {
   "cell_type": "code",
   "execution_count": 1,
   "metadata": {},
   "outputs": [],
   "source": [
    "%reload_ext autoreload\n",
    "%autoreload 2\n",
    "%matplotlib inline"
   ]
  },
  {
   "cell_type": "markdown",
   "metadata": {},
   "source": [
    "# MURA"
   ]
  },
  {
   "cell_type": "code",
   "execution_count": 2,
   "metadata": {},
   "outputs": [],
   "source": [
    "import sys\n",
    "sys.path.append(\"../../fastai/\")"
   ]
  },
  {
   "cell_type": "code",
   "execution_count": 3,
   "metadata": {},
   "outputs": [],
   "source": [
    "from fastai.imports import *\n",
    "from fastai.transforms import *\n",
    "from fastai.conv_learner import *\n",
    "from fastai.model import *\n",
    "from fastai.dataset import *\n",
    "from fastai.sgdr import *\n",
    "from fastai.plots import *\n",
    "from sklearn.metrics import confusion_matrix"
   ]
  },
  {
   "cell_type": "code",
   "execution_count": 4,
   "metadata": {},
   "outputs": [],
   "source": [
    "PATH = \"/home/sathiesh/Deep_Learning_Kaliy/my_projects/mura/data/\"  #MMIV\n",
    "#PATH = \"/Users/Sathiesh/MachineLearning/Deep_Learning_Kaliy/my_projects/mura/data/\" #Home"
   ]
  },
  {
   "cell_type": "code",
   "execution_count": 5,
   "metadata": {},
   "outputs": [
    {
     "data": {
      "text/plain": [
       "['test_submission_example.csv',\n",
       " 'models',\n",
       " 'tmp',\n",
       " 'MURA-v1.0',\n",
       " 'valid.csv',\n",
       " 'test',\n",
       " 'cleaned_label.csv',\n",
       " 'train.csv']"
      ]
     },
     "execution_count": 5,
     "metadata": {},
     "output_type": "execute_result"
    }
   ],
   "source": [
    "os.listdir(PATH)"
   ]
  },
  {
   "cell_type": "code",
   "execution_count": 6,
   "metadata": {},
   "outputs": [],
   "source": [
    "df_train = pd.read_csv(f'{PATH}train.csv')\n",
    "df_valid = pd.read_csv(f'{PATH}valid.csv')"
   ]
  },
  {
   "cell_type": "code",
   "execution_count": 7,
   "metadata": {},
   "outputs": [
    {
     "data": {
      "text/html": [
       "<div>\n",
       "<style scoped>\n",
       "    .dataframe tbody tr th:only-of-type {\n",
       "        vertical-align: middle;\n",
       "    }\n",
       "\n",
       "    .dataframe tbody tr th {\n",
       "        vertical-align: top;\n",
       "    }\n",
       "\n",
       "    .dataframe thead th {\n",
       "        text-align: right;\n",
       "    }\n",
       "</style>\n",
       "<table border=\"1\" class=\"dataframe\">\n",
       "  <thead>\n",
       "    <tr style=\"text-align: right;\">\n",
       "      <th></th>\n",
       "      <th>MURA-v1.0/train/XR_SHOULDER/patient00001/study1_positive/image1.png</th>\n",
       "      <th>1</th>\n",
       "    </tr>\n",
       "  </thead>\n",
       "  <tbody>\n",
       "    <tr>\n",
       "      <th>0</th>\n",
       "      <td>MURA-v1.0/train/XR_SHOULDER/patient00001/study...</td>\n",
       "      <td>1</td>\n",
       "    </tr>\n",
       "    <tr>\n",
       "      <th>1</th>\n",
       "      <td>MURA-v1.0/train/XR_SHOULDER/patient00001/study...</td>\n",
       "      <td>1</td>\n",
       "    </tr>\n",
       "    <tr>\n",
       "      <th>2</th>\n",
       "      <td>MURA-v1.0/train/XR_SHOULDER/patient00002/study...</td>\n",
       "      <td>1</td>\n",
       "    </tr>\n",
       "    <tr>\n",
       "      <th>3</th>\n",
       "      <td>MURA-v1.0/train/XR_SHOULDER/patient00002/study...</td>\n",
       "      <td>1</td>\n",
       "    </tr>\n",
       "    <tr>\n",
       "      <th>4</th>\n",
       "      <td>MURA-v1.0/train/XR_SHOULDER/patient00002/study...</td>\n",
       "      <td>1</td>\n",
       "    </tr>\n",
       "  </tbody>\n",
       "</table>\n",
       "</div>"
      ],
      "text/plain": [
       "  MURA-v1.0/train/XR_SHOULDER/patient00001/study1_positive/image1.png  1\n",
       "0  MURA-v1.0/train/XR_SHOULDER/patient00001/study...                   1\n",
       "1  MURA-v1.0/train/XR_SHOULDER/patient00001/study...                   1\n",
       "2  MURA-v1.0/train/XR_SHOULDER/patient00002/study...                   1\n",
       "3  MURA-v1.0/train/XR_SHOULDER/patient00002/study...                   1\n",
       "4  MURA-v1.0/train/XR_SHOULDER/patient00002/study...                   1"
      ]
     },
     "execution_count": 7,
     "metadata": {},
     "output_type": "execute_result"
    }
   ],
   "source": [
    "df_train.head()"
   ]
  },
  {
   "cell_type": "code",
   "execution_count": 8,
   "metadata": {},
   "outputs": [],
   "source": [
    "df_train.columns = ['Image Index', 'Abnormality']"
   ]
  },
  {
   "cell_type": "code",
   "execution_count": 9,
   "metadata": {},
   "outputs": [],
   "source": [
    "df_valid.columns = ['Image Index', 'Abnormality']"
   ]
  },
  {
   "cell_type": "code",
   "execution_count": 10,
   "metadata": {},
   "outputs": [
    {
     "data": {
      "text/plain": [
       "((37110, 2), (3224, 2))"
      ]
     },
     "execution_count": 10,
     "metadata": {},
     "output_type": "execute_result"
    }
   ],
   "source": [
    "df_train.shape, df_valid.shape"
   ]
  },
  {
   "cell_type": "code",
   "execution_count": 11,
   "metadata": {},
   "outputs": [
    {
     "data": {
      "text/html": [
       "<div>\n",
       "<style scoped>\n",
       "    .dataframe tbody tr th:only-of-type {\n",
       "        vertical-align: middle;\n",
       "    }\n",
       "\n",
       "    .dataframe tbody tr th {\n",
       "        vertical-align: top;\n",
       "    }\n",
       "\n",
       "    .dataframe thead th {\n",
       "        text-align: right;\n",
       "    }\n",
       "</style>\n",
       "<table border=\"1\" class=\"dataframe\">\n",
       "  <thead>\n",
       "    <tr style=\"text-align: right;\">\n",
       "      <th></th>\n",
       "      <th>Image Index</th>\n",
       "      <th>Abnormality</th>\n",
       "    </tr>\n",
       "  </thead>\n",
       "  <tbody>\n",
       "    <tr>\n",
       "      <th>0</th>\n",
       "      <td>MURA-v1.0/train/XR_SHOULDER/patient00001/study...</td>\n",
       "      <td>1</td>\n",
       "    </tr>\n",
       "    <tr>\n",
       "      <th>1</th>\n",
       "      <td>MURA-v1.0/train/XR_SHOULDER/patient00001/study...</td>\n",
       "      <td>1</td>\n",
       "    </tr>\n",
       "    <tr>\n",
       "      <th>2</th>\n",
       "      <td>MURA-v1.0/train/XR_SHOULDER/patient00002/study...</td>\n",
       "      <td>1</td>\n",
       "    </tr>\n",
       "    <tr>\n",
       "      <th>3</th>\n",
       "      <td>MURA-v1.0/train/XR_SHOULDER/patient00002/study...</td>\n",
       "      <td>1</td>\n",
       "    </tr>\n",
       "    <tr>\n",
       "      <th>4</th>\n",
       "      <td>MURA-v1.0/train/XR_SHOULDER/patient00002/study...</td>\n",
       "      <td>1</td>\n",
       "    </tr>\n",
       "  </tbody>\n",
       "</table>\n",
       "</div>"
      ],
      "text/plain": [
       "                                         Image Index  Abnormality\n",
       "0  MURA-v1.0/train/XR_SHOULDER/patient00001/study...            1\n",
       "1  MURA-v1.0/train/XR_SHOULDER/patient00001/study...            1\n",
       "2  MURA-v1.0/train/XR_SHOULDER/patient00002/study...            1\n",
       "3  MURA-v1.0/train/XR_SHOULDER/patient00002/study...            1\n",
       "4  MURA-v1.0/train/XR_SHOULDER/patient00002/study...            1"
      ]
     },
     "execution_count": 11,
     "metadata": {},
     "output_type": "execute_result"
    }
   ],
   "source": [
    "df = pd.concat([df_train, df_valid], ignore_index=True)\n",
    "df.head()"
   ]
  },
  {
   "cell_type": "code",
   "execution_count": 12,
   "metadata": {},
   "outputs": [
    {
     "data": {
      "text/plain": [
       "(40334, 2)"
      ]
     },
     "execution_count": 12,
     "metadata": {},
     "output_type": "execute_result"
    }
   ],
   "source": [
    "df.shape"
   ]
  },
  {
   "cell_type": "code",
   "execution_count": 13,
   "metadata": {},
   "outputs": [],
   "source": [
    "df['Abnormality'] = df['Abnormality'].astype('bool')"
   ]
  },
  {
   "cell_type": "code",
   "execution_count": 14,
   "metadata": {},
   "outputs": [],
   "source": [
    "val_idxs = np.array(range(len(df_train), len(df)))"
   ]
  },
  {
   "cell_type": "code",
   "execution_count": 15,
   "metadata": {},
   "outputs": [],
   "source": [
    "cleaned_label_path = f'{PATH}cleaned_label.csv'\n",
    "df.to_csv(cleaned_label_path, index=False)"
   ]
  },
  {
   "cell_type": "markdown",
   "metadata": {},
   "source": [
    "# View data"
   ]
  },
  {
   "cell_type": "code",
   "execution_count": 16,
   "metadata": {},
   "outputs": [],
   "source": [
    "sz = 64\n",
    "arch = dn169\n",
    "bs = 16"
   ]
  },
  {
   "cell_type": "code",
   "execution_count": 17,
   "metadata": {},
   "outputs": [],
   "source": [
    "def get_data(sz): \n",
    "    tfms = tfms_from_model(arch, sz, aug_tfms=RandomFlip())  #transforms_side_on\n",
    "    return ImageClassifierData.from_csv(PATH ,'', cleaned_label_path , test_name='test',\n",
    "                                       val_idxs=val_idxs, tfms=tfms, bs=bs);"
   ]
  },
  {
   "cell_type": "code",
   "execution_count": 18,
   "metadata": {},
   "outputs": [],
   "source": [
    "data = get_data(sz)"
   ]
  },
  {
   "cell_type": "code",
   "execution_count": 19,
   "metadata": {},
   "outputs": [
    {
     "data": {
      "text/plain": [
       "'/home/sathiesh/Deep_Learning_Kaliy/my_projects/mura/data/MURA-v1.0/train/XR_ELBOW/patient00032/study1_negative/image2.png'"
      ]
     },
     "execution_count": 19,
     "metadata": {},
     "output_type": "execute_result"
    }
   ],
   "source": [
    "fn = PATH+data.trn_ds.fnames[10]\n",
    "fn "
   ]
  },
  {
   "cell_type": "code",
   "execution_count": 20,
   "metadata": {},
   "outputs": [
    {
     "data": {
      "image/png": "[encoded data removed]",
      "text/plain": [
       "<PIL.PngImagePlugin.PngImageFile image mode=RGB size=512x406 at 0x7EFB6E999438>"
      ]
     },
     "execution_count": 20,
     "metadata": {},
     "output_type": "execute_result"
    }
   ],
   "source": [
    "img = PIL.Image.open(fn);\n",
    "img"
   ]
  },
  {
   "cell_type": "code",
   "execution_count": 21,
   "metadata": {},
   "outputs": [
    {
     "data": {
      "text/plain": [
       "((37110,), (3224,))"
      ]
     },
     "execution_count": 21,
     "metadata": {},
     "output_type": "execute_result"
    }
   ],
   "source": [
    "data.trn_ds.fnames.shape ,data.val_ds.fnames.shape"
   ]
  },
  {
   "cell_type": "markdown",
   "metadata": {},
   "source": [
    "# Training"
   ]
  },
  {
   "cell_type": "code",
   "execution_count": 22,
   "metadata": {},
   "outputs": [],
   "source": [
    "learn = ConvLearner.pretrained(arch, data, ps = 0.5, opt_fn=optim.Adam) "
   ]
  },
  {
   "cell_type": "code",
   "execution_count": 23,
   "metadata": {},
   "outputs": [
    {
     "data": {
      "application/vnd.jupyter.widget-view+json": {
       "model_id": "1be94af210064be4a164201515f056c9",
       "version_major": 2,
       "version_minor": 0
      },
      "text/plain": [
       "HBox(children=(IntProgress(value=0, description='Epoch', max=1), HTML(value='')))"
      ]
     },
     "metadata": {},
     "output_type": "display_data"
    },
    {
     "name": "stdout",
     "output_type": "stream",
     "text": [
      " 66%|██████▌   | 1521/2320 [00:51<00:27, 29.46it/s, loss=2.8]  "
     ]
    },
    {
     "data": {
      "image/png": "[encoded data removed]",
      "text/plain": [
       "<Figure size 432x288 with 1 Axes>"
      ]
     },
     "metadata": {},
     "output_type": "display_data"
    }
   ],
   "source": [
    "learn.lr_find()\n",
    "learn.sched.plot()"
   ]
  },
  {
   "cell_type": "code",
   "execution_count": 24,
   "metadata": {},
   "outputs": [],
   "source": [
    "lr = 0.00006"
   ]
  },
  {
   "cell_type": "code",
   "execution_count": 25,
   "metadata": {},
   "outputs": [
    {
     "data": {
      "application/vnd.jupyter.widget-view+json": {
       "model_id": "0e9ab3b8ba4048d99a570f8fd493a8ff",
       "version_major": 2,
       "version_minor": 0
      },
      "text/plain": [
       "HBox(children=(IntProgress(value=0, description='Epoch', max=7), HTML(value='')))"
      ]
     },
     "metadata": {},
     "output_type": "display_data"
    },
    {
     "name": "stdout",
     "output_type": "stream",
     "text": [
      "  7%|▋         | 170/2320 [00:06<01:27, 24.50it/s, loss=0.94] \n",
      "  8%|▊         | 177/2320 [00:07<01:26, 24.71it/s, loss=0.95] "
     ]
    },
    {
     "name": "stderr",
     "output_type": "stream",
     "text": [
      "Exception in thread Thread-5:\n",
      "Traceback (most recent call last):\n",
      "  File \"/home/sathiesh/anaconda3/envs/fastai/lib/python3.6/threading.py\", line 916, in _bootstrap_inner\n",
      "    self.run()\n",
      "  File \"/home/sathiesh/anaconda3/envs/fastai/lib/python3.6/site-packages/tqdm/_monitor.py\", line 62, in run\n",
      "    for instance in self.tqdm_cls._instances:\n",
      "  File \"/home/sathiesh/anaconda3/envs/fastai/lib/python3.6/_weakrefset.py\", line 60, in __iter__\n",
      "    for itemref in self.data:\n",
      "RuntimeError: Set changed size during iteration\n",
      "\n"
     ]
    },
    {
     "name": "stdout",
     "output_type": "stream",
     "text": [
      "epoch      trn_loss   val_loss   accuracy                      \n",
      "    0      0.743861   0.611      0.672457  \n",
      "    1      0.702514   0.588997   0.686104                      \n",
      "    2      0.676549   0.600475   0.681141                      \n",
      "    3      0.651344   0.583776   0.688275                      \n",
      "    4      0.628925   0.573977   0.701613                      \n",
      "    5      0.607895   0.573309   0.701303                      \n",
      "    6      0.566394   0.572061   0.700372                      \n",
      "\n"
     ]
    },
    {
     "data": {
      "text/plain": [
       "[array([0.57206]), 0.7003722084367245]"
      ]
     },
     "execution_count": 25,
     "metadata": {},
     "output_type": "execute_result"
    }
   ],
   "source": [
    "learn.fit(lr,3, cycle_len=1, cycle_mult =2) "
   ]
  },
  {
   "cell_type": "code",
   "execution_count": 26,
   "metadata": {},
   "outputs": [
    {
     "data": {
      "application/vnd.jupyter.widget-view+json": {
       "model_id": "470f4c60ce254e579fa25be3db93be7c",
       "version_major": 2,
       "version_minor": 0
      },
      "text/plain": [
       "HBox(children=(IntProgress(value=0, description='Epoch', max=1), HTML(value='')))"
      ]
     },
     "metadata": {},
     "output_type": "display_data"
    },
    {
     "name": "stdout",
     "output_type": "stream",
     "text": [
      " 65%|██████▌   | 1516/2320 [00:49<00:26, 30.90it/s, loss=2.44] "
     ]
    },
    {
     "data": {
      "image/png": "[encoded data removed]",
      "text/plain": [
       "<Figure size 432x288 with 1 Axes>"
      ]
     },
     "metadata": {},
     "output_type": "display_data"
    }
   ],
   "source": [
    "learn.lr_find()\n",
    "learn.sched.plot()"
   ]
  },
  {
   "cell_type": "code",
   "execution_count": 27,
   "metadata": {},
   "outputs": [],
   "source": [
    "lrs = [1e-5, 1e-4, 1e-3]\n",
    "learn.unfreeze()"
   ]
  },
  {
   "cell_type": "code",
   "execution_count": 28,
   "metadata": {},
   "outputs": [
    {
     "data": {
      "application/vnd.jupyter.widget-view+json": {
       "model_id": "b3ffa35650504aa1bf9710258d29aa18",
       "version_major": 2,
       "version_minor": 0
      },
      "text/plain": [
       "HBox(children=(IntProgress(value=0, description='Epoch', max=7), HTML(value='')))"
      ]
     },
     "metadata": {},
     "output_type": "display_data"
    },
    {
     "name": "stdout",
     "output_type": "stream",
     "text": [
      "  0%|          | 1/2320 [00:00<13:37,  2.84it/s, loss=0.688]  \n",
      "  0%|          | 2/2320 [00:00<10:48,  3.58it/s, loss=0.836]"
     ]
    },
    {
     "name": "stderr",
     "output_type": "stream",
     "text": [
      "Exception in thread Thread-13:\n",
      "Traceback (most recent call last):\n",
      "  File \"/home/sathiesh/anaconda3/envs/fastai/lib/python3.6/threading.py\", line 916, in _bootstrap_inner\n",
      "    self.run()\n",
      "  File \"/home/sathiesh/anaconda3/envs/fastai/lib/python3.6/site-packages/tqdm/_monitor.py\", line 62, in run\n",
      "    for instance in self.tqdm_cls._instances:\n",
      "  File \"/home/sathiesh/anaconda3/envs/fastai/lib/python3.6/_weakrefset.py\", line 60, in __iter__\n",
      "    for itemref in self.data:\n",
      "RuntimeError: Set changed size during iteration\n",
      "\n"
     ]
    },
    {
     "name": "stdout",
     "output_type": "stream",
     "text": [
      "epoch      trn_loss   val_loss   accuracy                      \n",
      "    0      0.57061    0.549122   0.71402   \n",
      "    1      0.53582    0.516529   0.755583                      \n",
      "    2      0.506708   0.508542   0.756824                      \n",
      "    3      0.523151   0.524343   0.745658                      \n",
      "    4      0.512489   0.495216   0.776365                      \n",
      "    5      0.437171   0.488482   0.78567                       \n",
      "    6      0.447686   0.500068   0.781328                      \n",
      "\n"
     ]
    },
    {
     "data": {
      "text/plain": [
       "[array([0.50007]), 0.7813275434243176]"
      ]
     },
     "execution_count": 28,
     "metadata": {},
     "output_type": "execute_result"
    }
   ],
   "source": [
    "learn.fit(lrs, 3, cycle_len=1, cycle_mult=2)"
   ]
  },
  {
   "cell_type": "code",
   "execution_count": 29,
   "metadata": {},
   "outputs": [],
   "source": [
    "learn.save(f'{sz}')"
   ]
  },
  {
   "cell_type": "code",
   "execution_count": 30,
   "metadata": {},
   "outputs": [],
   "source": [
    "sz = 128"
   ]
  },
  {
   "cell_type": "code",
   "execution_count": 31,
   "metadata": {},
   "outputs": [],
   "source": [
    "learn.set_data(get_data(sz))\n",
    "learn.freeze()"
   ]
  },
  {
   "cell_type": "code",
   "execution_count": 32,
   "metadata": {},
   "outputs": [
    {
     "data": {
      "application/vnd.jupyter.widget-view+json": {
       "model_id": "92db431d9c6644bd8e53905ad261d433",
       "version_major": 2,
       "version_minor": 0
      },
      "text/plain": [
       "HBox(children=(IntProgress(value=0, description='Epoch', max=7), HTML(value='')))"
      ]
     },
     "metadata": {},
     "output_type": "display_data"
    },
    {
     "name": "stdout",
     "output_type": "stream",
     "text": [
      "epoch      trn_loss   val_loss   accuracy                      \n",
      "    0      0.490846   0.536483   0.737283  \n",
      "    1      0.492404   0.521461   0.748759                      \n",
      "    2      0.491857   0.524669   0.749069                      \n",
      "    3      0.471831   0.514807   0.753722                      \n",
      "    4      0.480671   0.50361    0.764578                      \n",
      "    5      0.478938   0.504298   0.763337                      \n",
      "    6      0.479088   0.50211    0.766439                      \n",
      "\n"
     ]
    },
    {
     "data": {
      "text/plain": [
       "[array([0.50211]), 0.766439205955335]"
      ]
     },
     "execution_count": 32,
     "metadata": {},
     "output_type": "execute_result"
    }
   ],
   "source": [
    "learn.fit(lr, 3, cycle_len=1, cycle_mult=2)"
   ]
  },
  {
   "cell_type": "code",
   "execution_count": 33,
   "metadata": {},
   "outputs": [
    {
     "data": {
      "application/vnd.jupyter.widget-view+json": {
       "model_id": "46733b5768904651a7a7779083851ff9",
       "version_major": 2,
       "version_minor": 0
      },
      "text/plain": [
       "HBox(children=(IntProgress(value=0, description='Epoch', max=7), HTML(value='')))"
      ]
     },
     "metadata": {},
     "output_type": "display_data"
    },
    {
     "name": "stdout",
     "output_type": "stream",
     "text": [
      "epoch      trn_loss   val_loss   accuracy                      \n",
      "    0      0.459167   0.451366   0.800868  \n",
      "    1      0.45723    0.456102   0.801799                      \n",
      "    2      0.445398   0.43953    0.814206                      \n",
      "    3      0.442651   0.449501   0.816998                      \n",
      "    4      0.391357   0.447423   0.806452                      \n",
      "    5      0.37212    0.452534   0.811725                      \n",
      "    6      0.338946   0.466706   0.811414                      \n",
      "\n"
     ]
    },
    {
     "data": {
      "text/plain": [
       "[array([0.46671]), 0.8114143920595533]"
      ]
     },
     "execution_count": 33,
     "metadata": {},
     "output_type": "execute_result"
    }
   ],
   "source": [
    "learn.unfreeze();\n",
    "learn.fit(lrs, 3, cycle_len=1, cycle_mult=2)"
   ]
  },
  {
   "cell_type": "code",
   "execution_count": 34,
   "metadata": {},
   "outputs": [],
   "source": [
    "learn.save(f'{sz}')"
   ]
  },
  {
   "cell_type": "code",
   "execution_count": 35,
   "metadata": {},
   "outputs": [],
   "source": [
    "sz = 256"
   ]
  },
  {
   "cell_type": "code",
   "execution_count": 36,
   "metadata": {},
   "outputs": [],
   "source": [
    "learn.set_data(get_data(sz))\n",
    "learn.freeze() "
   ]
  },
  {
   "cell_type": "code",
   "execution_count": 37,
   "metadata": {},
   "outputs": [
    {
     "data": {
      "application/vnd.jupyter.widget-view+json": {
       "model_id": "9f519a45fc6d46fa847a0952dbe14b0e",
       "version_major": 2,
       "version_minor": 0
      },
      "text/plain": [
       "HBox(children=(IntProgress(value=0, description='Epoch', max=7), HTML(value='')))"
      ]
     },
     "metadata": {},
     "output_type": "display_data"
    },
    {
     "name": "stdout",
     "output_type": "stream",
     "text": [
      "epoch      trn_loss   val_loss   accuracy                      \n",
      "    0      0.50343    0.508524   0.764268  \n",
      "    1      0.469978   0.485327   0.771402                      \n",
      "    2      0.459627   0.473093   0.774814                      \n",
      "    3      0.464745   0.46285    0.778846                      \n",
      "    4      0.4531     0.460695   0.780707                      \n",
      "    5      0.461794   0.471509   0.780087                      \n",
      "    6      0.446864   0.469303   0.782568                      \n",
      "\n"
     ]
    },
    {
     "data": {
      "text/plain": [
       "[array([0.4693]), 0.7825682382133995]"
      ]
     },
     "execution_count": 37,
     "metadata": {},
     "output_type": "execute_result"
    }
   ],
   "source": [
    "learn.fit(lr, 3, cycle_len=1, cycle_mult=2)"
   ]
  },
  {
   "cell_type": "code",
   "execution_count": 38,
   "metadata": {},
   "outputs": [
    {
     "data": {
      "application/vnd.jupyter.widget-view+json": {
       "model_id": "a839f1ab7dc6443d861dd56111f940ca",
       "version_major": 2,
       "version_minor": 0
      },
      "text/plain": [
       "HBox(children=(IntProgress(value=0, description='Epoch', max=7), HTML(value='')))"
      ]
     },
     "metadata": {},
     "output_type": "display_data"
    },
    {
     "name": "stdout",
     "output_type": "stream",
     "text": [
      "epoch      trn_loss   val_loss   accuracy                      \n",
      "    0      0.413674   0.411332   0.827233  \n",
      "    1      0.416648   0.413801   0.819789                      \n",
      "    2      0.38982    0.409536   0.824752                      \n",
      "    3      0.41908    0.441806   0.817928                      \n",
      "    4      0.367771   0.408048   0.829715                      \n",
      "    5      0.302487   0.42126    0.828784                      \n",
      "    6      0.297287   0.429268   0.826613                      \n",
      "\n"
     ]
    }
   ],
   "source": [
    "learn.unfreeze()\n",
    "learn.fit(lrs, 3, cycle_len=1, cycle_mult=2)\n",
    "#Hvis ikke overfitting her: \n",
    "learn.save(f'{sz}121')"
   ]
  },
  {
   "cell_type": "code",
   "execution_count": 39,
   "metadata": {},
   "outputs": [
    {
     "data": {
      "image/png": "[encoded data removed]",
      "text/plain": [
       "<Figure size 432x288 with 1 Axes>"
      ]
     },
     "metadata": {},
     "output_type": "display_data"
    }
   ],
   "source": [
    "learn.sched.plot_loss()"
   ]
  },
  {
   "cell_type": "markdown",
   "metadata": {},
   "source": [
    "# Transfer learning "
   ]
  },
  {
   "cell_type": "code",
   "execution_count": 40,
   "metadata": {},
   "outputs": [],
   "source": [
    "sz = 256\n",
    "data = get_data(sz)"
   ]
  },
  {
   "cell_type": "code",
   "execution_count": 41,
   "metadata": {},
   "outputs": [],
   "source": [
    "learnTL = ConvLearner.pretrained(arch, data, opt_fn=optim.Adam, ps = 0.5) "
   ]
  },
  {
   "cell_type": "code",
   "execution_count": 42,
   "metadata": {},
   "outputs": [],
   "source": [
    "learnTL.load('256169denne') #pretrained weights on chestX 14 dataset "
   ]
  },
  {
   "cell_type": "code",
   "execution_count": 43,
   "metadata": {},
   "outputs": [],
   "source": [
    "sz = 64"
   ]
  },
  {
   "cell_type": "code",
   "execution_count": 44,
   "metadata": {},
   "outputs": [],
   "source": [
    "learnTL.set_data(get_data(sz))"
   ]
  },
  {
   "cell_type": "code",
   "execution_count": 45,
   "metadata": {},
   "outputs": [
    {
     "data": {
      "application/vnd.jupyter.widget-view+json": {
       "model_id": "949df1756f7e4402b0760829e8ed1886",
       "version_major": 2,
       "version_minor": 0
      },
      "text/plain": [
       "HBox(children=(IntProgress(value=0, description='Epoch', max=1), HTML(value='')))"
      ]
     },
     "metadata": {},
     "output_type": "display_data"
    },
    {
     "name": "stdout",
     "output_type": "stream",
     "text": [
      " 65%|██████▌   | 1515/2320 [00:54<00:29, 27.76it/s, loss=2.66] "
     ]
    },
    {
     "data": {
      "image/png": "[encoded data removed]",
      "text/plain": [
       "<Figure size 432x288 with 1 Axes>"
      ]
     },
     "metadata": {},
     "output_type": "display_data"
    }
   ],
   "source": [
    "learnTL.lr_find()\n",
    "learnTL.sched.plot()"
   ]
  },
  {
   "cell_type": "code",
   "execution_count": 46,
   "metadata": {},
   "outputs": [],
   "source": [
    "lr = 0.0001"
   ]
  },
  {
   "cell_type": "code",
   "execution_count": 47,
   "metadata": {},
   "outputs": [
    {
     "data": {
      "application/vnd.jupyter.widget-view+json": {
       "model_id": "4d5d598691f54d3cb101f0a3cde060b0",
       "version_major": 2,
       "version_minor": 0
      },
      "text/plain": [
       "HBox(children=(IntProgress(value=0, description='Epoch', max=7), HTML(value='')))"
      ]
     },
     "metadata": {},
     "output_type": "display_data"
    },
    {
     "name": "stdout",
     "output_type": "stream",
     "text": [
      "  5%|▌         | 122/2320 [00:04<01:28, 24.76it/s, loss=0.97] \n",
      "  6%|▌         | 130/2320 [00:05<01:26, 25.35it/s, loss=1]    "
     ]
    },
    {
     "name": "stderr",
     "output_type": "stream",
     "text": [
      "Exception in thread Thread-53:\n",
      "Traceback (most recent call last):\n",
      "  File \"/home/sathiesh/anaconda3/envs/fastai/lib/python3.6/threading.py\", line 916, in _bootstrap_inner\n",
      "    self.run()\n",
      "  File \"/home/sathiesh/anaconda3/envs/fastai/lib/python3.6/site-packages/tqdm/_monitor.py\", line 62, in run\n",
      "    for instance in self.tqdm_cls._instances:\n",
      "  File \"/home/sathiesh/anaconda3/envs/fastai/lib/python3.6/_weakrefset.py\", line 60, in __iter__\n",
      "    for itemref in self.data:\n",
      "RuntimeError: Set changed size during iteration\n",
      "\n"
     ]
    },
    {
     "name": "stdout",
     "output_type": "stream",
     "text": [
      "epoch      trn_loss   val_loss   accuracy                      \n",
      "    0      0.641237   0.651138   0.610732  \n",
      "    1      0.618197   0.619256   0.657258                      \n",
      "    2      0.633409   0.61511    0.665323                      \n",
      "    3      0.602981   0.610857   0.668114                      \n",
      "    4      0.603963   0.592991   0.688275                      \n",
      "    5      0.571963   0.596651   0.679591                      \n",
      "    6      0.604025   0.598362   0.680211                      \n",
      "\n"
     ]
    },
    {
     "data": {
      "text/plain": [
       "[array([0.59836]), 0.6802109181141439]"
      ]
     },
     "execution_count": 47,
     "metadata": {},
     "output_type": "execute_result"
    }
   ],
   "source": [
    "learnTL.fit(lr,3, cycle_len=1, cycle_mult =2) "
   ]
  },
  {
   "cell_type": "code",
   "execution_count": 48,
   "metadata": {},
   "outputs": [
    {
     "data": {
      "application/vnd.jupyter.widget-view+json": {
       "model_id": "f9728ad105dd4d2b8c5a56a7a5dcc9ec",
       "version_major": 2,
       "version_minor": 0
      },
      "text/plain": [
       "HBox(children=(IntProgress(value=0, description='Epoch', max=1), HTML(value='')))"
      ]
     },
     "metadata": {},
     "output_type": "display_data"
    },
    {
     "name": "stdout",
     "output_type": "stream",
     "text": [
      " 65%|██████▌   | 1511/2320 [00:53<00:28, 27.98it/s, loss=2.32] "
     ]
    },
    {
     "data": {
      "image/png": "[encoded data removed]",
      "text/plain": [
       "<Figure size 432x288 with 1 Axes>"
      ]
     },
     "metadata": {},
     "output_type": "display_data"
    }
   ],
   "source": [
    "learnTL.lr_find()\n",
    "learnTL.sched.plot()"
   ]
  },
  {
   "cell_type": "code",
   "execution_count": 49,
   "metadata": {},
   "outputs": [],
   "source": [
    "lrs = [1e-6,1e-5,1e-4]\n",
    "learnTL.unfreeze()"
   ]
  },
  {
   "cell_type": "code",
   "execution_count": 50,
   "metadata": {},
   "outputs": [
    {
     "data": {
      "application/vnd.jupyter.widget-view+json": {
       "model_id": "9eff36b3c4834d69af885ff4aae3dd8f",
       "version_major": 2,
       "version_minor": 0
      },
      "text/plain": [
       "HBox(children=(IntProgress(value=0, description='Epoch', max=7), HTML(value='')))"
      ]
     },
     "metadata": {},
     "output_type": "display_data"
    },
    {
     "name": "stdout",
     "output_type": "stream",
     "text": [
      "  3%|▎         | 65/2320 [00:05<03:07, 12.04it/s, loss=0.638] \n",
      "  3%|▎         | 69/2320 [00:05<03:03, 12.29it/s, loss=0.639]"
     ]
    },
    {
     "name": "stderr",
     "output_type": "stream",
     "text": [
      "Exception in thread Thread-61:\n",
      "Traceback (most recent call last):\n",
      "  File \"/home/sathiesh/anaconda3/envs/fastai/lib/python3.6/threading.py\", line 916, in _bootstrap_inner\n",
      "    self.run()\n",
      "  File \"/home/sathiesh/anaconda3/envs/fastai/lib/python3.6/site-packages/tqdm/_monitor.py\", line 62, in run\n",
      "    for instance in self.tqdm_cls._instances:\n",
      "  File \"/home/sathiesh/anaconda3/envs/fastai/lib/python3.6/_weakrefset.py\", line 60, in __iter__\n",
      "    for itemref in self.data:\n",
      "RuntimeError: Set changed size during iteration\n",
      "\n"
     ]
    },
    {
     "name": "stdout",
     "output_type": "stream",
     "text": [
      "epoch      trn_loss   val_loss   accuracy                      \n",
      "    0      0.583176   0.582044   0.692928  \n",
      "    1      0.554324   0.56815    0.71371                       \n",
      "    2      0.561914   0.540983   0.730149                      \n",
      "    3      0.534938   0.533672   0.729218                      \n",
      "    4      0.538121   0.526427   0.734801                      \n",
      "    5      0.519999   0.52148    0.740385                      \n",
      "    6      0.532116   0.524259   0.740074                      \n",
      "\n"
     ]
    },
    {
     "data": {
      "text/plain": [
       "[array([0.52426]), 0.7400744416873449]"
      ]
     },
     "execution_count": 50,
     "metadata": {},
     "output_type": "execute_result"
    }
   ],
   "source": [
    "learnTL.fit(lrs, 3, cycle_len=1, cycle_mult=2)"
   ]
  },
  {
   "cell_type": "code",
   "execution_count": 51,
   "metadata": {},
   "outputs": [],
   "source": [
    "learnTL.save(f'{sz}TL')"
   ]
  },
  {
   "cell_type": "code",
   "execution_count": 52,
   "metadata": {},
   "outputs": [],
   "source": [
    "sz = 128"
   ]
  },
  {
   "cell_type": "code",
   "execution_count": 53,
   "metadata": {},
   "outputs": [],
   "source": [
    "learnTL.set_data(get_data(sz))\n",
    "learnTL.freeze()"
   ]
  },
  {
   "cell_type": "code",
   "execution_count": 54,
   "metadata": {},
   "outputs": [
    {
     "data": {
      "application/vnd.jupyter.widget-view+json": {
       "model_id": "50de887613cb4eaf924f2df8c04a8532",
       "version_major": 2,
       "version_minor": 0
      },
      "text/plain": [
       "HBox(children=(IntProgress(value=0, description='Epoch', max=7), HTML(value='')))"
      ]
     },
     "metadata": {},
     "output_type": "display_data"
    },
    {
     "name": "stdout",
     "output_type": "stream",
     "text": [
      "epoch      trn_loss   val_loss   accuracy                      \n",
      "    0      0.543171   0.555842   0.717742  \n",
      "    1      0.525165   0.548823   0.726117                      \n",
      "    2      0.546599   0.541021   0.7317                        \n",
      "    3      0.550621   0.534921   0.740074                      \n",
      "    4      0.544033   0.53328    0.737283                      \n",
      "    5      0.506389   0.523945   0.75031                       \n",
      "    6      0.53413    0.529089   0.742866                      \n",
      "\n"
     ]
    },
    {
     "data": {
      "text/plain": [
       "[array([0.52909]), 0.7428660049627791]"
      ]
     },
     "execution_count": 54,
     "metadata": {},
     "output_type": "execute_result"
    }
   ],
   "source": [
    "learnTL.fit(lr, 3, cycle_len=1, cycle_mult=2)"
   ]
  },
  {
   "cell_type": "code",
   "execution_count": 55,
   "metadata": {},
   "outputs": [
    {
     "data": {
      "application/vnd.jupyter.widget-view+json": {
       "model_id": "d914558d23e44c47a0c3a9be7a4bde3e",
       "version_major": 2,
       "version_minor": 0
      },
      "text/plain": [
       "HBox(children=(IntProgress(value=0, description='Epoch', max=7), HTML(value='')))"
      ]
     },
     "metadata": {},
     "output_type": "display_data"
    },
    {
     "name": "stdout",
     "output_type": "stream",
     "text": [
      "epoch      trn_loss   val_loss   accuracy                      \n",
      "    0      0.50031    0.498246   0.759615  \n",
      "    1      0.500539   0.491648   0.771092                      \n",
      "    2      0.480836   0.475315   0.779777                      \n",
      "    3      0.483375   0.465427   0.791563                      \n",
      "    4      0.449136   0.465104   0.793734                      \n",
      "    5      0.416872   0.460214   0.799007                      \n",
      "    6      0.431158   0.456401   0.799007                      \n",
      "\n"
     ]
    },
    {
     "data": {
      "text/plain": [
       "[array([0.4564]), 0.7990074441687345]"
      ]
     },
     "execution_count": 55,
     "metadata": {},
     "output_type": "execute_result"
    }
   ],
   "source": [
    "learnTL.unfreeze()\n",
    "learnTL.fit(lrs, 3, cycle_len=1, cycle_mult=2)"
   ]
  },
  {
   "cell_type": "code",
   "execution_count": 56,
   "metadata": {},
   "outputs": [],
   "source": [
    "learnTL.save(f'{sz}TL')"
   ]
  },
  {
   "cell_type": "code",
   "execution_count": 57,
   "metadata": {},
   "outputs": [],
   "source": [
    "sz = 256"
   ]
  },
  {
   "cell_type": "code",
   "execution_count": 58,
   "metadata": {},
   "outputs": [],
   "source": [
    "learnTL.set_data(get_data(sz))\n",
    "learnTL.freeze()"
   ]
  },
  {
   "cell_type": "code",
   "execution_count": 59,
   "metadata": {},
   "outputs": [
    {
     "data": {
      "application/vnd.jupyter.widget-view+json": {
       "model_id": "e9cc20f79b534d0e8cbd4edfc19a1578",
       "version_major": 2,
       "version_minor": 0
      },
      "text/plain": [
       "HBox(children=(IntProgress(value=0, description='Epoch', max=7), HTML(value='')))"
      ]
     },
     "metadata": {},
     "output_type": "display_data"
    },
    {
     "name": "stdout",
     "output_type": "stream",
     "text": [
      "epoch      trn_loss   val_loss   accuracy                      \n",
      "    0      0.477401   0.491258   0.769541  \n",
      "    1      0.489614   0.484733   0.776985                      \n",
      "    2      0.480389   0.478894   0.780087                      \n",
      "    3      0.483266   0.482785   0.779777                      \n",
      "    4      0.491426   0.476226   0.783499                      \n",
      "    5      0.498014   0.470087   0.784119                      \n",
      "    6      0.486257   0.473177   0.782568                      \n",
      "\n"
     ]
    },
    {
     "data": {
      "text/plain": [
       "[array([0.47318]), 0.7825682382133995]"
      ]
     },
     "execution_count": 59,
     "metadata": {},
     "output_type": "execute_result"
    }
   ],
   "source": [
    "learnTL.fit(lr, 3, cycle_len=1, cycle_mult=2)"
   ]
  },
  {
   "cell_type": "code",
   "execution_count": 60,
   "metadata": {},
   "outputs": [],
   "source": [
    "learnTL.save(f'{sz}TL')"
   ]
  },
  {
   "cell_type": "code",
   "execution_count": 61,
   "metadata": {},
   "outputs": [
    {
     "data": {
      "application/vnd.jupyter.widget-view+json": {
       "model_id": "5bbaad5a47ad4cdfae69ec614e110807",
       "version_major": 2,
       "version_minor": 0
      },
      "text/plain": [
       "HBox(children=(IntProgress(value=0, description='Epoch', max=7), HTML(value='')))"
      ]
     },
     "metadata": {},
     "output_type": "display_data"
    },
    {
     "name": "stdout",
     "output_type": "stream",
     "text": [
      "epoch      trn_loss   val_loss   accuracy                      \n",
      "    0      0.468836   0.453212   0.796526  \n",
      "    1      0.460787   0.436508   0.808623                      \n",
      "    2      0.45625    0.437951   0.80335                       \n",
      "    3      0.43313    0.4415     0.810484                      \n",
      "    4      0.406273   0.430386   0.811414                      \n",
      "    5      0.393636   0.43968    0.814516                      \n",
      "    6      0.398291   0.438719   0.813586                      \n",
      "\n"
     ]
    },
    {
     "data": {
      "text/plain": [
       "[array([0.43872]), 0.8135856079404467]"
      ]
     },
     "execution_count": 61,
     "metadata": {},
     "output_type": "execute_result"
    }
   ],
   "source": [
    "learnTL.unfreeze()\n",
    "learnTL.fit(lrs,3, cycle_len=1, cycle_mult=2)\n",
    "#learnTL.save(f'{sz}TL') hvis den ikke overfitter"
   ]
  },
  {
   "cell_type": "code",
   "execution_count": 62,
   "metadata": {},
   "outputs": [
    {
     "data": {
      "image/png": "[encoded data removed]",
      "text/plain": [
       "<Figure size 432x288 with 1 Axes>"
      ]
     },
     "metadata": {},
     "output_type": "display_data"
    }
   ],
   "source": [
    "learnTL.sched.plot_loss()"
   ]
  },
  {
   "cell_type": "markdown",
   "metadata": {},
   "source": [
    "# Prediction on test set"
   ]
  },
  {
   "cell_type": "code",
   "execution_count": 63,
   "metadata": {},
   "outputs": [],
   "source": [
    "df_test = pd.read_csv(f'{PATH}test_submission_example.csv', header=None)"
   ]
  },
  {
   "cell_type": "code",
   "execution_count": 64,
   "metadata": {},
   "outputs": [
    {
     "data": {
      "text/plain": [
       "(209, 2)"
      ]
     },
     "execution_count": 64,
     "metadata": {},
     "output_type": "execute_result"
    }
   ],
   "source": [
    "df_test.shape"
   ]
  },
  {
   "cell_type": "code",
   "execution_count": 65,
   "metadata": {},
   "outputs": [],
   "source": [
    "df_test.columns = ['Study','Abnormality']"
   ]
  },
  {
   "cell_type": "code",
   "execution_count": 66,
   "metadata": {},
   "outputs": [],
   "source": [
    "df_test['Study'] = df_test['Study'].str.replace(\"/\", \"_\")\n",
    "df_test['Study'] = df_test['Study'].str.replace(\"test_\",\"test/\")"
   ]
  },
  {
   "cell_type": "code",
   "execution_count": 67,
   "metadata": {},
   "outputs": [
    {
     "data": {
      "text/plain": [
       "array([[0.],\n",
       "       [0.],\n",
       "       [0.],\n",
       "       [0.],\n",
       "       [0.]])"
      ]
     },
     "execution_count": 67,
     "metadata": {},
     "output_type": "execute_result"
    }
   ],
   "source": [
    "# maa lable y \n",
    "data.test_ds.y[:5] #alle er 0 "
   ]
  },
  {
   "cell_type": "code",
   "execution_count": 68,
   "metadata": {},
   "outputs": [],
   "source": [
    "pos = 0; \n",
    "df_pos_img_indxs = {}\n",
    "for stud in df_test['Study']: #eksempel: stud:  test/XR_FOREARM_patient12044_study1_\n",
    "    indices = [i for i, s in enumerate(data.test_ds.fnames) if stud in s] #posisjonen til alle som \n",
    "    for j in indices:\n",
    "        data.test_ds.y[j] = df_test['Abnormality'][pos]\n",
    "    \n",
    "    df_pos_img_indxs[pos] = indices\n",
    "    pos= pos+1; "
   ]
  },
  {
   "cell_type": "code",
   "execution_count": 69,
   "metadata": {},
   "outputs": [
    {
     "data": {
      "text/plain": [
       "array([[1.],\n",
       "       [1.],\n",
       "       [0.],\n",
       "       [0.],\n",
       "       [0.]])"
      ]
     },
     "execution_count": 69,
     "metadata": {},
     "output_type": "execute_result"
    }
   ],
   "source": [
    "data.test_ds.y[:5]"
   ]
  },
  {
   "cell_type": "code",
   "execution_count": 70,
   "metadata": {},
   "outputs": [
    {
     "data": {
      "text/plain": [
       "209"
      ]
     },
     "execution_count": 70,
     "metadata": {},
     "output_type": "execute_result"
    }
   ],
   "source": [
    "len(df_pos_img_indxs)"
   ]
  },
  {
   "cell_type": "code",
   "execution_count": 71,
   "metadata": {},
   "outputs": [
    {
     "data": {
      "text/plain": [
       "[56, 186, 253]"
      ]
     },
     "execution_count": 71,
     "metadata": {},
     "output_type": "execute_result"
    }
   ],
   "source": [
    "df_pos_img_indxs[0]"
   ]
  },
  {
   "cell_type": "code",
   "execution_count": 72,
   "metadata": {},
   "outputs": [
    {
     "data": {
      "text/plain": [
       "(array([1.]), array([1.]), array([1.]))"
      ]
     },
     "execution_count": 72,
     "metadata": {},
     "output_type": "execute_result"
    }
   ],
   "source": [
    "data.test_ds.y[56], data.test_ds.y[186], data.test_ds.y[253]"
   ]
  },
  {
   "cell_type": "code",
   "execution_count": 73,
   "metadata": {},
   "outputs": [
    {
     "name": "stdout",
     "output_type": "stream",
     "text": [
      "                                             \r"
     ]
    }
   ],
   "source": [
    "log_preds,y = learnTL.TTA(is_test=True)\n",
    "probs = np.mean(np.exp(log_preds),0)\n",
    "accuracy = accuracy_np(probs, y)"
   ]
  },
  {
   "cell_type": "code",
   "execution_count": 74,
   "metadata": {},
   "outputs": [
    {
     "data": {
      "text/plain": [
       "0.5974955277280859"
      ]
     },
     "execution_count": 74,
     "metadata": {},
     "output_type": "execute_result"
    }
   ],
   "source": [
    "accuracy"
   ]
  },
  {
   "cell_type": "markdown",
   "metadata": {},
   "source": [
    "### Predict studies "
   ]
  },
  {
   "cell_type": "code",
   "execution_count": 75,
   "metadata": {},
   "outputs": [
    {
     "data": {
      "text/plain": [
       "559"
      ]
     },
     "execution_count": 75,
     "metadata": {},
     "output_type": "execute_result"
    }
   ],
   "source": [
    "test_list = data.test_ds.fnames\n",
    "len(test_list)"
   ]
  },
  {
   "cell_type": "code",
   "execution_count": 76,
   "metadata": {},
   "outputs": [],
   "source": [
    "#fjerne imagex.png fra stringen, så man kan finne alle bildene for et studie\n",
    "def searching_string(pasient_image_path):\n",
    "    string_size = len(pasient_image_path) - len('image1.png')\n",
    "    return pasient_image_path[:string_size] "
   ]
  },
  {
   "cell_type": "code",
   "execution_count": 77,
   "metadata": {},
   "outputs": [],
   "source": [
    "#finne indeksene til bildene som er med i studiet\n",
    "def find_img_indxs(pasient_study): \n",
    "    return [test_list.index(i) for i in test_list if pasient_study in i]"
   ]
  },
  {
   "cell_type": "code",
   "execution_count": 78,
   "metadata": {},
   "outputs": [],
   "source": [
    "trn_tfms, val_tfms = tfms_from_model(arch, sz) # get transformations\n",
    "def predict_abnormality(fn): \n",
    "    im = open_image(fn)\n",
    "    im_val = val_tfms(im)\n",
    "    preds = learnTL.predict_array(im_val[None])\n",
    "    return np.argmax(preds)"
   ]
  },
  {
   "cell_type": "markdown",
   "metadata": {},
   "source": [
    "you should use the 2nd return val from tfms_from_model. The first one includes data augmentation, e.g. for the training set. For predictions you don’t want that, so use the 2nd one.\n",
    "Jeremy"
   ]
  },
  {
   "cell_type": "code",
   "execution_count": 79,
   "metadata": {},
   "outputs": [],
   "source": [
    "#fjerne indeksene til bildene fra test_list når man er ferdig med å predikere et studie. \n",
    "def del_indxs(study_img_indxs):\n",
    "    #for i in study_img_indxs: \n",
    "       # del test_list[i] \n",
    "    return np.delete(test_list, study_img_indxs).tolist()"
   ]
  },
  {
   "cell_type": "code",
   "execution_count": 80,
   "metadata": {},
   "outputs": [],
   "source": [
    "predictions_dict = {}\n",
    "\n",
    "while(len(test_list)>0): \n",
    "    string_study = searching_string(test_list[0])\n",
    "    study_img_indxs = find_img_indxs(string_study)\n",
    "    \n",
    "    prediction_list = [] #skal inneholde alle predikasjonene for et studie\n",
    "\n",
    "    #Her skal det predikeres på hvert av bildene i studiet\n",
    "    for i in study_img_indxs: \n",
    "        prediction = predict_abnormality(PATH+test_list[i])\n",
    "        prediction_list.append(prediction)\n",
    "        \n",
    "    predictions_dict[string_study] = max(prediction_list) # nøkkel : navnet til studiet + value: predikasjonen (hvis en av de er True, så er studiet True)\n",
    "    \n",
    "    #ferdig med predikasjon for et studie\n",
    "    test_list = del_indxs(study_img_indxs)\n",
    "    #print(find_img_indxs(string_study)) #bare for å teste at alle listene som retuneres er tomme "
   ]
  },
  {
   "cell_type": "code",
   "execution_count": 81,
   "metadata": {},
   "outputs": [
    {
     "data": {
      "text/plain": [
       "209"
      ]
     },
     "execution_count": 81,
     "metadata": {},
     "output_type": "execute_result"
    }
   ],
   "source": [
    "len(predictions_dict)"
   ]
  },
  {
   "cell_type": "code",
   "execution_count": 82,
   "metadata": {},
   "outputs": [],
   "source": [
    "y = []\n",
    "preds = []"
   ]
  },
  {
   "cell_type": "code",
   "execution_count": 83,
   "metadata": {},
   "outputs": [],
   "source": [
    "def add_values(y_value, preds_value): \n",
    "    y.append(y_value)\n",
    "    preds.append(preds_value)"
   ]
  },
  {
   "cell_type": "code",
   "execution_count": 84,
   "metadata": {},
   "outputs": [],
   "source": [
    "def test_accuracy(pred_dict, df_test): \n",
    "    num_correct = 0; \n",
    "    for key, value in pred_dict.items(): \n",
    "        searching_string = key\n",
    "        row = df_test.loc[df_test['Study'] == searching_string]\n",
    "        print(\"Dictionary key: \" + str(key) + \" value: \" + str(value))\n",
    "        print(row.values[0][0],row.values[0][1])\n",
    "        if(row.values[0][1] == value): \n",
    "            num_correct+=1\n",
    "        \n",
    "        add_values(row.values[0][1], value)\n",
    "        print()\n",
    "    return num_correct/len(pred_dict)"
   ]
  },
  {
   "cell_type": "code",
   "execution_count": 85,
   "metadata": {},
   "outputs": [
    {
     "name": "stdout",
     "output_type": "stream",
     "text": [
      "Dictionary key: test/XR_SHOULDER_patient12168_study1_ value: 1\n",
      "test/XR_SHOULDER_patient12168_study1_ 1\n",
      "\n",
      "Dictionary key: test/XR_FINGER_patient12241_study1_ value: 1\n",
      "test/XR_FINGER_patient12241_study1_ 1\n",
      "\n",
      "Dictionary key: test/XR_ELBOW_patient12117_study1_ value: 1\n",
      "test/XR_ELBOW_patient12117_study1_ 0\n",
      "\n",
      "Dictionary key: test/XR_FOREARM_patient12056_study1_ value: 1\n",
      "test/XR_FOREARM_patient12056_study1_ 0\n",
      "\n",
      "Dictionary key: test/XR_SHOULDER_patient12183_study1_ value: 0\n",
      "test/XR_SHOULDER_patient12183_study1_ 0\n",
      "\n",
      "Dictionary key: test/XR_HAND_patient12092_study1_ value: 1\n",
      "test/XR_HAND_patient12092_study1_ 1\n",
      "\n",
      "Dictionary key: test/XR_FOREARM_patient12067_study1_ value: 0\n",
      "test/XR_FOREARM_patient12067_study1_ 0\n",
      "\n",
      "Dictionary key: test/XR_ELBOW_patient12124_study1_ value: 1\n",
      "test/XR_ELBOW_patient12124_study1_ 1\n",
      "\n",
      "Dictionary key: test/XR_HAND_patient12076_study1_ value: 0\n",
      "test/XR_HAND_patient12076_study1_ 1\n",
      "\n",
      "Dictionary key: test/XR_ELBOW_patient12128_study1_ value: 0\n",
      "test/XR_ELBOW_patient12128_study1_ 0\n",
      "\n",
      "Dictionary key: test/XR_ELBOW_patient12111_study1_ value: 0\n",
      "test/XR_ELBOW_patient12111_study1_ 0\n",
      "\n",
      "Dictionary key: test/XR_WRIST_patient12211_study1_ value: 0\n",
      "test/XR_WRIST_patient12211_study1_ 0\n",
      "\n",
      "Dictionary key: test/XR_ELBOW_patient12132_study1_ value: 1\n",
      "test/XR_ELBOW_patient12132_study1_ 0\n",
      "\n",
      "Dictionary key: test/XR_FOREARM_patient12069_study1_ value: 0\n",
      "test/XR_FOREARM_patient12069_study1_ 0\n",
      "\n",
      "Dictionary key: test/XR_FINGER_patient12235_study1_ value: 1\n",
      "test/XR_FINGER_patient12235_study1_ 1\n",
      "\n",
      "Dictionary key: test/XR_SHOULDER_patient12184_study1_ value: 0\n",
      "test/XR_SHOULDER_patient12184_study1_ 0\n",
      "\n",
      "Dictionary key: test/XR_HUMERUS_patient12143_study1_ value: 1\n",
      "test/XR_HUMERUS_patient12143_study1_ 0\n",
      "\n",
      "Dictionary key: test/XR_HAND_patient12095_study1_ value: 0\n",
      "test/XR_HAND_patient12095_study1_ 1\n",
      "\n",
      "Dictionary key: test/XR_ELBOW_patient12126_study1_ value: 0\n",
      "test/XR_ELBOW_patient12126_study1_ 0\n",
      "\n",
      "Dictionary key: test/XR_HUMERUS_patient12160_study1_ value: 0\n",
      "test/XR_HUMERUS_patient12160_study1_ 1\n",
      "\n",
      "Dictionary key: test/XR_FINGER_patient12246_study1_ value: 0\n",
      "test/XR_FINGER_patient12246_study1_ 1\n",
      "\n",
      "Dictionary key: test/XR_WRIST_patient12209_study1_ value: 0\n",
      "test/XR_WRIST_patient12209_study1_ 0\n",
      "\n",
      "Dictionary key: test/XR_HAND_patient12096_study1_ value: 0\n",
      "test/XR_HAND_patient12096_study1_ 0\n",
      "\n",
      "Dictionary key: test/XR_WRIST_patient12203_study1_ value: 1\n",
      "test/XR_WRIST_patient12203_study1_ 1\n",
      "\n",
      "Dictionary key: test/XR_WRIST_patient12199_study1_ value: 1\n",
      "test/XR_WRIST_patient12199_study1_ 0\n",
      "\n",
      "Dictionary key: test/XR_ELBOW_patient12122_study1_ value: 0\n",
      "test/XR_ELBOW_patient12122_study1_ 1\n",
      "\n",
      "Dictionary key: test/XR_HAND_patient12085_study1_ value: 1\n",
      "test/XR_HAND_patient12085_study1_ 1\n",
      "\n",
      "Dictionary key: test/XR_HAND_patient12091_study1_ value: 0\n",
      "test/XR_HAND_patient12091_study1_ 0\n",
      "\n",
      "Dictionary key: test/XR_HAND_patient12079_study1_ value: 1\n",
      "test/XR_HAND_patient12079_study1_ 1\n",
      "\n",
      "Dictionary key: test/XR_FINGER_patient12225_study1_ value: 1\n",
      "test/XR_FINGER_patient12225_study1_ 1\n",
      "\n",
      "Dictionary key: test/XR_WRIST_patient12219_study1_ value: 1\n",
      "test/XR_WRIST_patient12219_study1_ 1\n",
      "\n",
      "Dictionary key: test/XR_FOREARM_patient12054_study1_ value: 1\n",
      "test/XR_FOREARM_patient12054_study1_ 0\n",
      "\n",
      "Dictionary key: test/XR_ELBOW_patient12119_study1_ value: 0\n",
      "test/XR_ELBOW_patient12119_study1_ 1\n",
      "\n",
      "Dictionary key: test/XR_SHOULDER_patient12192_study1_ value: 0\n",
      "test/XR_SHOULDER_patient12192_study1_ 0\n",
      "\n",
      "Dictionary key: test/XR_SHOULDER_patient12188_study1_ value: 0\n",
      "test/XR_SHOULDER_patient12188_study1_ 1\n",
      "\n",
      "Dictionary key: test/XR_WRIST_patient12207_study1_ value: 1\n",
      "test/XR_WRIST_patient12207_study1_ 1\n",
      "\n",
      "Dictionary key: test/XR_ELBOW_patient12130_study1_ value: 1\n",
      "test/XR_ELBOW_patient12130_study1_ 1\n",
      "\n",
      "Dictionary key: test/XR_ELBOW_patient12108_study1_ value: 1\n",
      "test/XR_ELBOW_patient12108_study1_ 0\n",
      "\n",
      "Dictionary key: test/XR_SHOULDER_patient12185_study1_ value: 0\n",
      "test/XR_SHOULDER_patient12185_study1_ 1\n",
      "\n",
      "Dictionary key: test/XR_HAND_patient12093_study1_ value: 0\n",
      "test/XR_HAND_patient12093_study1_ 1\n",
      "\n",
      "Dictionary key: test/XR_SHOULDER_patient12173_study1_ value: 1\n",
      "test/XR_SHOULDER_patient12173_study1_ 0\n",
      "\n",
      "Dictionary key: test/XR_HAND_patient12102_study1_ value: 0\n",
      "test/XR_HAND_patient12102_study1_ 1\n",
      "\n",
      "Dictionary key: test/XR_FINGER_patient12234_study1_ value: 1\n",
      "test/XR_FINGER_patient12234_study1_ 1\n",
      "\n",
      "Dictionary key: test/XR_FINGER_patient12242_study1_ value: 0\n",
      "test/XR_FINGER_patient12242_study1_ 1\n",
      "\n",
      "Dictionary key: test/XR_FINGER_patient12236_study1_ value: 1\n",
      "test/XR_FINGER_patient12236_study1_ 1\n",
      "\n",
      "Dictionary key: test/XR_ELBOW_patient12118_study1_ value: 1\n",
      "test/XR_ELBOW_patient12118_study1_ 0\n",
      "\n",
      "Dictionary key: test/XR_SHOULDER_patient12175_study1_ value: 1\n",
      "test/XR_SHOULDER_patient12175_study1_ 1\n",
      "\n",
      "Dictionary key: test/XR_HAND_patient12081_study1_ value: 0\n",
      "test/XR_HAND_patient12081_study1_ 1\n",
      "\n",
      "Dictionary key: test/XR_HUMERUS_patient12145_study1_ value: 1\n",
      "test/XR_HUMERUS_patient12145_study1_ 0\n",
      "\n",
      "Dictionary key: test/XR_FOREARM_patient12052_study1_ value: 1\n",
      "test/XR_FOREARM_patient12052_study1_ 0\n",
      "\n",
      "Dictionary key: test/XR_SHOULDER_patient12190_study1_ value: 0\n",
      "test/XR_SHOULDER_patient12190_study1_ 0\n",
      "\n",
      "Dictionary key: test/XR_FOREARM_patient12044_study1_ value: 0\n",
      "test/XR_FOREARM_patient12044_study1_ 1\n",
      "\n",
      "Dictionary key: test/XR_FINGER_patient12249_study1_ value: 1\n",
      "test/XR_FINGER_patient12249_study1_ 1\n",
      "\n",
      "Dictionary key: test/XR_SHOULDER_patient12189_study1_ value: 0\n",
      "test/XR_SHOULDER_patient12189_study1_ 1\n",
      "\n",
      "Dictionary key: test/XR_HAND_patient12094_study1_ value: 0\n",
      "test/XR_HAND_patient12094_study1_ 1\n",
      "\n",
      "Dictionary key: test/XR_HAND_patient12080_study1_ value: 1\n",
      "test/XR_HAND_patient12080_study1_ 1\n",
      "\n",
      "Dictionary key: test/XR_SHOULDER_patient12179_study1_ value: 0\n",
      "test/XR_SHOULDER_patient12179_study1_ 0\n",
      "\n",
      "Dictionary key: test/XR_SHOULDER_patient12167_study1_ value: 1\n",
      "test/XR_SHOULDER_patient12167_study1_ 0\n",
      "\n",
      "Dictionary key: test/XR_SHOULDER_patient12193_study1_ value: 0\n",
      "test/XR_SHOULDER_patient12193_study1_ 1\n",
      "\n",
      "Dictionary key: test/XR_HAND_patient12099_study1_ value: 0\n",
      "test/XR_HAND_patient12099_study1_ 1\n",
      "\n",
      "Dictionary key: test/XR_FINGER_patient12229_study1_ value: 1\n",
      "test/XR_FINGER_patient12229_study1_ 0\n",
      "\n",
      "Dictionary key: test/XR_WRIST_patient12216_study1_ value: 0\n",
      "test/XR_WRIST_patient12216_study1_ 0\n",
      "\n",
      "Dictionary key: test/XR_ELBOW_patient12105_study1_ value: 1\n",
      "test/XR_ELBOW_patient12105_study1_ 1\n",
      "\n",
      "Dictionary key: test/XR_ELBOW_patient12107_study1_ value: 1\n",
      "test/XR_ELBOW_patient12107_study1_ 1\n",
      "\n",
      "Dictionary key: test/XR_HAND_patient12101_study1_ value: 0\n",
      "test/XR_HAND_patient12101_study1_ 1\n",
      "\n",
      "Dictionary key: test/XR_SHOULDER_patient12165_study1_ value: 1\n",
      "test/XR_SHOULDER_patient12165_study1_ 1\n",
      "\n",
      "Dictionary key: test/XR_WRIST_patient12215_study1_ value: 0\n",
      "test/XR_WRIST_patient12215_study1_ 1\n",
      "\n",
      "Dictionary key: test/XR_WRIST_patient12202_study1_ value: 1\n",
      "test/XR_WRIST_patient12202_study1_ 1\n",
      "\n",
      "Dictionary key: test/XR_HAND_patient12084_study1_ value: 1\n",
      "test/XR_HAND_patient12084_study1_ 1\n",
      "\n",
      "Dictionary key: test/XR_SHOULDER_patient12170_study1_ value: 1\n",
      "test/XR_SHOULDER_patient12170_study1_ 1\n",
      "\n",
      "Dictionary key: test/XR_SHOULDER_patient12178_study1_ value: 1\n",
      "test/XR_SHOULDER_patient12178_study1_ 0\n",
      "\n",
      "Dictionary key: test/XR_HUMERUS_patient12154_study1_ value: 1\n",
      "test/XR_HUMERUS_patient12154_study1_ 1\n",
      "\n",
      "Dictionary key: test/XR_WRIST_patient12217_study1_ value: 0\n",
      "test/XR_WRIST_patient12217_study1_ 0\n",
      "\n",
      "Dictionary key: test/XR_ELBOW_patient12104_study1_ value: 1\n",
      "test/XR_ELBOW_patient12104_study1_ 1\n",
      "\n",
      "Dictionary key: test/XR_HAND_patient12090_study1_ value: 0\n",
      "test/XR_HAND_patient12090_study1_ 1\n",
      "\n",
      "Dictionary key: test/XR_FINGER_patient12226_study1_ value: 1\n",
      "test/XR_FINGER_patient12226_study1_ 0\n",
      "\n",
      "Dictionary key: test/XR_FOREARM_patient12064_study1_ value: 0\n",
      "test/XR_FOREARM_patient12064_study1_ 1\n",
      "\n",
      "Dictionary key: test/XR_FINGER_patient12250_study1_ value: 0\n",
      "test/XR_FINGER_patient12250_study1_ 0\n",
      "\n",
      "Dictionary key: test/XR_FOREARM_patient12060_study1_ value: 0\n",
      "test/XR_FOREARM_patient12060_study1_ 0\n",
      "\n",
      "Dictionary key: test/XR_ELBOW_patient12127_study1_ value: 0\n",
      "test/XR_ELBOW_patient12127_study1_ 1\n",
      "\n",
      "Dictionary key: test/XR_FOREARM_patient12072_study1_ value: 1\n",
      "test/XR_FOREARM_patient12072_study1_ 0\n",
      "\n",
      "Dictionary key: test/XR_HAND_patient12097_study1_ value: 0\n",
      "test/XR_HAND_patient12097_study1_ 0\n",
      "\n",
      "Dictionary key: test/XR_SHOULDER_patient12174_study1_ value: 1\n",
      "test/XR_SHOULDER_patient12174_study1_ 1\n",
      "\n",
      "Dictionary key: test/XR_WRIST_patient12195_study1_ value: 1\n",
      "test/XR_WRIST_patient12195_study1_ 1\n",
      "\n",
      "Dictionary key: test/XR_WRIST_patient12212_study1_ value: 1\n",
      "test/XR_WRIST_patient12212_study1_ 1\n",
      "\n",
      "Dictionary key: test/XR_WRIST_patient12198_study1_ value: 0\n",
      "test/XR_WRIST_patient12198_study1_ 1\n",
      "\n",
      "Dictionary key: test/XR_HAND_patient12074_study1_ value: 0\n",
      "test/XR_HAND_patient12074_study1_ 0\n",
      "\n",
      "Dictionary key: test/XR_HAND_patient12100_study1_ value: 0\n",
      "test/XR_HAND_patient12100_study1_ 0\n",
      "\n",
      "Dictionary key: test/XR_FINGER_patient12238_study1_ value: 0\n",
      "test/XR_FINGER_patient12238_study1_ 1\n",
      "\n",
      "Dictionary key: test/XR_WRIST_patient12205_study1_ value: 1\n",
      "test/XR_WRIST_patient12205_study1_ 1\n",
      "\n",
      "Dictionary key: test/XR_SHOULDER_patient12171_study1_ value: 1\n",
      "test/XR_SHOULDER_patient12171_study1_ 0\n",
      "\n",
      "Dictionary key: test/XR_HUMERUS_patient12141_study1_ value: 1\n",
      "test/XR_HUMERUS_patient12141_study1_ 1\n",
      "\n",
      "Dictionary key: test/XR_FOREARM_patient12071_study1_ value: 0\n",
      "test/XR_FOREARM_patient12071_study1_ 1\n",
      "\n",
      "Dictionary key: test/XR_FINGER_patient12223_study1_ value: 1\n",
      "test/XR_FINGER_patient12223_study1_ 0\n",
      "\n",
      "Dictionary key: test/XR_HUMERUS_patient12150_study1_ value: 0\n",
      "test/XR_HUMERUS_patient12150_study1_ 0\n",
      "\n",
      "Dictionary key: test/XR_SHOULDER_patient12191_study1_ value: 1\n",
      "test/XR_SHOULDER_patient12191_study1_ 1\n",
      "\n",
      "Dictionary key: test/XR_FOREARM_patient12045_study1_ value: 0\n",
      "test/XR_FOREARM_patient12045_study1_ 0\n",
      "\n",
      "Dictionary key: test/XR_WRIST_patient12197_study1_ value: 1\n",
      "test/XR_WRIST_patient12197_study1_ 0\n",
      "\n",
      "Dictionary key: test/XR_FINGER_patient12228_study1_ value: 1\n",
      "test/XR_FINGER_patient12228_study1_ 0\n",
      "\n",
      "Dictionary key: test/XR_FINGER_patient12251_study1_ value: 0\n",
      "test/XR_FINGER_patient12251_study1_ 0\n",
      "\n",
      "Dictionary key: test/XR_HUMERUS_patient12158_study1_ value: 0\n",
      "test/XR_HUMERUS_patient12158_study1_ 1\n",
      "\n",
      "Dictionary key: test/XR_FOREARM_patient12055_study1_ value: 1\n",
      "test/XR_FOREARM_patient12055_study1_ 1\n",
      "\n",
      "Dictionary key: test/XR_FOREARM_patient12048_study1_ value: 1\n",
      "test/XR_FOREARM_patient12048_study1_ 1\n",
      "\n",
      "Dictionary key: test/XR_WRIST_patient12201_study1_ value: 1\n",
      "test/XR_WRIST_patient12201_study1_ 0\n",
      "\n",
      "Dictionary key: test/XR_FOREARM_patient12062_study1_ value: 1\n",
      "test/XR_FOREARM_patient12062_study1_ 1\n",
      "\n",
      "Dictionary key: test/XR_WRIST_patient12208_study1_ value: 1\n",
      "test/XR_WRIST_patient12208_study1_ 1\n",
      "\n",
      "Dictionary key: test/XR_SHOULDER_patient12180_study1_ value: 0\n",
      "test/XR_SHOULDER_patient12180_study1_ 0\n",
      "\n",
      "Dictionary key: test/XR_WRIST_patient12196_study1_ value: 1\n",
      "test/XR_WRIST_patient12196_study1_ 1\n",
      "\n",
      "Dictionary key: test/XR_FINGER_patient12232_study1_ value: 1\n",
      "test/XR_FINGER_patient12232_study1_ 0\n",
      "\n",
      "Dictionary key: test/XR_WRIST_patient12214_study1_ value: 0\n",
      "test/XR_WRIST_patient12214_study1_ 0\n",
      "\n",
      "Dictionary key: test/XR_HAND_patient12103_study1_ value: 0\n",
      "test/XR_HAND_patient12103_study1_ 1\n",
      "\n",
      "Dictionary key: test/XR_HAND_patient12075_study1_ value: 0\n",
      "test/XR_HAND_patient12075_study1_ 1\n",
      "\n",
      "Dictionary key: test/XR_FINGER_patient12244_study1_ value: 0\n",
      "test/XR_FINGER_patient12244_study1_ 1\n",
      "\n",
      "Dictionary key: test/XR_ELBOW_patient12125_study1_ value: 0\n",
      "test/XR_ELBOW_patient12125_study1_ 0\n",
      "\n",
      "Dictionary key: test/XR_HUMERUS_patient12136_study1_ value: 1\n",
      "test/XR_HUMERUS_patient12136_study1_ 0\n",
      "\n",
      "Dictionary key: test/XR_HUMERUS_patient12163_study1_ value: 0\n",
      "test/XR_HUMERUS_patient12163_study1_ 1\n",
      "\n",
      "Dictionary key: test/XR_HUMERUS_patient12151_study1_ value: 0\n",
      "test/XR_HUMERUS_patient12151_study1_ 0\n",
      "\n",
      "Dictionary key: test/XR_FINGER_patient12156_study1_ value: 0\n",
      "test/XR_FINGER_patient12156_study1_ 1\n",
      "\n",
      "Dictionary key: test/XR_FOREARM_patient12059_study1_ value: 0\n",
      "test/XR_FOREARM_patient12059_study1_ 0\n",
      "\n",
      "Dictionary key: test/XR_HUMERUS_patient12144_study1_ value: 1\n",
      "test/XR_HUMERUS_patient12144_study1_ 0\n",
      "\n",
      "Dictionary key: test/XR_HUMERUS_patient12139_study1_ value: 1\n",
      "test/XR_HUMERUS_patient12139_study1_ 1\n",
      "\n",
      "Dictionary key: test/XR_WRIST_patient12222_study1_ value: 0\n",
      "test/XR_WRIST_patient12222_study1_ 0\n",
      "\n",
      "Dictionary key: test/XR_FINGER_patient12233_study1_ value: 1\n",
      "test/XR_FINGER_patient12233_study1_ 0\n",
      "\n",
      "Dictionary key: test/XR_FOREARM_patient12063_study1_ value: 0\n",
      "test/XR_FOREARM_patient12063_study1_ 1\n",
      "\n",
      "Dictionary key: test/XR_SHOULDER_patient12187_study1_ value: 1\n",
      "test/XR_SHOULDER_patient12187_study1_ 0\n",
      "\n",
      "Dictionary key: test/XR_SHOULDER_patient12164_study1_ value: 1\n",
      "test/XR_SHOULDER_patient12164_study1_ 1\n",
      "\n",
      "Dictionary key: test/XR_HUMERUS_patient12157_study1_ value: 0\n",
      "test/XR_HUMERUS_patient12157_study1_ 0\n",
      "\n",
      "Dictionary key: test/XR_FOREARM_patient12065_study1_ value: 0\n",
      "test/XR_FOREARM_patient12065_study1_ 1\n",
      "\n",
      "Dictionary key: test/XR_ELBOW_patient12129_study1_ value: 0\n",
      "test/XR_ELBOW_patient12129_study1_ 1\n",
      "\n",
      "Dictionary key: test/XR_FOREARM_patient12068_study1_ value: 0\n",
      "test/XR_FOREARM_patient12068_study1_ 0\n",
      "\n",
      "Dictionary key: test/XR_SHOULDER_patient12169_study1_ value: 0\n",
      "test/XR_SHOULDER_patient12169_study1_ 1\n",
      "\n",
      "Dictionary key: test/XR_WRIST_patient12204_study1_ value: 1\n",
      "test/XR_WRIST_patient12204_study1_ 1\n",
      "\n",
      "Dictionary key: test/XR_HUMERUS_patient12135_study1_ value: 1\n",
      "test/XR_HUMERUS_patient12135_study1_ 1\n",
      "\n",
      "Dictionary key: test/XR_ELBOW_patient12121_study1_ value: 0\n",
      "test/XR_ELBOW_patient12121_study1_ 1\n",
      "\n",
      "Dictionary key: test/XR_ELBOW_patient12133_study1_ value: 1\n",
      "test/XR_ELBOW_patient12133_study1_ 1\n",
      "\n",
      "Dictionary key: test/XR_ELBOW_patient12106_study1_ value: 1\n",
      "test/XR_ELBOW_patient12106_study1_ 1\n",
      "\n",
      "Dictionary key: test/XR_FOREARM_patient12050_study1_ value: 1\n",
      "test/XR_FOREARM_patient12050_study1_ 1\n",
      "\n",
      "Dictionary key: test/XR_SHOULDER_patient12166_study1_ value: 1\n",
      "test/XR_SHOULDER_patient12166_study1_ 1\n",
      "\n",
      "Dictionary key: test/XR_HUMERUS_patient12142_study1_ value: 1\n",
      "test/XR_HUMERUS_patient12142_study1_ 1\n",
      "\n",
      "Dictionary key: test/XR_FOREARM_patient12058_study1_ value: 1\n",
      "test/XR_FOREARM_patient12058_study1_ 1\n",
      "\n",
      "Dictionary key: test/XR_SHOULDER_patient12172_study1_ value: 0\n",
      "test/XR_SHOULDER_patient12172_study1_ 0\n",
      "\n",
      "Dictionary key: test/XR_HAND_patient12077_study1_ value: 1\n",
      "test/XR_HAND_patient12077_study1_ 1\n",
      "\n",
      "Dictionary key: test/XR_ELBOW_patient12112_study1_ value: 1\n",
      "test/XR_ELBOW_patient12112_study1_ 0\n",
      "\n",
      "Dictionary key: test/XR_WRIST_patient12206_study1_ value: 1\n",
      "test/XR_WRIST_patient12206_study1_ 1\n",
      "\n",
      "Dictionary key: test/XR_FINGER_patient12247_study1_ value: 0\n",
      "test/XR_FINGER_patient12247_study1_ 1\n",
      "\n",
      "Dictionary key: test/XR_ELBOW_patient12110_study1_ value: 0\n",
      "test/XR_ELBOW_patient12110_study1_ 1\n",
      "\n",
      "Dictionary key: test/XR_HAND_patient12078_study1_ value: 1\n",
      "test/XR_HAND_patient12078_study1_ 1\n",
      "\n",
      "Dictionary key: test/XR_HAND_patient12089_study1_ value: 1\n",
      "test/XR_HAND_patient12089_study1_ 1\n",
      "\n",
      "Dictionary key: test/XR_ELBOW_patient12116_study1_ value: 1\n",
      "test/XR_ELBOW_patient12116_study1_ 1\n",
      "\n",
      "Dictionary key: test/XR_HUMERUS_patient12149_study1_ value: 0\n",
      "test/XR_HUMERUS_patient12149_study1_ 1\n",
      "\n",
      "Dictionary key: test/XR_WRIST_patient12200_study1_ value: 0\n",
      "test/XR_WRIST_patient12200_study1_ 0\n",
      "\n",
      "Dictionary key: test/XR_FOREARM_patient12057_study1_ value: 1\n",
      "test/XR_FOREARM_patient12057_study1_ 0\n",
      "\n",
      "Dictionary key: test/XR_HUMERUS_patient12153_study1_ value: 1\n",
      "test/XR_HUMERUS_patient12153_study1_ 0\n",
      "\n",
      "Dictionary key: test/XR_FINGER_patient12224_study1_ value: 0\n",
      "test/XR_FINGER_patient12224_study1_ 0\n",
      "\n",
      "Dictionary key: test/XR_FINGER_patient12227_study1_ value: 0\n",
      "test/XR_FINGER_patient12227_study1_ 1\n",
      "\n",
      "Dictionary key: test/XR_FINGER_patient12237_study1_ value: 0\n",
      "test/XR_FINGER_patient12237_study1_ 0\n",
      "\n",
      "Dictionary key: test/XR_SHOULDER_patient12176_study1_ value: 1\n",
      "test/XR_SHOULDER_patient12176_study1_ 0\n",
      "\n",
      "Dictionary key: test/XR_WRIST_patient12213_study1_ value: 0\n",
      "test/XR_WRIST_patient12213_study1_ 0\n",
      "\n",
      "Dictionary key: test/XR_HUMERUS_patient12161_study1_ value: 0\n",
      "test/XR_HUMERUS_patient12161_study1_ 1\n",
      "\n",
      "Dictionary key: test/XR_FOREARM_patient12073_study1_ value: 0\n",
      "test/XR_FOREARM_patient12073_study1_ 0\n",
      "\n",
      "Dictionary key: test/XR_HUMERUS_patient12140_study1_ value: 1\n",
      "test/XR_HUMERUS_patient12140_study1_ 0\n",
      "\n",
      "Dictionary key: test/XR_FINGER_patient12239_study1_ value: 0\n",
      "test/XR_FINGER_patient12239_study1_ 0\n",
      "\n",
      "Dictionary key: test/XR_FOREARM_patient12070_study1_ value: 0\n",
      "test/XR_FOREARM_patient12070_study1_ 0\n",
      "\n",
      "Dictionary key: test/XR_HAND_patient12083_study1_ value: 0\n",
      "test/XR_HAND_patient12083_study1_ 0\n",
      "\n",
      "Dictionary key: test/XR_HUMERUS_patient12148_study1_ value: 1\n",
      "test/XR_HUMERUS_patient12148_study1_ 1\n",
      "\n",
      "Dictionary key: test/XR_FINGER_patient12231_study1_ value: 1\n",
      "test/XR_FINGER_patient12231_study1_ 1\n",
      "\n",
      "Dictionary key: test/XR_HAND_patient12098_study1_ value: 0\n",
      "test/XR_HAND_patient12098_study1_ 1\n",
      "\n",
      "Dictionary key: test/XR_HAND_patient12082_study1_ value: 1\n",
      "test/XR_HAND_patient12082_study1_ 1\n",
      "\n",
      "Dictionary key: test/XR_ELBOW_patient12109_study1_ value: 0\n",
      "test/XR_ELBOW_patient12109_study1_ 0\n",
      "\n",
      "Dictionary key: test/XR_FINGER_patient12230_study1_ value: 1\n",
      "test/XR_FINGER_patient12230_study1_ 1\n",
      "\n",
      "Dictionary key: test/XR_WRIST_patient12220_study1_ value: 0\n",
      "test/XR_WRIST_patient12220_study1_ 1\n",
      "\n",
      "Dictionary key: test/XR_HAND_patient12086_study1_ value: 0\n",
      "test/XR_HAND_patient12086_study1_ 1\n",
      "\n",
      "Dictionary key: test/XR_HUMERUS_patient12134_study1_ value: 1\n",
      "test/XR_HUMERUS_patient12134_study1_ 1\n",
      "\n",
      "Dictionary key: test/XR_FOREARM_patient12051_study1_ value: 1\n",
      "test/XR_FOREARM_patient12051_study1_ 0\n",
      "\n",
      "Dictionary key: test/XR_HUMERUS_patient12152_study1_ value: 0\n",
      "test/XR_HUMERUS_patient12152_study1_ 0\n",
      "\n",
      "Dictionary key: test/XR_HUMERUS_patient12146_study1_ value: 0\n",
      "test/XR_HUMERUS_patient12146_study1_ 0\n",
      "\n",
      "Dictionary key: test/XR_WRIST_patient12221_study1_ value: 0\n",
      "test/XR_WRIST_patient12221_study1_ 1\n",
      "\n",
      "Dictionary key: test/XR_FOREARM_patient12049_study1_ value: 0\n",
      "test/XR_FOREARM_patient12049_study1_ 1\n",
      "\n",
      "Dictionary key: test/XR_ELBOW_patient12123_study1_ value: 0\n",
      "test/XR_ELBOW_patient12123_study1_ 1\n",
      "\n",
      "Dictionary key: test/XR_HUMERUS_patient12162_study1_ value: 0\n",
      "test/XR_HUMERUS_patient12162_study1_ 1\n",
      "\n",
      "Dictionary key: test/XR_HUMERUS_patient12159_study1_ value: 0\n",
      "test/XR_HUMERUS_patient12159_study1_ 1\n",
      "\n",
      "Dictionary key: test/XR_WRIST_patient12218_study1_ value: 0\n",
      "test/XR_WRIST_patient12218_study1_ 0\n",
      "\n",
      "Dictionary key: test/XR_WRIST_patient12210_study1_ value: 1\n",
      "test/XR_WRIST_patient12210_study1_ 1\n",
      "\n",
      "Dictionary key: test/XR_FOREARM_patient12053_study1_ value: 1\n",
      "test/XR_FOREARM_patient12053_study1_ 1\n",
      "\n",
      "Dictionary key: test/XR_FINGER_patient12245_study1_ value: 0\n",
      "test/XR_FINGER_patient12245_study1_ 0\n",
      "\n",
      "Dictionary key: test/XR_HUMERUS_patient12156_study1_ value: 0\n",
      "test/XR_HUMERUS_patient12156_study1_ 0\n",
      "\n",
      "Dictionary key: test/XR_HAND_patient12088_study1_ value: 0\n",
      "test/XR_HAND_patient12088_study1_ 1\n",
      "\n",
      "Dictionary key: test/XR_SHOULDER_patient12182_study1_ value: 0\n",
      "test/XR_SHOULDER_patient12182_study1_ 0\n",
      "\n",
      "Dictionary key: test/XR_ELBOW_patient12131_study1_ value: 0\n",
      "test/XR_ELBOW_patient12131_study1_ 0\n",
      "\n",
      "Dictionary key: test/XR_ELBOW_patient12113_study1_ value: 1\n",
      "test/XR_ELBOW_patient12113_study1_ 0\n",
      "\n",
      "Dictionary key: test/XR_FINGER_patient12248_study1_ value: 0\n",
      "test/XR_FINGER_patient12248_study1_ 1\n",
      "\n",
      "Dictionary key: test/XR_HUMERUS_patient12137_study1_ value: 1\n",
      "test/XR_HUMERUS_patient12137_study1_ 1\n",
      "\n",
      "Dictionary key: test/XR_HAND_patient12087_study1_ value: 1\n",
      "test/XR_HAND_patient12087_study1_ 1\n",
      "\n",
      "Dictionary key: test/XR_WRIST_patient12194_study1_ value: 1\n",
      "test/XR_WRIST_patient12194_study1_ 0\n",
      "\n",
      "Dictionary key: test/XR_SHOULDER_patient12186_study1_ value: 1\n",
      "test/XR_SHOULDER_patient12186_study1_ 1\n",
      "\n",
      "Dictionary key: test/XR_ELBOW_patient12115_study1_ value: 0\n",
      "test/XR_ELBOW_patient12115_study1_ 0\n",
      "\n",
      "Dictionary key: test/XR_FOREARM_patient12061_study1_ value: 0\n",
      "test/XR_FOREARM_patient12061_study1_ 1\n",
      "\n",
      "Dictionary key: test/XR_ELBOW_patient12120_study1_ value: 0\n",
      "test/XR_ELBOW_patient12120_study1_ 1\n",
      "\n",
      "Dictionary key: test/XR_HUMERUS_patient12147_study1_ value: 1\n",
      "test/XR_HUMERUS_patient12147_study1_ 1\n",
      "\n",
      "Dictionary key: test/XR_SHOULDER_patient12181_study1_ value: 0\n",
      "test/XR_SHOULDER_patient12181_study1_ 0\n",
      "\n",
      "Dictionary key: test/XR_FOREARM_patient12046_study1_ value: 1\n",
      "test/XR_FOREARM_patient12046_study1_ 1\n",
      "\n",
      "Dictionary key: test/XR_HUMERUS_patient12138_study1_ value: 0\n",
      "test/XR_HUMERUS_patient12138_study1_ 1\n",
      "\n",
      "Dictionary key: test/XR_FINGER_patient12243_study1_ value: 0\n",
      "test/XR_FINGER_patient12243_study1_ 1\n",
      "\n",
      "Dictionary key: test/XR_FINGER_patient12240_study1_ value: 0\n",
      "test/XR_FINGER_patient12240_study1_ 0\n",
      "\n",
      "Dictionary key: test/XR_SHOULDER_patient12177_study1_ value: 0\n",
      "test/XR_SHOULDER_patient12177_study1_ 0\n",
      "\n",
      "Dictionary key: test/XR_FOREARM_patient12066_study1_ value: 0\n",
      "test/XR_FOREARM_patient12066_study1_ 0\n",
      "\n",
      "Dictionary key: test/XR_FOREARM_patient12047_study1_ value: 1\n",
      "test/XR_FOREARM_patient12047_study1_ 0\n",
      "\n",
      "Dictionary key: test/XR_ELBOW_patient12114_study1_ value: 1\n",
      "test/XR_ELBOW_patient12114_study1_ 1\n",
      "\n",
      "Dictionary key: test/XR_HUMERUS_patient12155_study1_ value: 0\n",
      "test/XR_HUMERUS_patient12155_study1_ 1\n",
      "\n"
     ]
    },
    {
     "data": {
      "text/plain": [
       "0.5645933014354066"
      ]
     },
     "execution_count": 85,
     "metadata": {},
     "output_type": "execute_result"
    }
   ],
   "source": [
    "test_accuracy(predictions_dict, df_test)"
   ]
  },
  {
   "cell_type": "code",
   "execution_count": 86,
   "metadata": {},
   "outputs": [],
   "source": [
    "cm = confusion_matrix(y,preds);"
   ]
  },
  {
   "cell_type": "code",
   "execution_count": 87,
   "metadata": {},
   "outputs": [
    {
     "name": "stdout",
     "output_type": "stream",
     "text": [
      "[[54 35]\n",
      " [56 64]]\n"
     ]
    },
    {
     "data": {
      "image/png": "[encoded data removed]",
      "text/plain": [
       "<Figure size 432x288 with 2 Axes>"
      ]
     },
     "metadata": {},
     "output_type": "display_data"
    }
   ],
   "source": [
    "plot_confusion_matrix(cm, data.classes)"
   ]
  },
  {
   "cell_type": "code",
   "execution_count": null,
   "metadata": {},
   "outputs": [],
   "source": []
  }
 ],
 "metadata": {
  "kernelspec": {
   "display_name": "fastai",
   "language": "python",
   "name": "fastai"
  },
  "language_info": {
   "codemirror_mode": {
    "name": "ipython",
    "version": 3
   },
   "file_extension": ".py",
   "mimetype": "text/x-python",
   "name": "python",
   "nbconvert_exporter": "python",
   "pygments_lexer": "ipython3",
   "version": "3.6.5"
  }
 },
 "nbformat": 4,
 "nbformat_minor": 2
}
