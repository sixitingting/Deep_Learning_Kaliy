{
 "cells": [
  {
   "cell_type": "code",
   "execution_count": 1,
   "metadata": {},
   "outputs": [],
   "source": [
    "%reload_ext autoreload\n",
    "%autoreload 2\n",
    "%matplotlib inline"
   ]
  },
  {
   "cell_type": "markdown",
   "metadata": {},
   "source": [
    "# MURA"
   ]
  },
  {
   "cell_type": "code",
   "execution_count": 2,
   "metadata": {},
   "outputs": [],
   "source": [
    "import sys\n",
    "sys.path.append(\"../../fastai/\")"
   ]
  },
  {
   "cell_type": "code",
   "execution_count": 3,
   "metadata": {},
   "outputs": [],
   "source": [
    "from fastai.imports import *\n",
    "from fastai.transforms import *\n",
    "from fastai.conv_learner import *\n",
    "from fastai.model import *\n",
    "from fastai.dataset import *\n",
    "from fastai.sgdr import *\n",
    "from fastai.plots import *\n",
    "from sklearn.metrics import confusion_matrix"
   ]
  },
  {
   "cell_type": "code",
   "execution_count": 4,
   "metadata": {},
   "outputs": [],
   "source": [
    "PATH = \"/home/sathiesh/Deep_Learning_Kaliy/my_projects/mura/data/\"  #MMIV\n",
    "#PATH = \"/Users/Sathiesh/MachineLearning/Deep_Learning_Kaliy/my_projects/mura/data/\" #Home"
   ]
  },
  {
   "cell_type": "code",
   "execution_count": 5,
   "metadata": {},
   "outputs": [
    {
     "data": {
      "text/plain": [
       "['test_submission_example.csv',\n",
       " 'models',\n",
       " 'tmp',\n",
       " 'MURA-v1.0',\n",
       " 'valid.csv',\n",
       " 'test',\n",
       " 'cleaned_label.csv',\n",
       " 'train.csv']"
      ]
     },
     "execution_count": 5,
     "metadata": {},
     "output_type": "execute_result"
    }
   ],
   "source": [
    "os.listdir(PATH)"
   ]
  },
  {
   "cell_type": "code",
   "execution_count": 6,
   "metadata": {},
   "outputs": [],
   "source": [
    "df_train = pd.read_csv(f'{PATH}train.csv')\n",
    "df_valid = pd.read_csv(f'{PATH}valid.csv')"
   ]
  },
  {
   "cell_type": "code",
   "execution_count": 7,
   "metadata": {},
   "outputs": [
    {
     "data": {
      "text/html": [
       "<div>\n",
       "<style scoped>\n",
       "    .dataframe tbody tr th:only-of-type {\n",
       "        vertical-align: middle;\n",
       "    }\n",
       "\n",
       "    .dataframe tbody tr th {\n",
       "        vertical-align: top;\n",
       "    }\n",
       "\n",
       "    .dataframe thead th {\n",
       "        text-align: right;\n",
       "    }\n",
       "</style>\n",
       "<table border=\"1\" class=\"dataframe\">\n",
       "  <thead>\n",
       "    <tr style=\"text-align: right;\">\n",
       "      <th></th>\n",
       "      <th>MURA-v1.0/train/XR_SHOULDER/patient00001/study1_positive/image1.png</th>\n",
       "      <th>1</th>\n",
       "    </tr>\n",
       "  </thead>\n",
       "  <tbody>\n",
       "    <tr>\n",
       "      <th>0</th>\n",
       "      <td>MURA-v1.0/train/XR_SHOULDER/patient00001/study...</td>\n",
       "      <td>1</td>\n",
       "    </tr>\n",
       "    <tr>\n",
       "      <th>1</th>\n",
       "      <td>MURA-v1.0/train/XR_SHOULDER/patient00001/study...</td>\n",
       "      <td>1</td>\n",
       "    </tr>\n",
       "    <tr>\n",
       "      <th>2</th>\n",
       "      <td>MURA-v1.0/train/XR_SHOULDER/patient00002/study...</td>\n",
       "      <td>1</td>\n",
       "    </tr>\n",
       "    <tr>\n",
       "      <th>3</th>\n",
       "      <td>MURA-v1.0/train/XR_SHOULDER/patient00002/study...</td>\n",
       "      <td>1</td>\n",
       "    </tr>\n",
       "    <tr>\n",
       "      <th>4</th>\n",
       "      <td>MURA-v1.0/train/XR_SHOULDER/patient00002/study...</td>\n",
       "      <td>1</td>\n",
       "    </tr>\n",
       "  </tbody>\n",
       "</table>\n",
       "</div>"
      ],
      "text/plain": [
       "  MURA-v1.0/train/XR_SHOULDER/patient00001/study1_positive/image1.png  1\n",
       "0  MURA-v1.0/train/XR_SHOULDER/patient00001/study...                   1\n",
       "1  MURA-v1.0/train/XR_SHOULDER/patient00001/study...                   1\n",
       "2  MURA-v1.0/train/XR_SHOULDER/patient00002/study...                   1\n",
       "3  MURA-v1.0/train/XR_SHOULDER/patient00002/study...                   1\n",
       "4  MURA-v1.0/train/XR_SHOULDER/patient00002/study...                   1"
      ]
     },
     "execution_count": 7,
     "metadata": {},
     "output_type": "execute_result"
    }
   ],
   "source": [
    "df_train.head()"
   ]
  },
  {
   "cell_type": "code",
   "execution_count": 8,
   "metadata": {},
   "outputs": [],
   "source": [
    "df_train.columns = ['Image Index', 'Abnormality']"
   ]
  },
  {
   "cell_type": "code",
   "execution_count": 9,
   "metadata": {},
   "outputs": [],
   "source": [
    "df_valid.columns = ['Image Index', 'Abnormality']"
   ]
  },
  {
   "cell_type": "code",
   "execution_count": 10,
   "metadata": {},
   "outputs": [
    {
     "data": {
      "text/plain": [
       "((37110, 2), (3224, 2))"
      ]
     },
     "execution_count": 10,
     "metadata": {},
     "output_type": "execute_result"
    }
   ],
   "source": [
    "df_train.shape, df_valid.shape"
   ]
  },
  {
   "cell_type": "code",
   "execution_count": 11,
   "metadata": {},
   "outputs": [
    {
     "data": {
      "text/html": [
       "<div>\n",
       "<style scoped>\n",
       "    .dataframe tbody tr th:only-of-type {\n",
       "        vertical-align: middle;\n",
       "    }\n",
       "\n",
       "    .dataframe tbody tr th {\n",
       "        vertical-align: top;\n",
       "    }\n",
       "\n",
       "    .dataframe thead th {\n",
       "        text-align: right;\n",
       "    }\n",
       "</style>\n",
       "<table border=\"1\" class=\"dataframe\">\n",
       "  <thead>\n",
       "    <tr style=\"text-align: right;\">\n",
       "      <th></th>\n",
       "      <th>Image Index</th>\n",
       "      <th>Abnormality</th>\n",
       "    </tr>\n",
       "  </thead>\n",
       "  <tbody>\n",
       "    <tr>\n",
       "      <th>0</th>\n",
       "      <td>MURA-v1.0/train/XR_SHOULDER/patient00001/study...</td>\n",
       "      <td>1</td>\n",
       "    </tr>\n",
       "    <tr>\n",
       "      <th>1</th>\n",
       "      <td>MURA-v1.0/train/XR_SHOULDER/patient00001/study...</td>\n",
       "      <td>1</td>\n",
       "    </tr>\n",
       "    <tr>\n",
       "      <th>2</th>\n",
       "      <td>MURA-v1.0/train/XR_SHOULDER/patient00002/study...</td>\n",
       "      <td>1</td>\n",
       "    </tr>\n",
       "    <tr>\n",
       "      <th>3</th>\n",
       "      <td>MURA-v1.0/train/XR_SHOULDER/patient00002/study...</td>\n",
       "      <td>1</td>\n",
       "    </tr>\n",
       "    <tr>\n",
       "      <th>4</th>\n",
       "      <td>MURA-v1.0/train/XR_SHOULDER/patient00002/study...</td>\n",
       "      <td>1</td>\n",
       "    </tr>\n",
       "  </tbody>\n",
       "</table>\n",
       "</div>"
      ],
      "text/plain": [
       "                                         Image Index  Abnormality\n",
       "0  MURA-v1.0/train/XR_SHOULDER/patient00001/study...            1\n",
       "1  MURA-v1.0/train/XR_SHOULDER/patient00001/study...            1\n",
       "2  MURA-v1.0/train/XR_SHOULDER/patient00002/study...            1\n",
       "3  MURA-v1.0/train/XR_SHOULDER/patient00002/study...            1\n",
       "4  MURA-v1.0/train/XR_SHOULDER/patient00002/study...            1"
      ]
     },
     "execution_count": 11,
     "metadata": {},
     "output_type": "execute_result"
    }
   ],
   "source": [
    "df = pd.concat([df_train, df_valid], ignore_index=True)\n",
    "df.head()"
   ]
  },
  {
   "cell_type": "code",
   "execution_count": 12,
   "metadata": {},
   "outputs": [
    {
     "data": {
      "text/plain": [
       "(40334, 2)"
      ]
     },
     "execution_count": 12,
     "metadata": {},
     "output_type": "execute_result"
    }
   ],
   "source": [
    "df.shape"
   ]
  },
  {
   "cell_type": "code",
   "execution_count": 13,
   "metadata": {},
   "outputs": [],
   "source": [
    "df['Abnormality'] = df['Abnormality'].astype('bool')"
   ]
  },
  {
   "cell_type": "code",
   "execution_count": 14,
   "metadata": {},
   "outputs": [],
   "source": [
    "val_idxs = np.array(range(len(df_train), len(df)))"
   ]
  },
  {
   "cell_type": "code",
   "execution_count": 15,
   "metadata": {},
   "outputs": [],
   "source": [
    "cleaned_label_path = f'{PATH}cleaned_label.csv'\n",
    "df.to_csv(cleaned_label_path, index=False)"
   ]
  },
  {
   "cell_type": "markdown",
   "metadata": {},
   "source": [
    "# View data"
   ]
  },
  {
   "cell_type": "code",
   "execution_count": 16,
   "metadata": {},
   "outputs": [],
   "source": [
    "sz = 64\n",
    "arch = dn169\n",
    "bs = 16"
   ]
  },
  {
   "cell_type": "code",
   "execution_count": 17,
   "metadata": {},
   "outputs": [],
   "source": [
    "def get_data(sz): \n",
    "    tfms = tfms_from_model(arch, sz, aug_tfms=RandomFlip())  #transforms_side_on\n",
    "    return ImageClassifierData.from_csv(PATH ,'', cleaned_label_path , test_name='test',\n",
    "                                       val_idxs=val_idxs, tfms=tfms, bs=bs);"
   ]
  },
  {
   "cell_type": "code",
   "execution_count": 18,
   "metadata": {},
   "outputs": [],
   "source": [
    "data = get_data(sz)"
   ]
  },
  {
   "cell_type": "code",
   "execution_count": 19,
   "metadata": {},
   "outputs": [
    {
     "data": {
      "text/plain": [
       "'/home/sathiesh/Deep_Learning_Kaliy/my_projects/mura/data/MURA-v1.0/train/XR_ELBOW/patient00032/study1_negative/image2.png'"
      ]
     },
     "execution_count": 19,
     "metadata": {},
     "output_type": "execute_result"
    }
   ],
   "source": [
    "fn = PATH+data.trn_ds.fnames[10]\n",
    "fn "
   ]
  },
  {
   "cell_type": "code",
   "execution_count": 20,
   "metadata": {},
   "outputs": [
    {
     "data": {
      "image/png": "[encoded data removed]",
      "text/plain": [
       "<PIL.PngImagePlugin.PngImageFile image mode=RGB size=512x406 at 0x7F84DCB29438>"
      ]
     },
     "execution_count": 20,
     "metadata": {},
     "output_type": "execute_result"
    }
   ],
   "source": [
    "img = PIL.Image.open(fn);\n",
    "img"
   ]
  },
  {
   "cell_type": "code",
   "execution_count": 21,
   "metadata": {},
   "outputs": [
    {
     "data": {
      "text/plain": [
       "((37110,), (3224,))"
      ]
     },
     "execution_count": 21,
     "metadata": {},
     "output_type": "execute_result"
    }
   ],
   "source": [
    "data.trn_ds.fnames.shape ,data.val_ds.fnames.shape"
   ]
  },
  {
   "cell_type": "markdown",
   "metadata": {},
   "source": [
    "# Training"
   ]
  },
  {
   "cell_type": "code",
   "execution_count": 22,
   "metadata": {},
   "outputs": [],
   "source": [
    "learn = ConvLearner.pretrained(arch, data, ps = 0.5, opt_fn=optim.Adam) "
   ]
  },
  {
   "cell_type": "code",
   "execution_count": 23,
   "metadata": {},
   "outputs": [
    {
     "data": {
      "application/vnd.jupyter.widget-view+json": {
       "model_id": "ad8a2151cb0f410d95d738f18d7ec510",
       "version_major": 2,
       "version_minor": 0
      },
      "text/plain": [
       "HBox(children=(IntProgress(value=0, description='Epoch', max=1), HTML(value='')))"
      ]
     },
     "metadata": {},
     "output_type": "display_data"
    },
    {
     "name": "stdout",
     "output_type": "stream",
     "text": [
      " 66%|██████▌   | 1529/2320 [03:50<01:59,  6.64it/s, loss=2.75] "
     ]
    },
    {
     "data": {
      "image/png": "[encoded data removed]",
      "text/plain": [
       "<Figure size 432x288 with 1 Axes>"
      ]
     },
     "metadata": {},
     "output_type": "display_data"
    }
   ],
   "source": [
    "learn.lr_find()\n",
    "learn.sched.plot()"
   ]
  },
  {
   "cell_type": "code",
   "execution_count": 24,
   "metadata": {},
   "outputs": [],
   "source": [
    "lr = 0.00006"
   ]
  },
  {
   "cell_type": "code",
   "execution_count": 25,
   "metadata": {},
   "outputs": [
    {
     "name": "stdout",
     "output_type": "stream",
     "text": [
      " 66%|██████▌   | 1529/2320 [04:00<02:04,  6.37it/s, loss=2.75]The history saving thread hit an unexpected error (OperationalError('database is locked',)).History will not be written to the database.\n"
     ]
    },
    {
     "data": {
      "application/vnd.jupyter.widget-view+json": {
       "model_id": "5b8d1092e794496a94f9a54a30af4bae",
       "version_major": 2,
       "version_minor": 0
      },
      "text/plain": [
       "HBox(children=(IntProgress(value=0, description='Epoch', max=7), HTML(value='')))"
      ]
     },
     "metadata": {},
     "output_type": "display_data"
    },
    {
     "name": "stdout",
     "output_type": "stream",
     "text": [
      "  6%|▌         | 131/2320 [00:08<02:30, 14.57it/s, loss=0.942]\n",
      "  6%|▌         | 143/2320 [00:09<02:23, 15.22it/s, loss=0.912]"
     ]
    },
    {
     "name": "stderr",
     "output_type": "stream",
     "text": [
      "Exception in thread Thread-5:\n",
      "Traceback (most recent call last):\n",
      "  File \"/home/sathiesh/anaconda3/envs/fastai/lib/python3.6/threading.py\", line 916, in _bootstrap_inner\n",
      "    self.run()\n",
      "  File \"/home/sathiesh/anaconda3/envs/fastai/lib/python3.6/site-packages/tqdm/_monitor.py\", line 62, in run\n",
      "    for instance in self.tqdm_cls._instances:\n",
      "  File \"/home/sathiesh/anaconda3/envs/fastai/lib/python3.6/_weakrefset.py\", line 60, in __iter__\n",
      "    for itemref in self.data:\n",
      "RuntimeError: Set changed size during iteration\n",
      "\n"
     ]
    },
    {
     "name": "stdout",
     "output_type": "stream",
     "text": [
      "epoch      trn_loss   val_loss   accuracy                      \n",
      "    0      0.73829    0.614884   0.672146  \n",
      "    1      0.674735   0.604903   0.673387                      \n",
      "    2      0.649722   0.579311   0.689826                      \n",
      "    3      0.641217   0.585031   0.691998                      \n",
      "    4      0.602913   0.593581   0.687035                      \n",
      "    5      0.619038   0.574062   0.702543                      \n",
      "    6      0.604775   0.579974   0.69665                       \n",
      "\n"
     ]
    },
    {
     "data": {
      "text/plain": [
       "[array([0.57997]), 0.6966501240694789]"
      ]
     },
     "execution_count": 25,
     "metadata": {},
     "output_type": "execute_result"
    }
   ],
   "source": [
    "learn.fit(lr,3, cycle_len=1, cycle_mult =2) "
   ]
  },
  {
   "cell_type": "code",
   "execution_count": 26,
   "metadata": {},
   "outputs": [
    {
     "data": {
      "application/vnd.jupyter.widget-view+json": {
       "model_id": "88011ab82bb340fbaffba1b6e3e53621",
       "version_major": 2,
       "version_minor": 0
      },
      "text/plain": [
       "HBox(children=(IntProgress(value=0, description='Epoch', max=1), HTML(value='')))"
      ]
     },
     "metadata": {},
     "output_type": "display_data"
    },
    {
     "name": "stdout",
     "output_type": "stream",
     "text": [
      " 64%|██████▍   | 1496/2320 [00:49<00:27, 30.32it/s, loss=2.31] "
     ]
    },
    {
     "data": {
      "image/png": "[encoded data removed]",
      "text/plain": [
       "<Figure size 432x288 with 1 Axes>"
      ]
     },
     "metadata": {},
     "output_type": "display_data"
    }
   ],
   "source": [
    "learn.lr_find()\n",
    "learn.sched.plot()"
   ]
  },
  {
   "cell_type": "code",
   "execution_count": 27,
   "metadata": {},
   "outputs": [],
   "source": [
    "lrs = [1e-5, 1e-4, 1e-3]\n",
    "learn.unfreeze()"
   ]
  },
  {
   "cell_type": "code",
   "execution_count": 28,
   "metadata": {},
   "outputs": [
    {
     "data": {
      "application/vnd.jupyter.widget-view+json": {
       "model_id": "55a81aca8fd94a18ba4da28446234afe",
       "version_major": 2,
       "version_minor": 0
      },
      "text/plain": [
       "HBox(children=(IntProgress(value=0, description='Epoch', max=7), HTML(value='')))"
      ]
     },
     "metadata": {},
     "output_type": "display_data"
    },
    {
     "name": "stdout",
     "output_type": "stream",
     "text": [
      "  0%|          | 0/2320 [00:00<?, ?it/s]                      \n",
      "  0%|          | 1/2320 [00:00<15:23,  2.51it/s, loss=0.65]"
     ]
    },
    {
     "name": "stderr",
     "output_type": "stream",
     "text": [
      "Exception in thread Thread-13:\n",
      "Traceback (most recent call last):\n",
      "  File \"/home/sathiesh/anaconda3/envs/fastai/lib/python3.6/threading.py\", line 916, in _bootstrap_inner\n",
      "    self.run()\n",
      "  File \"/home/sathiesh/anaconda3/envs/fastai/lib/python3.6/site-packages/tqdm/_monitor.py\", line 62, in run\n",
      "    for instance in self.tqdm_cls._instances:\n",
      "  File \"/home/sathiesh/anaconda3/envs/fastai/lib/python3.6/_weakrefset.py\", line 60, in __iter__\n",
      "    for itemref in self.data:\n",
      "RuntimeError: Set changed size during iteration\n",
      "\n"
     ]
    },
    {
     "name": "stdout",
     "output_type": "stream",
     "text": [
      "epoch      trn_loss   val_loss   accuracy                      \n",
      "    0      0.548806   0.540867   0.726737  \n",
      "    1      0.501731   0.524821   0.752792                      \n",
      "    2      0.480886   0.498576   0.766439                      \n",
      "    3      0.522228   0.541025   0.738524                      \n",
      "    4      0.502301   0.493524   0.772022                      \n",
      "    5      0.464103   0.482427   0.775124                      \n",
      "    6      0.426275   0.490584   0.777916                      \n",
      "\n"
     ]
    },
    {
     "data": {
      "text/plain": [
       "[array([0.49058]), 0.7779156327543424]"
      ]
     },
     "execution_count": 28,
     "metadata": {},
     "output_type": "execute_result"
    }
   ],
   "source": [
    "learn.fit(lrs, 3, cycle_len=1, cycle_mult=2)"
   ]
  },
  {
   "cell_type": "code",
   "execution_count": 29,
   "metadata": {},
   "outputs": [],
   "source": [
    "learn.save(f'{sz}')"
   ]
  },
  {
   "cell_type": "code",
   "execution_count": 30,
   "metadata": {},
   "outputs": [],
   "source": [
    "sz = 128"
   ]
  },
  {
   "cell_type": "code",
   "execution_count": 31,
   "metadata": {},
   "outputs": [],
   "source": [
    "learn.set_data(get_data(sz))\n",
    "learn.freeze()"
   ]
  },
  {
   "cell_type": "code",
   "execution_count": 32,
   "metadata": {},
   "outputs": [
    {
     "data": {
      "application/vnd.jupyter.widget-view+json": {
       "model_id": "782ebe0b9d8a489780553dab61238492",
       "version_major": 2,
       "version_minor": 0
      },
      "text/plain": [
       "HBox(children=(IntProgress(value=0, description='Epoch', max=7), HTML(value='')))"
      ]
     },
     "metadata": {},
     "output_type": "display_data"
    },
    {
     "name": "stdout",
     "output_type": "stream",
     "text": [
      "epoch      trn_loss   val_loss   accuracy                      \n",
      "    0      0.518103   0.529762   0.745658  \n",
      "    1      0.485838   0.521563   0.748449                      \n",
      "    2      0.498723   0.515585   0.752481                      \n",
      "    3      0.493377   0.508137   0.756514                      \n",
      "    4      0.519594   0.512658   0.757134                      \n",
      "    5      0.480265   0.503444   0.759615                      \n",
      "    6      0.509054   0.508283   0.757754                      \n",
      "\n"
     ]
    },
    {
     "data": {
      "text/plain": [
       "[array([0.50828]), 0.7577543424317618]"
      ]
     },
     "execution_count": 32,
     "metadata": {},
     "output_type": "execute_result"
    }
   ],
   "source": [
    "learn.fit(lr, 3, cycle_len=1, cycle_mult=2)"
   ]
  },
  {
   "cell_type": "code",
   "execution_count": 33,
   "metadata": {},
   "outputs": [
    {
     "data": {
      "application/vnd.jupyter.widget-view+json": {
       "model_id": "19e7ebf21fb14cc5a1c3065066dc651d",
       "version_major": 2,
       "version_minor": 0
      },
      "text/plain": [
       "HBox(children=(IntProgress(value=0, description='Epoch', max=7), HTML(value='')))"
      ]
     },
     "metadata": {},
     "output_type": "display_data"
    },
    {
     "name": "stdout",
     "output_type": "stream",
     "text": [
      "epoch      trn_loss   val_loss   accuracy                      \n",
      "    0      0.4566     0.45515    0.799628  \n",
      "    1      0.471847   0.458954   0.796216                      \n",
      "    2      0.430773   0.447403   0.807692                      \n",
      "    3      0.458681   0.436913   0.807692                      \n",
      "    4      0.393363   0.455372   0.809864                      \n",
      "    5      0.369448   0.449903   0.811414                      \n",
      "    6      0.338124   0.458966   0.807382                      \n",
      "\n"
     ]
    },
    {
     "data": {
      "text/plain": [
       "[array([0.45897]), 0.8073821339950372]"
      ]
     },
     "execution_count": 33,
     "metadata": {},
     "output_type": "execute_result"
    }
   ],
   "source": [
    "learn.unfreeze();\n",
    "learn.fit(lrs, 3, cycle_len=1, cycle_mult=2)"
   ]
  },
  {
   "cell_type": "code",
   "execution_count": 34,
   "metadata": {},
   "outputs": [],
   "source": [
    "learn.save(f'{sz}')"
   ]
  },
  {
   "cell_type": "code",
   "execution_count": 35,
   "metadata": {},
   "outputs": [],
   "source": [
    "sz = 256"
   ]
  },
  {
   "cell_type": "code",
   "execution_count": 36,
   "metadata": {},
   "outputs": [],
   "source": [
    "learn.set_data(get_data(sz))\n",
    "learn.freeze() "
   ]
  },
  {
   "cell_type": "code",
   "execution_count": 37,
   "metadata": {},
   "outputs": [
    {
     "data": {
      "application/vnd.jupyter.widget-view+json": {
       "model_id": "a225904a75ce455fba4a2fd9fcc96892",
       "version_major": 2,
       "version_minor": 0
      },
      "text/plain": [
       "HBox(children=(IntProgress(value=0, description='Epoch', max=7), HTML(value='')))"
      ]
     },
     "metadata": {},
     "output_type": "display_data"
    },
    {
     "name": "stdout",
     "output_type": "stream",
     "text": [
      "epoch      trn_loss   val_loss   accuracy                      \n",
      "    0      0.510196   0.501302   0.771712  \n",
      "    1      0.470398   0.477051   0.783189                      \n",
      "    2      0.469614   0.472185   0.784119                      \n",
      "    3      0.467266   0.477311   0.78536                       \n",
      "    4      0.472679   0.466267   0.789392                      \n",
      "    5      0.466479   0.461317   0.791253                      \n",
      "    6      0.454383   0.46419    0.790943                      \n",
      "\n"
     ]
    },
    {
     "data": {
      "text/plain": [
       "[array([0.46419]), 0.7909429280397022]"
      ]
     },
     "execution_count": 37,
     "metadata": {},
     "output_type": "execute_result"
    }
   ],
   "source": [
    "learn.fit(lr, 3, cycle_len=1, cycle_mult=2)"
   ]
  },
  {
   "cell_type": "code",
   "execution_count": 38,
   "metadata": {},
   "outputs": [
    {
     "data": {
      "application/vnd.jupyter.widget-view+json": {
       "model_id": "671227f7f3ef41b69c728efed689f7cd",
       "version_major": 2,
       "version_minor": 0
      },
      "text/plain": [
       "HBox(children=(IntProgress(value=0, description='Epoch', max=7), HTML(value='')))"
      ]
     },
     "metadata": {},
     "output_type": "display_data"
    },
    {
     "name": "stdout",
     "output_type": "stream",
     "text": [
      "epoch      trn_loss   val_loss   accuracy                      \n",
      "    0      0.445979   0.421878   0.815136  \n",
      "    1      0.430027   0.537077   0.815136                      \n",
      "    2      0.378791   0.412827   0.827543                      \n",
      "    3      0.423046   0.421497   0.822891                      \n",
      "    4      0.366729   0.406922   0.833437                      \n",
      "    5      0.325404   0.41981    0.828164                      \n",
      "    6      0.282824   0.451394   0.824132                      \n",
      "\n"
     ]
    }
   ],
   "source": [
    "learn.unfreeze()\n",
    "learn.fit(lrs, 3, cycle_len=1, cycle_mult=2)\n",
    "#Hvis ikke overfitting her: \n",
    "learn.save(f'{sz}121')"
   ]
  },
  {
   "cell_type": "code",
   "execution_count": 39,
   "metadata": {},
   "outputs": [
    {
     "data": {
      "image/png": "[encoded data removed]",
      "text/plain": [
       "<Figure size 432x288 with 1 Axes>"
      ]
     },
     "metadata": {},
     "output_type": "display_data"
    }
   ],
   "source": [
    "learn.sched.plot_loss()"
   ]
  },
  {
   "cell_type": "markdown",
   "metadata": {},
   "source": [
    "# Transfer learning "
   ]
  },
  {
   "cell_type": "code",
   "execution_count": 40,
   "metadata": {},
   "outputs": [],
   "source": [
    "sz = 256\n",
    "data = get_data(sz)"
   ]
  },
  {
   "cell_type": "code",
   "execution_count": 41,
   "metadata": {},
   "outputs": [],
   "source": [
    "learnTL = ConvLearner.pretrained(arch, data, opt_fn=optim.Adam, ps = 0.5) "
   ]
  },
  {
   "cell_type": "code",
   "execution_count": 42,
   "metadata": {},
   "outputs": [],
   "source": [
    "learnTL.load('256169denne') #pretrained weights on chestX 14 dataset "
   ]
  },
  {
   "cell_type": "code",
   "execution_count": 43,
   "metadata": {},
   "outputs": [],
   "source": [
    "sz = 64"
   ]
  },
  {
   "cell_type": "code",
   "execution_count": 44,
   "metadata": {},
   "outputs": [],
   "source": [
    "learnTL.set_data(get_data(sz))"
   ]
  },
  {
   "cell_type": "code",
   "execution_count": 45,
   "metadata": {},
   "outputs": [
    {
     "data": {
      "application/vnd.jupyter.widget-view+json": {
       "model_id": "7f3c9f620fae4c30a1c40d87c5e38464",
       "version_major": 2,
       "version_minor": 0
      },
      "text/plain": [
       "HBox(children=(IntProgress(value=0, description='Epoch', max=1), HTML(value='')))"
      ]
     },
     "metadata": {},
     "output_type": "display_data"
    },
    {
     "name": "stdout",
     "output_type": "stream",
     "text": [
      " 65%|██████▌   | 1518/2320 [00:49<00:26, 30.67it/s, loss=2.55] "
     ]
    },
    {
     "data": {
      "image/png": "[encoded data removed]",
      "text/plain": [
       "<Figure size 432x288 with 1 Axes>"
      ]
     },
     "metadata": {},
     "output_type": "display_data"
    }
   ],
   "source": [
    "learnTL.lr_find()\n",
    "learnTL.sched.plot()"
   ]
  },
  {
   "cell_type": "code",
   "execution_count": 46,
   "metadata": {},
   "outputs": [],
   "source": [
    "lr = 0.0001"
   ]
  },
  {
   "cell_type": "code",
   "execution_count": 47,
   "metadata": {},
   "outputs": [
    {
     "data": {
      "application/vnd.jupyter.widget-view+json": {
       "model_id": "599c6c41ca2741c782f250096e4a9ca9",
       "version_major": 2,
       "version_minor": 0
      },
      "text/plain": [
       "HBox(children=(IntProgress(value=0, description='Epoch', max=7), HTML(value='')))"
      ]
     },
     "metadata": {},
     "output_type": "display_data"
    },
    {
     "name": "stdout",
     "output_type": "stream",
     "text": [
      " 12%|█▏        | 270/2320 [00:09<01:12, 28.10it/s, loss=0.84] \n",
      " 12%|█▏        | 274/2320 [00:09<01:13, 27.96it/s, loss=0.834]"
     ]
    },
    {
     "name": "stderr",
     "output_type": "stream",
     "text": [
      "Exception in thread Thread-53:\n",
      "Traceback (most recent call last):\n",
      "  File \"/home/sathiesh/anaconda3/envs/fastai/lib/python3.6/threading.py\", line 916, in _bootstrap_inner\n",
      "    self.run()\n",
      "  File \"/home/sathiesh/anaconda3/envs/fastai/lib/python3.6/site-packages/tqdm/_monitor.py\", line 62, in run\n",
      "    for instance in self.tqdm_cls._instances:\n",
      "  File \"/home/sathiesh/anaconda3/envs/fastai/lib/python3.6/_weakrefset.py\", line 60, in __iter__\n",
      "    for itemref in self.data:\n",
      "RuntimeError: Set changed size during iteration\n",
      "\n"
     ]
    },
    {
     "name": "stdout",
     "output_type": "stream",
     "text": [
      "epoch      trn_loss   val_loss   accuracy                      \n",
      "    0      0.657394   0.655621   0.611352  \n",
      "    1      0.614378   0.634836   0.638648                      \n",
      "    2      0.611284   0.616525   0.662221                      \n",
      "    3      0.616256   0.609055   0.673387                      \n",
      "    4      0.593594   0.595834   0.680211                      \n",
      "    5      0.590402   0.589004   0.685484                      \n",
      "    6      0.598009   0.588774   0.690136                      \n",
      "\n"
     ]
    },
    {
     "data": {
      "text/plain": [
       "[array([0.58877]), 0.690136476426799]"
      ]
     },
     "execution_count": 47,
     "metadata": {},
     "output_type": "execute_result"
    }
   ],
   "source": [
    "learnTL.fit(lr,3, cycle_len=1, cycle_mult =2) "
   ]
  },
  {
   "cell_type": "code",
   "execution_count": 48,
   "metadata": {},
   "outputs": [
    {
     "data": {
      "application/vnd.jupyter.widget-view+json": {
       "model_id": "c9cba466bcdb4244bbc056193ae7dd8c",
       "version_major": 2,
       "version_minor": 0
      },
      "text/plain": [
       "HBox(children=(IntProgress(value=0, description='Epoch', max=1), HTML(value='')))"
      ]
     },
     "metadata": {},
     "output_type": "display_data"
    },
    {
     "name": "stdout",
     "output_type": "stream",
     "text": [
      " 65%|██████▍   | 1498/2320 [00:48<00:26, 30.70it/s, loss=2.19] "
     ]
    },
    {
     "data": {
      "image/png": "[encoded data removed]",
      "text/plain": [
       "<Figure size 432x288 with 1 Axes>"
      ]
     },
     "metadata": {},
     "output_type": "display_data"
    }
   ],
   "source": [
    "learnTL.lr_find()\n",
    "learnTL.sched.plot()"
   ]
  },
  {
   "cell_type": "code",
   "execution_count": 49,
   "metadata": {},
   "outputs": [],
   "source": [
    "lrs = [1e-6,1e-5,1e-4]\n",
    "learnTL.unfreeze()"
   ]
  },
  {
   "cell_type": "code",
   "execution_count": 50,
   "metadata": {},
   "outputs": [
    {
     "data": {
      "application/vnd.jupyter.widget-view+json": {
       "model_id": "dd5bdac3af83494abb1cf15af89fea71",
       "version_major": 2,
       "version_minor": 0
      },
      "text/plain": [
       "HBox(children=(IntProgress(value=0, description='Epoch', max=7), HTML(value='')))"
      ]
     },
     "metadata": {},
     "output_type": "display_data"
    },
    {
     "name": "stdout",
     "output_type": "stream",
     "text": [
      "  0%|          | 2/2320 [00:00<10:28,  3.69it/s, loss=0.739]  \n",
      "  0%|          | 3/2320 [00:00<09:32,  4.05it/s, loss=0.752]"
     ]
    },
    {
     "name": "stderr",
     "output_type": "stream",
     "text": [
      "Exception in thread Thread-61:\n",
      "Traceback (most recent call last):\n",
      "  File \"/home/sathiesh/anaconda3/envs/fastai/lib/python3.6/threading.py\", line 916, in _bootstrap_inner\n",
      "    self.run()\n",
      "  File \"/home/sathiesh/anaconda3/envs/fastai/lib/python3.6/site-packages/tqdm/_monitor.py\", line 62, in run\n",
      "    for instance in self.tqdm_cls._instances:\n",
      "  File \"/home/sathiesh/anaconda3/envs/fastai/lib/python3.6/_weakrefset.py\", line 60, in __iter__\n",
      "    for itemref in self.data:\n",
      "RuntimeError: Set changed size during iteration\n",
      "\n"
     ]
    },
    {
     "name": "stdout",
     "output_type": "stream",
     "text": [
      "epoch      trn_loss   val_loss   accuracy                      \n",
      "    0      0.585735   0.577605   0.701923  \n",
      "    1      0.558721   0.545061   0.728288                      \n",
      "    2      0.544541   0.541203   0.729529                      \n",
      "    3      0.558049   0.537626   0.73263                       \n",
      "    4      0.509338   0.532532   0.735732                      \n",
      "    5      0.512283   0.514095   0.752481                      \n",
      "    6      0.534094   0.523004   0.741935                      \n",
      "\n"
     ]
    },
    {
     "data": {
      "text/plain": [
       "[array([0.523]), 0.7419354838709677]"
      ]
     },
     "execution_count": 50,
     "metadata": {},
     "output_type": "execute_result"
    }
   ],
   "source": [
    "learnTL.fit(lrs, 3, cycle_len=1, cycle_mult=2)"
   ]
  },
  {
   "cell_type": "code",
   "execution_count": 51,
   "metadata": {},
   "outputs": [],
   "source": [
    "learnTL.save(f'{sz}TL')"
   ]
  },
  {
   "cell_type": "code",
   "execution_count": 52,
   "metadata": {},
   "outputs": [],
   "source": [
    "sz = 128"
   ]
  },
  {
   "cell_type": "code",
   "execution_count": 53,
   "metadata": {},
   "outputs": [],
   "source": [
    "learnTL.set_data(get_data(sz))\n",
    "learnTL.freeze()"
   ]
  },
  {
   "cell_type": "code",
   "execution_count": 54,
   "metadata": {},
   "outputs": [
    {
     "data": {
      "application/vnd.jupyter.widget-view+json": {
       "model_id": "310b2a9b2d5841cfbe1939d086935cb4",
       "version_major": 2,
       "version_minor": 0
      },
      "text/plain": [
       "HBox(children=(IntProgress(value=0, description='Epoch', max=7), HTML(value='')))"
      ]
     },
     "metadata": {},
     "output_type": "display_data"
    },
    {
     "name": "stdout",
     "output_type": "stream",
     "text": [
      "epoch      trn_loss   val_loss   accuracy                      \n",
      "    0      0.54206    0.556892   0.718052  \n",
      "    1      0.552528   0.547775   0.727667                      \n",
      "    2      0.557624   0.541622   0.734491                      \n",
      "    3      0.516293   0.546632   0.73294                       \n",
      "    4      0.545134   0.533466   0.743176                      \n",
      "    5      0.530756   0.534226   0.741315                      \n",
      "    6      0.506712   0.533713   0.740695                      \n",
      "\n"
     ]
    },
    {
     "data": {
      "text/plain": [
       "[array([0.53371]), 0.7406947890818859]"
      ]
     },
     "execution_count": 54,
     "metadata": {},
     "output_type": "execute_result"
    }
   ],
   "source": [
    "learnTL.fit(lr, 3, cycle_len=1, cycle_mult=2)"
   ]
  },
  {
   "cell_type": "code",
   "execution_count": 55,
   "metadata": {},
   "outputs": [
    {
     "data": {
      "application/vnd.jupyter.widget-view+json": {
       "model_id": "8b2634394573479f976c3b88a3353d46",
       "version_major": 2,
       "version_minor": 0
      },
      "text/plain": [
       "HBox(children=(IntProgress(value=0, description='Epoch', max=7), HTML(value='')))"
      ]
     },
     "metadata": {},
     "output_type": "display_data"
    },
    {
     "name": "stdout",
     "output_type": "stream",
     "text": [
      "epoch      trn_loss   val_loss   accuracy                      \n",
      "    0      0.489845   0.508541   0.760856  \n",
      "    1      0.485055   0.482397   0.772022                      \n",
      "    2      0.483792   0.473894   0.779467                      \n",
      "    3      0.484088   0.462762   0.788151                      \n",
      "    4      0.428534   0.46467    0.791253                      \n",
      "    5      0.41887    0.45944    0.787221                      \n",
      "    6      0.4173     0.458374   0.793114                      \n",
      "\n"
     ]
    },
    {
     "data": {
      "text/plain": [
       "[array([0.45837]), 0.7931141439205955]"
      ]
     },
     "execution_count": 55,
     "metadata": {},
     "output_type": "execute_result"
    }
   ],
   "source": [
    "learnTL.unfreeze()\n",
    "learnTL.fit(lrs, 3, cycle_len=1, cycle_mult=2)"
   ]
  },
  {
   "cell_type": "code",
   "execution_count": 56,
   "metadata": {},
   "outputs": [],
   "source": [
    "learnTL.save(f'{sz}TL')"
   ]
  },
  {
   "cell_type": "code",
   "execution_count": 57,
   "metadata": {},
   "outputs": [],
   "source": [
    "sz = 256"
   ]
  },
  {
   "cell_type": "code",
   "execution_count": 58,
   "metadata": {},
   "outputs": [],
   "source": [
    "learnTL.set_data(get_data(sz))\n",
    "learnTL.freeze()"
   ]
  },
  {
   "cell_type": "code",
   "execution_count": 59,
   "metadata": {},
   "outputs": [
    {
     "data": {
      "application/vnd.jupyter.widget-view+json": {
       "model_id": "5063022ee7304bd9bb0ec225db1f12aa",
       "version_major": 2,
       "version_minor": 0
      },
      "text/plain": [
       "HBox(children=(IntProgress(value=0, description='Epoch', max=7), HTML(value='')))"
      ]
     },
     "metadata": {},
     "output_type": "display_data"
    },
    {
     "name": "stdout",
     "output_type": "stream",
     "text": [
      "epoch      trn_loss   val_loss   accuracy                      \n",
      "    0      0.494539   0.482716   0.773263  \n",
      "    1      0.489654   0.4831     0.779156                      \n",
      "    2      0.503785   0.478905   0.781328                      \n",
      "    3      0.480103   0.473604   0.781328                      \n",
      "    4      0.481912   0.467508   0.78536                       \n",
      "    5      0.484352   0.470018   0.783499                      \n",
      "    6      0.474154   0.470217   0.783189                      \n",
      "\n"
     ]
    },
    {
     "data": {
      "text/plain": [
       "[array([0.47022]), 0.7831885856079405]"
      ]
     },
     "execution_count": 59,
     "metadata": {},
     "output_type": "execute_result"
    }
   ],
   "source": [
    "learnTL.fit(lr, 3, cycle_len=1, cycle_mult=2)"
   ]
  },
  {
   "cell_type": "code",
   "execution_count": 60,
   "metadata": {},
   "outputs": [],
   "source": [
    "learnTL.save(f'{sz}TL')"
   ]
  },
  {
   "cell_type": "code",
   "execution_count": 61,
   "metadata": {},
   "outputs": [
    {
     "data": {
      "application/vnd.jupyter.widget-view+json": {
       "model_id": "9e05d5198c034413b6ac3b0ba541f3d1",
       "version_major": 2,
       "version_minor": 0
      },
      "text/plain": [
       "HBox(children=(IntProgress(value=0, description='Epoch', max=7), HTML(value='')))"
      ]
     },
     "metadata": {},
     "output_type": "display_data"
    },
    {
     "name": "stdout",
     "output_type": "stream",
     "text": [
      "epoch      trn_loss   val_loss   accuracy                      \n",
      "    0      0.459763   0.451369   0.799628  \n",
      "    1      0.439192   0.441914   0.801179                      \n",
      "    2      0.425232   0.42857    0.80366                       \n",
      "    3      0.433595   0.432661   0.809553                      \n",
      "    4      0.407529   0.431212   0.811725                      \n",
      "    5      0.391429   0.431898   0.812965                      \n",
      "    6      0.374344   0.428866   0.815136                      \n",
      "\n"
     ]
    },
    {
     "data": {
      "text/plain": [
       "[array([0.42887]), 0.815136476426799]"
      ]
     },
     "execution_count": 61,
     "metadata": {},
     "output_type": "execute_result"
    }
   ],
   "source": [
    "learnTL.unfreeze()\n",
    "learnTL.fit(lrs,3, cycle_len=1, cycle_mult=2)\n",
    "#learnTL.save(f'{sz}TL') hvis den ikke overfitter"
   ]
  },
  {
   "cell_type": "code",
   "execution_count": 62,
   "metadata": {},
   "outputs": [
    {
     "data": {
      "image/png": "[encoded data removed]",
      "text/plain": [
       "<Figure size 432x288 with 1 Axes>"
      ]
     },
     "metadata": {},
     "output_type": "display_data"
    }
   ],
   "source": [
    "learnTL.sched.plot_loss()"
   ]
  },
  {
   "cell_type": "markdown",
   "metadata": {},
   "source": [
    "# Prediction on test set"
   ]
  },
  {
   "cell_type": "code",
   "execution_count": 63,
   "metadata": {},
   "outputs": [],
   "source": [
    "df_test = pd.read_csv(f'{PATH}test_submission_example.csv', header=None)"
   ]
  },
  {
   "cell_type": "code",
   "execution_count": 64,
   "metadata": {},
   "outputs": [
    {
     "data": {
      "text/plain": [
       "(209, 2)"
      ]
     },
     "execution_count": 64,
     "metadata": {},
     "output_type": "execute_result"
    }
   ],
   "source": [
    "df_test.shape"
   ]
  },
  {
   "cell_type": "code",
   "execution_count": 65,
   "metadata": {},
   "outputs": [],
   "source": [
    "df_test.columns = ['Study','Abnormality']"
   ]
  },
  {
   "cell_type": "code",
   "execution_count": 66,
   "metadata": {},
   "outputs": [],
   "source": [
    "df_test['Study'] = df_test['Study'].str.replace(\"/\", \"_\")\n",
    "df_test['Study'] = df_test['Study'].str.replace(\"test_\",\"test/\")"
   ]
  },
  {
   "cell_type": "code",
   "execution_count": 67,
   "metadata": {},
   "outputs": [
    {
     "data": {
      "text/plain": [
       "array([[0.],\n",
       "       [0.],\n",
       "       [0.],\n",
       "       [0.],\n",
       "       [0.]])"
      ]
     },
     "execution_count": 67,
     "metadata": {},
     "output_type": "execute_result"
    }
   ],
   "source": [
    "# maa lable y \n",
    "data.test_ds.y[:5] #alle er 0 "
   ]
  },
  {
   "cell_type": "code",
   "execution_count": 68,
   "metadata": {},
   "outputs": [],
   "source": [
    "pos = 0; \n",
    "df_pos_img_indxs = {}\n",
    "for stud in df_test['Study']: #eksempel: stud:  test/XR_FOREARM_patient12044_study1_\n",
    "    indices = [i for i, s in enumerate(data.test_ds.fnames) if stud in s] #posisjonen til alle som \n",
    "    for j in indices:\n",
    "        data.test_ds.y[j] = df_test['Abnormality'][pos]\n",
    "    \n",
    "    df_pos_img_indxs[pos] = indices\n",
    "    pos= pos+1; "
   ]
  },
  {
   "cell_type": "code",
   "execution_count": 69,
   "metadata": {},
   "outputs": [
    {
     "data": {
      "text/plain": [
       "array([[1.],\n",
       "       [1.],\n",
       "       [0.],\n",
       "       [0.],\n",
       "       [0.]])"
      ]
     },
     "execution_count": 69,
     "metadata": {},
     "output_type": "execute_result"
    }
   ],
   "source": [
    "data.test_ds.y[:5]"
   ]
  },
  {
   "cell_type": "code",
   "execution_count": 70,
   "metadata": {},
   "outputs": [
    {
     "data": {
      "text/plain": [
       "209"
      ]
     },
     "execution_count": 70,
     "metadata": {},
     "output_type": "execute_result"
    }
   ],
   "source": [
    "len(df_pos_img_indxs)"
   ]
  },
  {
   "cell_type": "code",
   "execution_count": 71,
   "metadata": {},
   "outputs": [
    {
     "data": {
      "text/plain": [
       "[56, 186, 253]"
      ]
     },
     "execution_count": 71,
     "metadata": {},
     "output_type": "execute_result"
    }
   ],
   "source": [
    "df_pos_img_indxs[0]"
   ]
  },
  {
   "cell_type": "code",
   "execution_count": 72,
   "metadata": {},
   "outputs": [
    {
     "data": {
      "text/plain": [
       "(array([1.]), array([1.]), array([1.]))"
      ]
     },
     "execution_count": 72,
     "metadata": {},
     "output_type": "execute_result"
    }
   ],
   "source": [
    "data.test_ds.y[56], data.test_ds.y[186], data.test_ds.y[253]"
   ]
  },
  {
   "cell_type": "code",
   "execution_count": 73,
   "metadata": {},
   "outputs": [
    {
     "name": "stdout",
     "output_type": "stream",
     "text": [
      "                                             \r"
     ]
    }
   ],
   "source": [
    "log_preds,y = learnTL.TTA(is_test=True)\n",
    "probs = np.mean(np.exp(log_preds),0)\n",
    "accuracy = accuracy_np(probs, y)"
   ]
  },
  {
   "cell_type": "code",
   "execution_count": 74,
   "metadata": {},
   "outputs": [
    {
     "data": {
      "text/plain": [
       "0.5670840787119857"
      ]
     },
     "execution_count": 74,
     "metadata": {},
     "output_type": "execute_result"
    }
   ],
   "source": [
    "accuracy"
   ]
  },
  {
   "cell_type": "markdown",
   "metadata": {},
   "source": [
    "### Predict studies "
   ]
  },
  {
   "cell_type": "code",
   "execution_count": 75,
   "metadata": {},
   "outputs": [
    {
     "data": {
      "text/plain": [
       "559"
      ]
     },
     "execution_count": 75,
     "metadata": {},
     "output_type": "execute_result"
    }
   ],
   "source": [
    "test_list = data.test_ds.fnames\n",
    "len(test_list)"
   ]
  },
  {
   "cell_type": "code",
   "execution_count": 76,
   "metadata": {},
   "outputs": [],
   "source": [
    "#fjerne imagex.png fra stringen, så man kan finne alle bildene for et studie\n",
    "def searching_string(pasient_image_path):\n",
    "    string_size = len(pasient_image_path) - len('image1.png')\n",
    "    return pasient_image_path[:string_size] "
   ]
  },
  {
   "cell_type": "code",
   "execution_count": 77,
   "metadata": {},
   "outputs": [],
   "source": [
    "#finne indeksene til bildene som er med i studiet\n",
    "def find_img_indxs(pasient_study): \n",
    "    return [test_list.index(i) for i in test_list if pasient_study in i]"
   ]
  },
  {
   "cell_type": "code",
   "execution_count": 78,
   "metadata": {},
   "outputs": [],
   "source": [
    "trn_tfms, val_tfms = tfms_from_model(arch, sz) # get transformations\n",
    "def predict_abnormality(fn): \n",
    "    im = open_image(fn)\n",
    "    im_val = val_tfms(im)\n",
    "    preds = learnTL.predict_array(im_val[None])\n",
    "    return np.argmax(preds)"
   ]
  },
  {
   "cell_type": "markdown",
   "metadata": {},
   "source": [
    "you should use the 2nd return val from tfms_from_model. The first one includes data augmentation, e.g. for the training set. For predictions you don’t want that, so use the 2nd one.\n",
    "Jeremy"
   ]
  },
  {
   "cell_type": "code",
   "execution_count": 79,
   "metadata": {},
   "outputs": [],
   "source": [
    "#fjerne indeksene til bildene fra test_list når man er ferdig med å predikere et studie. \n",
    "def del_indxs(study_img_indxs):\n",
    "    #for i in study_img_indxs: \n",
    "       # del test_list[i] \n",
    "    return np.delete(test_list, study_img_indxs).tolist()"
   ]
  },
  {
   "cell_type": "code",
   "execution_count": 80,
   "metadata": {},
   "outputs": [],
   "source": [
    "predictions_dict = {}\n",
    "\n",
    "while(len(test_list)>0): \n",
    "    string_study = searching_string(test_list[0])\n",
    "    study_img_indxs = find_img_indxs(string_study)\n",
    "    \n",
    "    prediction_list = [] #skal inneholde alle predikasjonene for et studie\n",
    "\n",
    "    #Her skal det predikeres på hvert av bildene i studiet\n",
    "    for i in study_img_indxs: \n",
    "        prediction = predict_abnormality(PATH+test_list[i])\n",
    "        prediction_list.append(prediction)\n",
    "        \n",
    "    predictions_dict[string_study] = max(prediction_list) # nøkkel : navnet til studiet + value: predikasjonen (hvis en av de er True, så er studiet True)\n",
    "    \n",
    "    #ferdig med predikasjon for et studie\n",
    "    test_list = del_indxs(study_img_indxs)\n",
    "    #print(find_img_indxs(string_study)) #bare for å teste at alle listene som retuneres er tomme "
   ]
  },
  {
   "cell_type": "code",
   "execution_count": 81,
   "metadata": {},
   "outputs": [
    {
     "data": {
      "text/plain": [
       "209"
      ]
     },
     "execution_count": 81,
     "metadata": {},
     "output_type": "execute_result"
    }
   ],
   "source": [
    "len(predictions_dict)"
   ]
  },
  {
   "cell_type": "code",
   "execution_count": 82,
   "metadata": {},
   "outputs": [],
   "source": [
    "y = []\n",
    "preds = []"
   ]
  },
  {
   "cell_type": "code",
   "execution_count": 83,
   "metadata": {},
   "outputs": [],
   "source": [
    "def add_values(y_value, preds_value): \n",
    "    y.append(y_value)\n",
    "    preds.append(preds_value)"
   ]
  },
  {
   "cell_type": "code",
   "execution_count": 84,
   "metadata": {},
   "outputs": [],
   "source": [
    "def test_accuracy(pred_dict, df_test): \n",
    "    num_correct = 0; \n",
    "    for key, value in pred_dict.items(): \n",
    "        searching_string = key\n",
    "        row = df_test.loc[df_test['Study'] == searching_string]\n",
    "        print(\"Dictionary key: \" + str(key) + \" value: \" + str(value))\n",
    "        print(row.values[0][0],row.values[0][1])\n",
    "        if(row.values[0][1] == value): \n",
    "            num_correct+=1\n",
    "        \n",
    "        add_values(row.values[0][1], value)\n",
    "        print()\n",
    "    return num_correct/len(pred_dict)"
   ]
  },
  {
   "cell_type": "code",
   "execution_count": 85,
   "metadata": {},
   "outputs": [
    {
     "name": "stdout",
     "output_type": "stream",
     "text": [
      "Dictionary key: test/XR_SHOULDER_patient12168_study1_ value: 1\n",
      "test/XR_SHOULDER_patient12168_study1_ 1\n",
      "\n",
      "Dictionary key: test/XR_FINGER_patient12241_study1_ value: 1\n",
      "test/XR_FINGER_patient12241_study1_ 1\n",
      "\n",
      "Dictionary key: test/XR_ELBOW_patient12117_study1_ value: 1\n",
      "test/XR_ELBOW_patient12117_study1_ 0\n",
      "\n",
      "Dictionary key: test/XR_FOREARM_patient12056_study1_ value: 1\n",
      "test/XR_FOREARM_patient12056_study1_ 0\n",
      "\n",
      "Dictionary key: test/XR_SHOULDER_patient12183_study1_ value: 0\n",
      "test/XR_SHOULDER_patient12183_study1_ 0\n",
      "\n",
      "Dictionary key: test/XR_HAND_patient12092_study1_ value: 1\n",
      "test/XR_HAND_patient12092_study1_ 1\n",
      "\n",
      "Dictionary key: test/XR_FOREARM_patient12067_study1_ value: 0\n",
      "test/XR_FOREARM_patient12067_study1_ 0\n",
      "\n",
      "Dictionary key: test/XR_ELBOW_patient12124_study1_ value: 1\n",
      "test/XR_ELBOW_patient12124_study1_ 1\n",
      "\n",
      "Dictionary key: test/XR_HAND_patient12076_study1_ value: 0\n",
      "test/XR_HAND_patient12076_study1_ 1\n",
      "\n",
      "Dictionary key: test/XR_ELBOW_patient12128_study1_ value: 0\n",
      "test/XR_ELBOW_patient12128_study1_ 0\n",
      "\n",
      "Dictionary key: test/XR_ELBOW_patient12111_study1_ value: 0\n",
      "test/XR_ELBOW_patient12111_study1_ 0\n",
      "\n",
      "Dictionary key: test/XR_WRIST_patient12211_study1_ value: 0\n",
      "test/XR_WRIST_patient12211_study1_ 0\n",
      "\n",
      "Dictionary key: test/XR_ELBOW_patient12132_study1_ value: 1\n",
      "test/XR_ELBOW_patient12132_study1_ 0\n",
      "\n",
      "Dictionary key: test/XR_FOREARM_patient12069_study1_ value: 0\n",
      "test/XR_FOREARM_patient12069_study1_ 0\n",
      "\n",
      "Dictionary key: test/XR_FINGER_patient12235_study1_ value: 1\n",
      "test/XR_FINGER_patient12235_study1_ 1\n",
      "\n",
      "Dictionary key: test/XR_SHOULDER_patient12184_study1_ value: 0\n",
      "test/XR_SHOULDER_patient12184_study1_ 0\n",
      "\n",
      "Dictionary key: test/XR_HUMERUS_patient12143_study1_ value: 1\n",
      "test/XR_HUMERUS_patient12143_study1_ 0\n",
      "\n",
      "Dictionary key: test/XR_HAND_patient12095_study1_ value: 0\n",
      "test/XR_HAND_patient12095_study1_ 1\n",
      "\n",
      "Dictionary key: test/XR_ELBOW_patient12126_study1_ value: 0\n",
      "test/XR_ELBOW_patient12126_study1_ 0\n",
      "\n",
      "Dictionary key: test/XR_HUMERUS_patient12160_study1_ value: 0\n",
      "test/XR_HUMERUS_patient12160_study1_ 1\n",
      "\n",
      "Dictionary key: test/XR_FINGER_patient12246_study1_ value: 0\n",
      "test/XR_FINGER_patient12246_study1_ 1\n",
      "\n",
      "Dictionary key: test/XR_WRIST_patient12209_study1_ value: 0\n",
      "test/XR_WRIST_patient12209_study1_ 0\n",
      "\n",
      "Dictionary key: test/XR_HAND_patient12096_study1_ value: 0\n",
      "test/XR_HAND_patient12096_study1_ 0\n",
      "\n",
      "Dictionary key: test/XR_WRIST_patient12203_study1_ value: 1\n",
      "test/XR_WRIST_patient12203_study1_ 1\n",
      "\n",
      "Dictionary key: test/XR_WRIST_patient12199_study1_ value: 1\n",
      "test/XR_WRIST_patient12199_study1_ 0\n",
      "\n",
      "Dictionary key: test/XR_ELBOW_patient12122_study1_ value: 1\n",
      "test/XR_ELBOW_patient12122_study1_ 1\n",
      "\n",
      "Dictionary key: test/XR_HAND_patient12085_study1_ value: 1\n",
      "test/XR_HAND_patient12085_study1_ 1\n",
      "\n",
      "Dictionary key: test/XR_HAND_patient12091_study1_ value: 0\n",
      "test/XR_HAND_patient12091_study1_ 0\n",
      "\n",
      "Dictionary key: test/XR_HAND_patient12079_study1_ value: 1\n",
      "test/XR_HAND_patient12079_study1_ 1\n",
      "\n",
      "Dictionary key: test/XR_FINGER_patient12225_study1_ value: 1\n",
      "test/XR_FINGER_patient12225_study1_ 1\n",
      "\n",
      "Dictionary key: test/XR_WRIST_patient12219_study1_ value: 1\n",
      "test/XR_WRIST_patient12219_study1_ 1\n",
      "\n",
      "Dictionary key: test/XR_FOREARM_patient12054_study1_ value: 1\n",
      "test/XR_FOREARM_patient12054_study1_ 0\n",
      "\n",
      "Dictionary key: test/XR_ELBOW_patient12119_study1_ value: 0\n",
      "test/XR_ELBOW_patient12119_study1_ 1\n",
      "\n",
      "Dictionary key: test/XR_SHOULDER_patient12192_study1_ value: 0\n",
      "test/XR_SHOULDER_patient12192_study1_ 0\n",
      "\n",
      "Dictionary key: test/XR_SHOULDER_patient12188_study1_ value: 0\n",
      "test/XR_SHOULDER_patient12188_study1_ 1\n",
      "\n",
      "Dictionary key: test/XR_WRIST_patient12207_study1_ value: 1\n",
      "test/XR_WRIST_patient12207_study1_ 1\n",
      "\n",
      "Dictionary key: test/XR_ELBOW_patient12130_study1_ value: 1\n",
      "test/XR_ELBOW_patient12130_study1_ 1\n",
      "\n",
      "Dictionary key: test/XR_ELBOW_patient12108_study1_ value: 1\n",
      "test/XR_ELBOW_patient12108_study1_ 0\n",
      "\n",
      "Dictionary key: test/XR_SHOULDER_patient12185_study1_ value: 0\n",
      "test/XR_SHOULDER_patient12185_study1_ 1\n",
      "\n",
      "Dictionary key: test/XR_HAND_patient12093_study1_ value: 0\n",
      "test/XR_HAND_patient12093_study1_ 1\n",
      "\n",
      "Dictionary key: test/XR_SHOULDER_patient12173_study1_ value: 1\n",
      "test/XR_SHOULDER_patient12173_study1_ 0\n",
      "\n",
      "Dictionary key: test/XR_HAND_patient12102_study1_ value: 0\n",
      "test/XR_HAND_patient12102_study1_ 1\n",
      "\n",
      "Dictionary key: test/XR_FINGER_patient12234_study1_ value: 1\n",
      "test/XR_FINGER_patient12234_study1_ 1\n",
      "\n",
      "Dictionary key: test/XR_FINGER_patient12242_study1_ value: 1\n",
      "test/XR_FINGER_patient12242_study1_ 1\n",
      "\n",
      "Dictionary key: test/XR_FINGER_patient12236_study1_ value: 1\n",
      "test/XR_FINGER_patient12236_study1_ 1\n",
      "\n",
      "Dictionary key: test/XR_ELBOW_patient12118_study1_ value: 1\n",
      "test/XR_ELBOW_patient12118_study1_ 0\n",
      "\n",
      "Dictionary key: test/XR_SHOULDER_patient12175_study1_ value: 1\n",
      "test/XR_SHOULDER_patient12175_study1_ 1\n",
      "\n",
      "Dictionary key: test/XR_HAND_patient12081_study1_ value: 0\n",
      "test/XR_HAND_patient12081_study1_ 1\n",
      "\n",
      "Dictionary key: test/XR_HUMERUS_patient12145_study1_ value: 0\n",
      "test/XR_HUMERUS_patient12145_study1_ 0\n",
      "\n",
      "Dictionary key: test/XR_FOREARM_patient12052_study1_ value: 1\n",
      "test/XR_FOREARM_patient12052_study1_ 0\n",
      "\n",
      "Dictionary key: test/XR_SHOULDER_patient12190_study1_ value: 0\n",
      "test/XR_SHOULDER_patient12190_study1_ 0\n",
      "\n",
      "Dictionary key: test/XR_FOREARM_patient12044_study1_ value: 0\n",
      "test/XR_FOREARM_patient12044_study1_ 1\n",
      "\n",
      "Dictionary key: test/XR_FINGER_patient12249_study1_ value: 1\n",
      "test/XR_FINGER_patient12249_study1_ 1\n",
      "\n",
      "Dictionary key: test/XR_SHOULDER_patient12189_study1_ value: 0\n",
      "test/XR_SHOULDER_patient12189_study1_ 1\n",
      "\n",
      "Dictionary key: test/XR_HAND_patient12094_study1_ value: 0\n",
      "test/XR_HAND_patient12094_study1_ 1\n",
      "\n",
      "Dictionary key: test/XR_HAND_patient12080_study1_ value: 1\n",
      "test/XR_HAND_patient12080_study1_ 1\n",
      "\n",
      "Dictionary key: test/XR_SHOULDER_patient12179_study1_ value: 0\n",
      "test/XR_SHOULDER_patient12179_study1_ 0\n",
      "\n",
      "Dictionary key: test/XR_SHOULDER_patient12167_study1_ value: 1\n",
      "test/XR_SHOULDER_patient12167_study1_ 0\n",
      "\n",
      "Dictionary key: test/XR_SHOULDER_patient12193_study1_ value: 0\n",
      "test/XR_SHOULDER_patient12193_study1_ 1\n",
      "\n",
      "Dictionary key: test/XR_HAND_patient12099_study1_ value: 0\n",
      "test/XR_HAND_patient12099_study1_ 1\n",
      "\n",
      "Dictionary key: test/XR_FINGER_patient12229_study1_ value: 1\n",
      "test/XR_FINGER_patient12229_study1_ 0\n",
      "\n",
      "Dictionary key: test/XR_WRIST_patient12216_study1_ value: 0\n",
      "test/XR_WRIST_patient12216_study1_ 0\n",
      "\n",
      "Dictionary key: test/XR_ELBOW_patient12105_study1_ value: 1\n",
      "test/XR_ELBOW_patient12105_study1_ 1\n",
      "\n",
      "Dictionary key: test/XR_ELBOW_patient12107_study1_ value: 1\n",
      "test/XR_ELBOW_patient12107_study1_ 1\n",
      "\n",
      "Dictionary key: test/XR_HAND_patient12101_study1_ value: 0\n",
      "test/XR_HAND_patient12101_study1_ 1\n",
      "\n",
      "Dictionary key: test/XR_SHOULDER_patient12165_study1_ value: 1\n",
      "test/XR_SHOULDER_patient12165_study1_ 1\n",
      "\n",
      "Dictionary key: test/XR_WRIST_patient12215_study1_ value: 0\n",
      "test/XR_WRIST_patient12215_study1_ 1\n",
      "\n",
      "Dictionary key: test/XR_WRIST_patient12202_study1_ value: 1\n",
      "test/XR_WRIST_patient12202_study1_ 1\n",
      "\n",
      "Dictionary key: test/XR_HAND_patient12084_study1_ value: 1\n",
      "test/XR_HAND_patient12084_study1_ 1\n",
      "\n",
      "Dictionary key: test/XR_SHOULDER_patient12170_study1_ value: 1\n",
      "test/XR_SHOULDER_patient12170_study1_ 1\n",
      "\n",
      "Dictionary key: test/XR_SHOULDER_patient12178_study1_ value: 1\n",
      "test/XR_SHOULDER_patient12178_study1_ 0\n",
      "\n",
      "Dictionary key: test/XR_HUMERUS_patient12154_study1_ value: 0\n",
      "test/XR_HUMERUS_patient12154_study1_ 1\n",
      "\n",
      "Dictionary key: test/XR_WRIST_patient12217_study1_ value: 0\n",
      "test/XR_WRIST_patient12217_study1_ 0\n",
      "\n",
      "Dictionary key: test/XR_ELBOW_patient12104_study1_ value: 1\n",
      "test/XR_ELBOW_patient12104_study1_ 1\n",
      "\n",
      "Dictionary key: test/XR_HAND_patient12090_study1_ value: 0\n",
      "test/XR_HAND_patient12090_study1_ 1\n",
      "\n",
      "Dictionary key: test/XR_FINGER_patient12226_study1_ value: 1\n",
      "test/XR_FINGER_patient12226_study1_ 0\n",
      "\n",
      "Dictionary key: test/XR_FOREARM_patient12064_study1_ value: 0\n",
      "test/XR_FOREARM_patient12064_study1_ 1\n",
      "\n",
      "Dictionary key: test/XR_FINGER_patient12250_study1_ value: 1\n",
      "test/XR_FINGER_patient12250_study1_ 0\n",
      "\n",
      "Dictionary key: test/XR_FOREARM_patient12060_study1_ value: 0\n",
      "test/XR_FOREARM_patient12060_study1_ 0\n",
      "\n",
      "Dictionary key: test/XR_ELBOW_patient12127_study1_ value: 0\n",
      "test/XR_ELBOW_patient12127_study1_ 1\n",
      "\n",
      "Dictionary key: test/XR_FOREARM_patient12072_study1_ value: 1\n",
      "test/XR_FOREARM_patient12072_study1_ 0\n",
      "\n",
      "Dictionary key: test/XR_HAND_patient12097_study1_ value: 0\n",
      "test/XR_HAND_patient12097_study1_ 0\n",
      "\n",
      "Dictionary key: test/XR_SHOULDER_patient12174_study1_ value: 1\n",
      "test/XR_SHOULDER_patient12174_study1_ 1\n",
      "\n",
      "Dictionary key: test/XR_WRIST_patient12195_study1_ value: 1\n",
      "test/XR_WRIST_patient12195_study1_ 1\n",
      "\n",
      "Dictionary key: test/XR_WRIST_patient12212_study1_ value: 1\n",
      "test/XR_WRIST_patient12212_study1_ 1\n",
      "\n",
      "Dictionary key: test/XR_WRIST_patient12198_study1_ value: 1\n",
      "test/XR_WRIST_patient12198_study1_ 1\n",
      "\n",
      "Dictionary key: test/XR_HAND_patient12074_study1_ value: 0\n",
      "test/XR_HAND_patient12074_study1_ 0\n",
      "\n",
      "Dictionary key: test/XR_HAND_patient12100_study1_ value: 0\n",
      "test/XR_HAND_patient12100_study1_ 0\n",
      "\n",
      "Dictionary key: test/XR_FINGER_patient12238_study1_ value: 0\n",
      "test/XR_FINGER_patient12238_study1_ 1\n",
      "\n",
      "Dictionary key: test/XR_WRIST_patient12205_study1_ value: 1\n",
      "test/XR_WRIST_patient12205_study1_ 1\n",
      "\n",
      "Dictionary key: test/XR_SHOULDER_patient12171_study1_ value: 1\n",
      "test/XR_SHOULDER_patient12171_study1_ 0\n",
      "\n",
      "Dictionary key: test/XR_HUMERUS_patient12141_study1_ value: 1\n",
      "test/XR_HUMERUS_patient12141_study1_ 1\n",
      "\n",
      "Dictionary key: test/XR_FOREARM_patient12071_study1_ value: 0\n",
      "test/XR_FOREARM_patient12071_study1_ 1\n",
      "\n",
      "Dictionary key: test/XR_FINGER_patient12223_study1_ value: 1\n",
      "test/XR_FINGER_patient12223_study1_ 0\n",
      "\n",
      "Dictionary key: test/XR_HUMERUS_patient12150_study1_ value: 0\n",
      "test/XR_HUMERUS_patient12150_study1_ 0\n",
      "\n",
      "Dictionary key: test/XR_SHOULDER_patient12191_study1_ value: 1\n",
      "test/XR_SHOULDER_patient12191_study1_ 1\n",
      "\n",
      "Dictionary key: test/XR_FOREARM_patient12045_study1_ value: 0\n",
      "test/XR_FOREARM_patient12045_study1_ 0\n",
      "\n",
      "Dictionary key: test/XR_WRIST_patient12197_study1_ value: 1\n",
      "test/XR_WRIST_patient12197_study1_ 0\n",
      "\n",
      "Dictionary key: test/XR_FINGER_patient12228_study1_ value: 1\n",
      "test/XR_FINGER_patient12228_study1_ 0\n",
      "\n",
      "Dictionary key: test/XR_FINGER_patient12251_study1_ value: 0\n",
      "test/XR_FINGER_patient12251_study1_ 0\n",
      "\n",
      "Dictionary key: test/XR_HUMERUS_patient12158_study1_ value: 0\n",
      "test/XR_HUMERUS_patient12158_study1_ 1\n",
      "\n",
      "Dictionary key: test/XR_FOREARM_patient12055_study1_ value: 1\n",
      "test/XR_FOREARM_patient12055_study1_ 1\n",
      "\n",
      "Dictionary key: test/XR_FOREARM_patient12048_study1_ value: 1\n",
      "test/XR_FOREARM_patient12048_study1_ 1\n",
      "\n",
      "Dictionary key: test/XR_WRIST_patient12201_study1_ value: 1\n",
      "test/XR_WRIST_patient12201_study1_ 0\n",
      "\n",
      "Dictionary key: test/XR_FOREARM_patient12062_study1_ value: 0\n",
      "test/XR_FOREARM_patient12062_study1_ 1\n",
      "\n",
      "Dictionary key: test/XR_WRIST_patient12208_study1_ value: 1\n",
      "test/XR_WRIST_patient12208_study1_ 1\n",
      "\n",
      "Dictionary key: test/XR_SHOULDER_patient12180_study1_ value: 0\n",
      "test/XR_SHOULDER_patient12180_study1_ 0\n",
      "\n",
      "Dictionary key: test/XR_WRIST_patient12196_study1_ value: 1\n",
      "test/XR_WRIST_patient12196_study1_ 1\n",
      "\n",
      "Dictionary key: test/XR_FINGER_patient12232_study1_ value: 1\n",
      "test/XR_FINGER_patient12232_study1_ 0\n",
      "\n",
      "Dictionary key: test/XR_WRIST_patient12214_study1_ value: 0\n",
      "test/XR_WRIST_patient12214_study1_ 0\n",
      "\n",
      "Dictionary key: test/XR_HAND_patient12103_study1_ value: 0\n",
      "test/XR_HAND_patient12103_study1_ 1\n",
      "\n",
      "Dictionary key: test/XR_HAND_patient12075_study1_ value: 0\n",
      "test/XR_HAND_patient12075_study1_ 1\n",
      "\n",
      "Dictionary key: test/XR_FINGER_patient12244_study1_ value: 0\n",
      "test/XR_FINGER_patient12244_study1_ 1\n",
      "\n",
      "Dictionary key: test/XR_ELBOW_patient12125_study1_ value: 0\n",
      "test/XR_ELBOW_patient12125_study1_ 0\n",
      "\n",
      "Dictionary key: test/XR_HUMERUS_patient12136_study1_ value: 1\n",
      "test/XR_HUMERUS_patient12136_study1_ 0\n",
      "\n",
      "Dictionary key: test/XR_HUMERUS_patient12163_study1_ value: 0\n",
      "test/XR_HUMERUS_patient12163_study1_ 1\n",
      "\n",
      "Dictionary key: test/XR_HUMERUS_patient12151_study1_ value: 0\n",
      "test/XR_HUMERUS_patient12151_study1_ 0\n",
      "\n",
      "Dictionary key: test/XR_FINGER_patient12156_study1_ value: 0\n",
      "test/XR_FINGER_patient12156_study1_ 1\n",
      "\n",
      "Dictionary key: test/XR_FOREARM_patient12059_study1_ value: 0\n",
      "test/XR_FOREARM_patient12059_study1_ 0\n",
      "\n",
      "Dictionary key: test/XR_HUMERUS_patient12144_study1_ value: 1\n",
      "test/XR_HUMERUS_patient12144_study1_ 0\n",
      "\n",
      "Dictionary key: test/XR_HUMERUS_patient12139_study1_ value: 1\n",
      "test/XR_HUMERUS_patient12139_study1_ 1\n",
      "\n",
      "Dictionary key: test/XR_WRIST_patient12222_study1_ value: 0\n",
      "test/XR_WRIST_patient12222_study1_ 0\n",
      "\n",
      "Dictionary key: test/XR_FINGER_patient12233_study1_ value: 0\n",
      "test/XR_FINGER_patient12233_study1_ 0\n",
      "\n",
      "Dictionary key: test/XR_FOREARM_patient12063_study1_ value: 0\n",
      "test/XR_FOREARM_patient12063_study1_ 1\n",
      "\n",
      "Dictionary key: test/XR_SHOULDER_patient12187_study1_ value: 0\n",
      "test/XR_SHOULDER_patient12187_study1_ 0\n",
      "\n",
      "Dictionary key: test/XR_SHOULDER_patient12164_study1_ value: 1\n",
      "test/XR_SHOULDER_patient12164_study1_ 1\n",
      "\n",
      "Dictionary key: test/XR_HUMERUS_patient12157_study1_ value: 0\n",
      "test/XR_HUMERUS_patient12157_study1_ 0\n",
      "\n",
      "Dictionary key: test/XR_FOREARM_patient12065_study1_ value: 0\n",
      "test/XR_FOREARM_patient12065_study1_ 1\n",
      "\n",
      "Dictionary key: test/XR_ELBOW_patient12129_study1_ value: 0\n",
      "test/XR_ELBOW_patient12129_study1_ 1\n",
      "\n",
      "Dictionary key: test/XR_FOREARM_patient12068_study1_ value: 0\n",
      "test/XR_FOREARM_patient12068_study1_ 0\n",
      "\n",
      "Dictionary key: test/XR_SHOULDER_patient12169_study1_ value: 0\n",
      "test/XR_SHOULDER_patient12169_study1_ 1\n",
      "\n",
      "Dictionary key: test/XR_WRIST_patient12204_study1_ value: 1\n",
      "test/XR_WRIST_patient12204_study1_ 1\n",
      "\n",
      "Dictionary key: test/XR_HUMERUS_patient12135_study1_ value: 1\n",
      "test/XR_HUMERUS_patient12135_study1_ 1\n",
      "\n",
      "Dictionary key: test/XR_ELBOW_patient12121_study1_ value: 0\n",
      "test/XR_ELBOW_patient12121_study1_ 1\n",
      "\n",
      "Dictionary key: test/XR_ELBOW_patient12133_study1_ value: 1\n",
      "test/XR_ELBOW_patient12133_study1_ 1\n",
      "\n",
      "Dictionary key: test/XR_ELBOW_patient12106_study1_ value: 1\n",
      "test/XR_ELBOW_patient12106_study1_ 1\n",
      "\n",
      "Dictionary key: test/XR_FOREARM_patient12050_study1_ value: 1\n",
      "test/XR_FOREARM_patient12050_study1_ 1\n",
      "\n",
      "Dictionary key: test/XR_SHOULDER_patient12166_study1_ value: 0\n",
      "test/XR_SHOULDER_patient12166_study1_ 1\n",
      "\n",
      "Dictionary key: test/XR_HUMERUS_patient12142_study1_ value: 1\n",
      "test/XR_HUMERUS_patient12142_study1_ 1\n",
      "\n",
      "Dictionary key: test/XR_FOREARM_patient12058_study1_ value: 1\n",
      "test/XR_FOREARM_patient12058_study1_ 1\n",
      "\n",
      "Dictionary key: test/XR_SHOULDER_patient12172_study1_ value: 0\n",
      "test/XR_SHOULDER_patient12172_study1_ 0\n",
      "\n",
      "Dictionary key: test/XR_HAND_patient12077_study1_ value: 1\n",
      "test/XR_HAND_patient12077_study1_ 1\n",
      "\n",
      "Dictionary key: test/XR_ELBOW_patient12112_study1_ value: 1\n",
      "test/XR_ELBOW_patient12112_study1_ 0\n",
      "\n",
      "Dictionary key: test/XR_WRIST_patient12206_study1_ value: 1\n",
      "test/XR_WRIST_patient12206_study1_ 1\n",
      "\n",
      "Dictionary key: test/XR_FINGER_patient12247_study1_ value: 0\n",
      "test/XR_FINGER_patient12247_study1_ 1\n",
      "\n",
      "Dictionary key: test/XR_ELBOW_patient12110_study1_ value: 0\n",
      "test/XR_ELBOW_patient12110_study1_ 1\n",
      "\n",
      "Dictionary key: test/XR_HAND_patient12078_study1_ value: 1\n",
      "test/XR_HAND_patient12078_study1_ 1\n",
      "\n",
      "Dictionary key: test/XR_HAND_patient12089_study1_ value: 1\n",
      "test/XR_HAND_patient12089_study1_ 1\n",
      "\n",
      "Dictionary key: test/XR_ELBOW_patient12116_study1_ value: 1\n",
      "test/XR_ELBOW_patient12116_study1_ 1\n",
      "\n",
      "Dictionary key: test/XR_HUMERUS_patient12149_study1_ value: 0\n",
      "test/XR_HUMERUS_patient12149_study1_ 1\n",
      "\n",
      "Dictionary key: test/XR_WRIST_patient12200_study1_ value: 0\n",
      "test/XR_WRIST_patient12200_study1_ 0\n",
      "\n",
      "Dictionary key: test/XR_FOREARM_patient12057_study1_ value: 1\n",
      "test/XR_FOREARM_patient12057_study1_ 0\n",
      "\n",
      "Dictionary key: test/XR_HUMERUS_patient12153_study1_ value: 1\n",
      "test/XR_HUMERUS_patient12153_study1_ 0\n",
      "\n",
      "Dictionary key: test/XR_FINGER_patient12224_study1_ value: 0\n",
      "test/XR_FINGER_patient12224_study1_ 0\n",
      "\n",
      "Dictionary key: test/XR_FINGER_patient12227_study1_ value: 1\n",
      "test/XR_FINGER_patient12227_study1_ 1\n",
      "\n",
      "Dictionary key: test/XR_FINGER_patient12237_study1_ value: 0\n",
      "test/XR_FINGER_patient12237_study1_ 0\n",
      "\n",
      "Dictionary key: test/XR_SHOULDER_patient12176_study1_ value: 1\n",
      "test/XR_SHOULDER_patient12176_study1_ 0\n",
      "\n",
      "Dictionary key: test/XR_WRIST_patient12213_study1_ value: 0\n",
      "test/XR_WRIST_patient12213_study1_ 0\n",
      "\n",
      "Dictionary key: test/XR_HUMERUS_patient12161_study1_ value: 0\n",
      "test/XR_HUMERUS_patient12161_study1_ 1\n",
      "\n",
      "Dictionary key: test/XR_FOREARM_patient12073_study1_ value: 0\n",
      "test/XR_FOREARM_patient12073_study1_ 0\n",
      "\n",
      "Dictionary key: test/XR_HUMERUS_patient12140_study1_ value: 1\n",
      "test/XR_HUMERUS_patient12140_study1_ 0\n",
      "\n",
      "Dictionary key: test/XR_FINGER_patient12239_study1_ value: 0\n",
      "test/XR_FINGER_patient12239_study1_ 0\n",
      "\n",
      "Dictionary key: test/XR_FOREARM_patient12070_study1_ value: 0\n",
      "test/XR_FOREARM_patient12070_study1_ 0\n",
      "\n",
      "Dictionary key: test/XR_HAND_patient12083_study1_ value: 0\n",
      "test/XR_HAND_patient12083_study1_ 0\n",
      "\n",
      "Dictionary key: test/XR_HUMERUS_patient12148_study1_ value: 1\n",
      "test/XR_HUMERUS_patient12148_study1_ 1\n",
      "\n",
      "Dictionary key: test/XR_FINGER_patient12231_study1_ value: 1\n",
      "test/XR_FINGER_patient12231_study1_ 1\n",
      "\n",
      "Dictionary key: test/XR_HAND_patient12098_study1_ value: 0\n",
      "test/XR_HAND_patient12098_study1_ 1\n",
      "\n",
      "Dictionary key: test/XR_HAND_patient12082_study1_ value: 1\n",
      "test/XR_HAND_patient12082_study1_ 1\n",
      "\n",
      "Dictionary key: test/XR_ELBOW_patient12109_study1_ value: 1\n",
      "test/XR_ELBOW_patient12109_study1_ 0\n",
      "\n",
      "Dictionary key: test/XR_FINGER_patient12230_study1_ value: 1\n",
      "test/XR_FINGER_patient12230_study1_ 1\n",
      "\n",
      "Dictionary key: test/XR_WRIST_patient12220_study1_ value: 0\n",
      "test/XR_WRIST_patient12220_study1_ 1\n",
      "\n",
      "Dictionary key: test/XR_HAND_patient12086_study1_ value: 0\n",
      "test/XR_HAND_patient12086_study1_ 1\n",
      "\n",
      "Dictionary key: test/XR_HUMERUS_patient12134_study1_ value: 1\n",
      "test/XR_HUMERUS_patient12134_study1_ 1\n",
      "\n",
      "Dictionary key: test/XR_FOREARM_patient12051_study1_ value: 1\n",
      "test/XR_FOREARM_patient12051_study1_ 0\n",
      "\n",
      "Dictionary key: test/XR_HUMERUS_patient12152_study1_ value: 0\n",
      "test/XR_HUMERUS_patient12152_study1_ 0\n",
      "\n",
      "Dictionary key: test/XR_HUMERUS_patient12146_study1_ value: 0\n",
      "test/XR_HUMERUS_patient12146_study1_ 0\n",
      "\n",
      "Dictionary key: test/XR_WRIST_patient12221_study1_ value: 0\n",
      "test/XR_WRIST_patient12221_study1_ 1\n",
      "\n",
      "Dictionary key: test/XR_FOREARM_patient12049_study1_ value: 0\n",
      "test/XR_FOREARM_patient12049_study1_ 1\n",
      "\n",
      "Dictionary key: test/XR_ELBOW_patient12123_study1_ value: 0\n",
      "test/XR_ELBOW_patient12123_study1_ 1\n",
      "\n",
      "Dictionary key: test/XR_HUMERUS_patient12162_study1_ value: 0\n",
      "test/XR_HUMERUS_patient12162_study1_ 1\n",
      "\n",
      "Dictionary key: test/XR_HUMERUS_patient12159_study1_ value: 0\n",
      "test/XR_HUMERUS_patient12159_study1_ 1\n",
      "\n",
      "Dictionary key: test/XR_WRIST_patient12218_study1_ value: 0\n",
      "test/XR_WRIST_patient12218_study1_ 0\n",
      "\n",
      "Dictionary key: test/XR_WRIST_patient12210_study1_ value: 1\n",
      "test/XR_WRIST_patient12210_study1_ 1\n",
      "\n",
      "Dictionary key: test/XR_FOREARM_patient12053_study1_ value: 1\n",
      "test/XR_FOREARM_patient12053_study1_ 1\n",
      "\n",
      "Dictionary key: test/XR_FINGER_patient12245_study1_ value: 0\n",
      "test/XR_FINGER_patient12245_study1_ 0\n",
      "\n",
      "Dictionary key: test/XR_HUMERUS_patient12156_study1_ value: 0\n",
      "test/XR_HUMERUS_patient12156_study1_ 0\n",
      "\n",
      "Dictionary key: test/XR_HAND_patient12088_study1_ value: 0\n",
      "test/XR_HAND_patient12088_study1_ 1\n",
      "\n",
      "Dictionary key: test/XR_SHOULDER_patient12182_study1_ value: 0\n",
      "test/XR_SHOULDER_patient12182_study1_ 0\n",
      "\n",
      "Dictionary key: test/XR_ELBOW_patient12131_study1_ value: 0\n",
      "test/XR_ELBOW_patient12131_study1_ 0\n",
      "\n",
      "Dictionary key: test/XR_ELBOW_patient12113_study1_ value: 1\n",
      "test/XR_ELBOW_patient12113_study1_ 0\n",
      "\n",
      "Dictionary key: test/XR_FINGER_patient12248_study1_ value: 0\n",
      "test/XR_FINGER_patient12248_study1_ 1\n",
      "\n",
      "Dictionary key: test/XR_HUMERUS_patient12137_study1_ value: 1\n",
      "test/XR_HUMERUS_patient12137_study1_ 1\n",
      "\n",
      "Dictionary key: test/XR_HAND_patient12087_study1_ value: 1\n",
      "test/XR_HAND_patient12087_study1_ 1\n",
      "\n",
      "Dictionary key: test/XR_WRIST_patient12194_study1_ value: 1\n",
      "test/XR_WRIST_patient12194_study1_ 0\n",
      "\n",
      "Dictionary key: test/XR_SHOULDER_patient12186_study1_ value: 1\n",
      "test/XR_SHOULDER_patient12186_study1_ 1\n",
      "\n",
      "Dictionary key: test/XR_ELBOW_patient12115_study1_ value: 0\n",
      "test/XR_ELBOW_patient12115_study1_ 0\n",
      "\n",
      "Dictionary key: test/XR_FOREARM_patient12061_study1_ value: 0\n",
      "test/XR_FOREARM_patient12061_study1_ 1\n",
      "\n",
      "Dictionary key: test/XR_ELBOW_patient12120_study1_ value: 0\n",
      "test/XR_ELBOW_patient12120_study1_ 1\n",
      "\n",
      "Dictionary key: test/XR_HUMERUS_patient12147_study1_ value: 1\n",
      "test/XR_HUMERUS_patient12147_study1_ 1\n",
      "\n",
      "Dictionary key: test/XR_SHOULDER_patient12181_study1_ value: 1\n",
      "test/XR_SHOULDER_patient12181_study1_ 0\n",
      "\n",
      "Dictionary key: test/XR_FOREARM_patient12046_study1_ value: 1\n",
      "test/XR_FOREARM_patient12046_study1_ 1\n",
      "\n",
      "Dictionary key: test/XR_HUMERUS_patient12138_study1_ value: 0\n",
      "test/XR_HUMERUS_patient12138_study1_ 1\n",
      "\n",
      "Dictionary key: test/XR_FINGER_patient12243_study1_ value: 0\n",
      "test/XR_FINGER_patient12243_study1_ 1\n",
      "\n",
      "Dictionary key: test/XR_FINGER_patient12240_study1_ value: 0\n",
      "test/XR_FINGER_patient12240_study1_ 0\n",
      "\n",
      "Dictionary key: test/XR_SHOULDER_patient12177_study1_ value: 0\n",
      "test/XR_SHOULDER_patient12177_study1_ 0\n",
      "\n",
      "Dictionary key: test/XR_FOREARM_patient12066_study1_ value: 0\n",
      "test/XR_FOREARM_patient12066_study1_ 0\n",
      "\n",
      "Dictionary key: test/XR_FOREARM_patient12047_study1_ value: 1\n",
      "test/XR_FOREARM_patient12047_study1_ 0\n",
      "\n",
      "Dictionary key: test/XR_ELBOW_patient12114_study1_ value: 1\n",
      "test/XR_ELBOW_patient12114_study1_ 1\n",
      "\n",
      "Dictionary key: test/XR_HUMERUS_patient12155_study1_ value: 0\n",
      "test/XR_HUMERUS_patient12155_study1_ 1\n",
      "\n"
     ]
    },
    {
     "data": {
      "text/plain": [
       "0.569377990430622"
      ]
     },
     "execution_count": 85,
     "metadata": {},
     "output_type": "execute_result"
    }
   ],
   "source": [
    "test_accuracy(predictions_dict, df_test)"
   ]
  },
  {
   "cell_type": "code",
   "execution_count": 86,
   "metadata": {},
   "outputs": [],
   "source": [
    "cm = confusion_matrix(y,preds);"
   ]
  },
  {
   "cell_type": "code",
   "execution_count": 87,
   "metadata": {},
   "outputs": [
    {
     "name": "stdout",
     "output_type": "stream",
     "text": [
      "[[54 35]\n",
      " [55 65]]\n"
     ]
    },
    {
     "data": {
      "image/png": "[encoded data removed]",
      "text/plain": [
       "<Figure size 432x288 with 2 Axes>"
      ]
     },
     "metadata": {},
     "output_type": "display_data"
    }
   ],
   "source": [
    "plot_confusion_matrix(cm, data.classes)"
   ]
  },
  {
   "cell_type": "code",
   "execution_count": null,
   "metadata": {},
   "outputs": [],
   "source": []
  }
 ],
 "metadata": {
  "kernelspec": {
   "display_name": "fastai",
   "language": "python",
   "name": "fastai"
  },
  "language_info": {
   "codemirror_mode": {
    "name": "ipython",
    "version": 3
   },
   "file_extension": ".py",
   "mimetype": "text/x-python",
   "name": "python",
   "nbconvert_exporter": "python",
   "pygments_lexer": "ipython3",
   "version": "3.6.5"
  }
 },
 "nbformat": 4,
 "nbformat_minor": 2
}
